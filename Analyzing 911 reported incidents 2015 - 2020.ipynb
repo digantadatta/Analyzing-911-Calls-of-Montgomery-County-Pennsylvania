{
 "cells": [
  {
   "cell_type": "markdown",
   "id": "fc095981",
   "metadata": {},
   "source": [
    "# Analyzing 911 reported incidents 2015 - 2020"
   ]
  },
  {
   "cell_type": "markdown",
   "id": "874eba7f",
   "metadata": {},
   "source": [
    "All the data in this dataset is from \"Montgomery County, Pennsylvania\"."
   ]
  },
  {
   "cell_type": "code",
   "execution_count": 42,
   "id": "d8989ef4",
   "metadata": {},
   "outputs": [
    {
     "data": {
      "text/html": [
       "        <script type=\"text/javascript\">\n",
       "        window.PlotlyConfig = {MathJaxConfig: 'local'};\n",
       "        if (window.MathJax) {MathJax.Hub.Config({SVG: {font: \"STIX-Web\"}});}\n",
       "        if (typeof require !== 'undefined') {\n",
       "        require.undef(\"plotly\");\n",
       "        requirejs.config({\n",
       "            paths: {\n",
       "                'plotly': ['https://cdn.plot.ly/plotly-2.9.0.min']\n",
       "            }\n",
       "        });\n",
       "        require(['plotly'], function(Plotly) {\n",
       "            window._Plotly = Plotly;\n",
       "        });\n",
       "        }\n",
       "        </script>\n",
       "        "
      ]
     },
     "metadata": {},
     "output_type": "display_data"
    },
    {
     "data": {
      "text/html": [
       "<div>\n",
       "<style scoped>\n",
       "    .dataframe tbody tr th:only-of-type {\n",
       "        vertical-align: middle;\n",
       "    }\n",
       "\n",
       "    .dataframe tbody tr th {\n",
       "        vertical-align: top;\n",
       "    }\n",
       "\n",
       "    .dataframe thead th {\n",
       "        text-align: right;\n",
       "    }\n",
       "</style>\n",
       "<table border=\"1\" class=\"dataframe\">\n",
       "  <thead>\n",
       "    <tr style=\"text-align: right;\">\n",
       "      <th></th>\n",
       "      <th>lat</th>\n",
       "      <th>lng</th>\n",
       "      <th>desc</th>\n",
       "      <th>zip</th>\n",
       "      <th>title</th>\n",
       "      <th>timeStamp</th>\n",
       "      <th>twp</th>\n",
       "      <th>addr</th>\n",
       "      <th>e</th>\n",
       "    </tr>\n",
       "  </thead>\n",
       "  <tbody>\n",
       "    <tr>\n",
       "      <th>0</th>\n",
       "      <td>40.297876</td>\n",
       "      <td>-75.581294</td>\n",
       "      <td>REINDEER CT &amp; DEAD END;  NEW HANOVER; Station ...</td>\n",
       "      <td>19525.0</td>\n",
       "      <td>EMS: BACK PAINS/INJURY</td>\n",
       "      <td>2015-12-10 17:10:52</td>\n",
       "      <td>NEW HANOVER</td>\n",
       "      <td>REINDEER CT &amp; DEAD END</td>\n",
       "      <td>1</td>\n",
       "    </tr>\n",
       "    <tr>\n",
       "      <th>1</th>\n",
       "      <td>40.258061</td>\n",
       "      <td>-75.264680</td>\n",
       "      <td>BRIAR PATH &amp; WHITEMARSH LN;  HATFIELD TOWNSHIP...</td>\n",
       "      <td>19446.0</td>\n",
       "      <td>EMS: DIABETIC EMERGENCY</td>\n",
       "      <td>2015-12-10 17:29:21</td>\n",
       "      <td>HATFIELD TOWNSHIP</td>\n",
       "      <td>BRIAR PATH &amp; WHITEMARSH LN</td>\n",
       "      <td>1</td>\n",
       "    </tr>\n",
       "    <tr>\n",
       "      <th>2</th>\n",
       "      <td>40.121182</td>\n",
       "      <td>-75.351975</td>\n",
       "      <td>HAWS AVE; NORRISTOWN; 2015-12-10 @ 14:39:21-St...</td>\n",
       "      <td>19401.0</td>\n",
       "      <td>Fire: GAS-ODOR/LEAK</td>\n",
       "      <td>2015-12-10 14:39:21</td>\n",
       "      <td>NORRISTOWN</td>\n",
       "      <td>HAWS AVE</td>\n",
       "      <td>1</td>\n",
       "    </tr>\n",
       "    <tr>\n",
       "      <th>3</th>\n",
       "      <td>40.116153</td>\n",
       "      <td>-75.343513</td>\n",
       "      <td>AIRY ST &amp; SWEDE ST;  NORRISTOWN; Station 308A;...</td>\n",
       "      <td>19401.0</td>\n",
       "      <td>EMS: CARDIAC EMERGENCY</td>\n",
       "      <td>2015-12-10 16:47:36</td>\n",
       "      <td>NORRISTOWN</td>\n",
       "      <td>AIRY ST &amp; SWEDE ST</td>\n",
       "      <td>1</td>\n",
       "    </tr>\n",
       "    <tr>\n",
       "      <th>4</th>\n",
       "      <td>40.251492</td>\n",
       "      <td>-75.603350</td>\n",
       "      <td>CHERRYWOOD CT &amp; DEAD END;  LOWER POTTSGROVE; S...</td>\n",
       "      <td>NaN</td>\n",
       "      <td>EMS: DIZZINESS</td>\n",
       "      <td>2015-12-10 16:56:52</td>\n",
       "      <td>LOWER POTTSGROVE</td>\n",
       "      <td>CHERRYWOOD CT &amp; DEAD END</td>\n",
       "      <td>1</td>\n",
       "    </tr>\n",
       "  </tbody>\n",
       "</table>\n",
       "</div>"
      ],
      "text/plain": [
       "         lat        lng                                               desc  \\\n",
       "0  40.297876 -75.581294  REINDEER CT & DEAD END;  NEW HANOVER; Station ...   \n",
       "1  40.258061 -75.264680  BRIAR PATH & WHITEMARSH LN;  HATFIELD TOWNSHIP...   \n",
       "2  40.121182 -75.351975  HAWS AVE; NORRISTOWN; 2015-12-10 @ 14:39:21-St...   \n",
       "3  40.116153 -75.343513  AIRY ST & SWEDE ST;  NORRISTOWN; Station 308A;...   \n",
       "4  40.251492 -75.603350  CHERRYWOOD CT & DEAD END;  LOWER POTTSGROVE; S...   \n",
       "\n",
       "       zip                    title            timeStamp                twp  \\\n",
       "0  19525.0   EMS: BACK PAINS/INJURY  2015-12-10 17:10:52        NEW HANOVER   \n",
       "1  19446.0  EMS: DIABETIC EMERGENCY  2015-12-10 17:29:21  HATFIELD TOWNSHIP   \n",
       "2  19401.0      Fire: GAS-ODOR/LEAK  2015-12-10 14:39:21         NORRISTOWN   \n",
       "3  19401.0   EMS: CARDIAC EMERGENCY  2015-12-10 16:47:36         NORRISTOWN   \n",
       "4      NaN           EMS: DIZZINESS  2015-12-10 16:56:52   LOWER POTTSGROVE   \n",
       "\n",
       "                         addr  e  \n",
       "0      REINDEER CT & DEAD END  1  \n",
       "1  BRIAR PATH & WHITEMARSH LN  1  \n",
       "2                    HAWS AVE  1  \n",
       "3          AIRY ST & SWEDE ST  1  \n",
       "4    CHERRYWOOD CT & DEAD END  1  "
      ]
     },
     "execution_count": 42,
     "metadata": {},
     "output_type": "execute_result"
    }
   ],
   "source": [
    "import numpy as np \n",
    "import pandas as pd\n",
    "import seaborn as sb\n",
    "import plotly.express as px\n",
    "import matplotlib.pyplot as plt\n",
    "from matplotlib import rcParams\n",
    "from plotly.subplots import make_subplots\n",
    "import plotly.graph_objects as go\n",
    "import datetime as dt\n",
    "import folium\n",
    "from folium.plugins import MarkerCluster\n",
    "from plotly.offline import iplot\n",
    "import cufflinks\n",
    "cufflinks.go_offline()\n",
    "cufflinks.set_config_file(world_readable=True, theme='pearl')\n",
    "plt.style.use('ggplot')\n",
    "%matplotlib inline\n",
    "\n",
    "data = pd.read_csv('911.csv')\n",
    "data.head()"
   ]
  },
  {
   "cell_type": "code",
   "execution_count": 18,
   "id": "ccb77547",
   "metadata": {},
   "outputs": [
    {
     "data": {
      "text/html": [
       "<div>\n",
       "<style scoped>\n",
       "    .dataframe tbody tr th:only-of-type {\n",
       "        vertical-align: middle;\n",
       "    }\n",
       "\n",
       "    .dataframe tbody tr th {\n",
       "        vertical-align: top;\n",
       "    }\n",
       "\n",
       "    .dataframe thead th {\n",
       "        text-align: right;\n",
       "    }\n",
       "</style>\n",
       "<table border=\"1\" class=\"dataframe\">\n",
       "  <thead>\n",
       "    <tr style=\"text-align: right;\">\n",
       "      <th></th>\n",
       "      <th>lat</th>\n",
       "      <th>lng</th>\n",
       "      <th>zip</th>\n",
       "      <th>e</th>\n",
       "    </tr>\n",
       "  </thead>\n",
       "  <tbody>\n",
       "    <tr>\n",
       "      <th>count</th>\n",
       "      <td>663522.000000</td>\n",
       "      <td>663522.000000</td>\n",
       "      <td>583323.000000</td>\n",
       "      <td>663522.0</td>\n",
       "    </tr>\n",
       "    <tr>\n",
       "      <th>mean</th>\n",
       "      <td>40.158162</td>\n",
       "      <td>-75.300105</td>\n",
       "      <td>19236.055791</td>\n",
       "      <td>1.0</td>\n",
       "    </tr>\n",
       "    <tr>\n",
       "      <th>std</th>\n",
       "      <td>0.220641</td>\n",
       "      <td>1.672884</td>\n",
       "      <td>298.222637</td>\n",
       "      <td>0.0</td>\n",
       "    </tr>\n",
       "    <tr>\n",
       "      <th>min</th>\n",
       "      <td>0.000000</td>\n",
       "      <td>-119.698206</td>\n",
       "      <td>1104.000000</td>\n",
       "      <td>1.0</td>\n",
       "    </tr>\n",
       "    <tr>\n",
       "      <th>25%</th>\n",
       "      <td>40.100344</td>\n",
       "      <td>-75.392735</td>\n",
       "      <td>19038.000000</td>\n",
       "      <td>1.0</td>\n",
       "    </tr>\n",
       "    <tr>\n",
       "      <th>50%</th>\n",
       "      <td>40.143927</td>\n",
       "      <td>-75.305143</td>\n",
       "      <td>19401.000000</td>\n",
       "      <td>1.0</td>\n",
       "    </tr>\n",
       "    <tr>\n",
       "      <th>75%</th>\n",
       "      <td>40.229008</td>\n",
       "      <td>-75.211865</td>\n",
       "      <td>19446.000000</td>\n",
       "      <td>1.0</td>\n",
       "    </tr>\n",
       "    <tr>\n",
       "      <th>max</th>\n",
       "      <td>51.335390</td>\n",
       "      <td>87.854975</td>\n",
       "      <td>77316.000000</td>\n",
       "      <td>1.0</td>\n",
       "    </tr>\n",
       "  </tbody>\n",
       "</table>\n",
       "</div>"
      ],
      "text/plain": [
       "                 lat            lng            zip         e\n",
       "count  663522.000000  663522.000000  583323.000000  663522.0\n",
       "mean       40.158162     -75.300105   19236.055791       1.0\n",
       "std         0.220641       1.672884     298.222637       0.0\n",
       "min         0.000000    -119.698206    1104.000000       1.0\n",
       "25%        40.100344     -75.392735   19038.000000       1.0\n",
       "50%        40.143927     -75.305143   19401.000000       1.0\n",
       "75%        40.229008     -75.211865   19446.000000       1.0\n",
       "max        51.335390      87.854975   77316.000000       1.0"
      ]
     },
     "execution_count": 18,
     "metadata": {},
     "output_type": "execute_result"
    }
   ],
   "source": [
    "data.describe()"
   ]
  },
  {
   "cell_type": "code",
   "execution_count": 19,
   "id": "6d242c23",
   "metadata": {},
   "outputs": [
    {
     "name": "stdout",
     "output_type": "stream",
     "text": [
      "<class 'pandas.core.frame.DataFrame'>\n",
      "RangeIndex: 663522 entries, 0 to 663521\n",
      "Data columns (total 9 columns):\n",
      " #   Column     Non-Null Count   Dtype  \n",
      "---  ------     --------------   -----  \n",
      " 0   lat        663522 non-null  float64\n",
      " 1   lng        663522 non-null  float64\n",
      " 2   desc       663522 non-null  object \n",
      " 3   zip        583323 non-null  float64\n",
      " 4   title      663522 non-null  object \n",
      " 5   timeStamp  663522 non-null  object \n",
      " 6   twp        663229 non-null  object \n",
      " 7   addr       663522 non-null  object \n",
      " 8   e          663522 non-null  int64  \n",
      "dtypes: float64(3), int64(1), object(5)\n",
      "memory usage: 45.6+ MB\n"
     ]
    }
   ],
   "source": [
    "data.info()"
   ]
  },
  {
   "cell_type": "markdown",
   "id": "eef2f6bd",
   "metadata": {},
   "source": [
    "## Lets Do Some data Cleaning for accurate Data Analyzing"
   ]
  },
  {
   "cell_type": "code",
   "execution_count": 20,
   "id": "878a67aa",
   "metadata": {},
   "outputs": [
    {
     "data": {
      "text/plain": [
       "lat              0\n",
       "lng              0\n",
       "desc             0\n",
       "zip          80199\n",
       "title            0\n",
       "timeStamp        0\n",
       "twp            293\n",
       "addr             0\n",
       "e                0\n",
       "dtype: int64"
      ]
     },
     "execution_count": 20,
     "metadata": {},
     "output_type": "execute_result"
    }
   ],
   "source": [
    "#Lets handle missing data\n",
    "\n",
    "data.isnull().sum()"
   ]
  },
  {
   "cell_type": "markdown",
   "id": "bac4f9ae",
   "metadata": {},
   "source": [
    "Lets leave zip for now we will only use it for the top 10 zip codes for most number of 911 calls."
   ]
  },
  {
   "cell_type": "code",
   "execution_count": 22,
   "id": "0eab0045",
   "metadata": {},
   "outputs": [],
   "source": [
    "data.dropna(subset=['twp'],inplace=True)"
   ]
  },
  {
   "cell_type": "code",
   "execution_count": 23,
   "id": "aba7b8e5",
   "metadata": {},
   "outputs": [
    {
     "data": {
      "text/plain": [
       "lat              0\n",
       "lng              0\n",
       "desc             0\n",
       "zip          80030\n",
       "title            0\n",
       "timeStamp        0\n",
       "twp              0\n",
       "addr             0\n",
       "e                0\n",
       "dtype: int64"
      ]
     },
     "execution_count": 23,
     "metadata": {},
     "output_type": "execute_result"
    }
   ],
   "source": [
    "data.isnull().sum()"
   ]
  },
  {
   "cell_type": "code",
   "execution_count": 24,
   "id": "86697de8",
   "metadata": {},
   "outputs": [],
   "source": [
    "#lets convery timeStamp column to dataStamp and also separate each feature like Day,Month,Year,Month\n",
    "data['timeStamp'] = pd.to_datetime(data['timeStamp'])\n",
    "data['year'] = data['timeStamp'].dt.year\n",
    "data['day'] = data['timeStamp'].dt.day\n",
    "data['month'] = data['timeStamp'].dt.month\n",
    "data['dayofweek'] = data['timeStamp'].dt.dayofweek\n",
    "data['dayofyear'] = data['timeStamp'].dt.dayofyear\n",
    "data['hour'] = data['timeStamp'].dt.hour"
   ]
  },
  {
   "cell_type": "code",
   "execution_count": 25,
   "id": "a1d5fdfe",
   "metadata": {},
   "outputs": [
    {
     "data": {
      "text/html": [
       "<div>\n",
       "<style scoped>\n",
       "    .dataframe tbody tr th:only-of-type {\n",
       "        vertical-align: middle;\n",
       "    }\n",
       "\n",
       "    .dataframe tbody tr th {\n",
       "        vertical-align: top;\n",
       "    }\n",
       "\n",
       "    .dataframe thead th {\n",
       "        text-align: right;\n",
       "    }\n",
       "</style>\n",
       "<table border=\"1\" class=\"dataframe\">\n",
       "  <thead>\n",
       "    <tr style=\"text-align: right;\">\n",
       "      <th></th>\n",
       "      <th>lat</th>\n",
       "      <th>lng</th>\n",
       "      <th>desc</th>\n",
       "      <th>zip</th>\n",
       "      <th>title</th>\n",
       "      <th>timeStamp</th>\n",
       "      <th>twp</th>\n",
       "      <th>addr</th>\n",
       "      <th>e</th>\n",
       "      <th>year</th>\n",
       "      <th>day</th>\n",
       "      <th>month</th>\n",
       "      <th>dayofweek</th>\n",
       "      <th>dayofyear</th>\n",
       "      <th>hour</th>\n",
       "    </tr>\n",
       "  </thead>\n",
       "  <tbody>\n",
       "    <tr>\n",
       "      <th>0</th>\n",
       "      <td>40.297876</td>\n",
       "      <td>-75.581294</td>\n",
       "      <td>REINDEER CT &amp; DEAD END;  NEW HANOVER; Station ...</td>\n",
       "      <td>19525.0</td>\n",
       "      <td>EMS: BACK PAINS/INJURY</td>\n",
       "      <td>2015-12-10 17:10:52</td>\n",
       "      <td>NEW HANOVER</td>\n",
       "      <td>REINDEER CT &amp; DEAD END</td>\n",
       "      <td>1</td>\n",
       "      <td>2015</td>\n",
       "      <td>10</td>\n",
       "      <td>12</td>\n",
       "      <td>3</td>\n",
       "      <td>344</td>\n",
       "      <td>17</td>\n",
       "    </tr>\n",
       "    <tr>\n",
       "      <th>1</th>\n",
       "      <td>40.258061</td>\n",
       "      <td>-75.264680</td>\n",
       "      <td>BRIAR PATH &amp; WHITEMARSH LN;  HATFIELD TOWNSHIP...</td>\n",
       "      <td>19446.0</td>\n",
       "      <td>EMS: DIABETIC EMERGENCY</td>\n",
       "      <td>2015-12-10 17:29:21</td>\n",
       "      <td>HATFIELD TOWNSHIP</td>\n",
       "      <td>BRIAR PATH &amp; WHITEMARSH LN</td>\n",
       "      <td>1</td>\n",
       "      <td>2015</td>\n",
       "      <td>10</td>\n",
       "      <td>12</td>\n",
       "      <td>3</td>\n",
       "      <td>344</td>\n",
       "      <td>17</td>\n",
       "    </tr>\n",
       "    <tr>\n",
       "      <th>2</th>\n",
       "      <td>40.121182</td>\n",
       "      <td>-75.351975</td>\n",
       "      <td>HAWS AVE; NORRISTOWN; 2015-12-10 @ 14:39:21-St...</td>\n",
       "      <td>19401.0</td>\n",
       "      <td>Fire: GAS-ODOR/LEAK</td>\n",
       "      <td>2015-12-10 14:39:21</td>\n",
       "      <td>NORRISTOWN</td>\n",
       "      <td>HAWS AVE</td>\n",
       "      <td>1</td>\n",
       "      <td>2015</td>\n",
       "      <td>10</td>\n",
       "      <td>12</td>\n",
       "      <td>3</td>\n",
       "      <td>344</td>\n",
       "      <td>14</td>\n",
       "    </tr>\n",
       "    <tr>\n",
       "      <th>3</th>\n",
       "      <td>40.116153</td>\n",
       "      <td>-75.343513</td>\n",
       "      <td>AIRY ST &amp; SWEDE ST;  NORRISTOWN; Station 308A;...</td>\n",
       "      <td>19401.0</td>\n",
       "      <td>EMS: CARDIAC EMERGENCY</td>\n",
       "      <td>2015-12-10 16:47:36</td>\n",
       "      <td>NORRISTOWN</td>\n",
       "      <td>AIRY ST &amp; SWEDE ST</td>\n",
       "      <td>1</td>\n",
       "      <td>2015</td>\n",
       "      <td>10</td>\n",
       "      <td>12</td>\n",
       "      <td>3</td>\n",
       "      <td>344</td>\n",
       "      <td>16</td>\n",
       "    </tr>\n",
       "    <tr>\n",
       "      <th>4</th>\n",
       "      <td>40.251492</td>\n",
       "      <td>-75.603350</td>\n",
       "      <td>CHERRYWOOD CT &amp; DEAD END;  LOWER POTTSGROVE; S...</td>\n",
       "      <td>NaN</td>\n",
       "      <td>EMS: DIZZINESS</td>\n",
       "      <td>2015-12-10 16:56:52</td>\n",
       "      <td>LOWER POTTSGROVE</td>\n",
       "      <td>CHERRYWOOD CT &amp; DEAD END</td>\n",
       "      <td>1</td>\n",
       "      <td>2015</td>\n",
       "      <td>10</td>\n",
       "      <td>12</td>\n",
       "      <td>3</td>\n",
       "      <td>344</td>\n",
       "      <td>16</td>\n",
       "    </tr>\n",
       "  </tbody>\n",
       "</table>\n",
       "</div>"
      ],
      "text/plain": [
       "         lat        lng                                               desc  \\\n",
       "0  40.297876 -75.581294  REINDEER CT & DEAD END;  NEW HANOVER; Station ...   \n",
       "1  40.258061 -75.264680  BRIAR PATH & WHITEMARSH LN;  HATFIELD TOWNSHIP...   \n",
       "2  40.121182 -75.351975  HAWS AVE; NORRISTOWN; 2015-12-10 @ 14:39:21-St...   \n",
       "3  40.116153 -75.343513  AIRY ST & SWEDE ST;  NORRISTOWN; Station 308A;...   \n",
       "4  40.251492 -75.603350  CHERRYWOOD CT & DEAD END;  LOWER POTTSGROVE; S...   \n",
       "\n",
       "       zip                    title           timeStamp                twp  \\\n",
       "0  19525.0   EMS: BACK PAINS/INJURY 2015-12-10 17:10:52        NEW HANOVER   \n",
       "1  19446.0  EMS: DIABETIC EMERGENCY 2015-12-10 17:29:21  HATFIELD TOWNSHIP   \n",
       "2  19401.0      Fire: GAS-ODOR/LEAK 2015-12-10 14:39:21         NORRISTOWN   \n",
       "3  19401.0   EMS: CARDIAC EMERGENCY 2015-12-10 16:47:36         NORRISTOWN   \n",
       "4      NaN           EMS: DIZZINESS 2015-12-10 16:56:52   LOWER POTTSGROVE   \n",
       "\n",
       "                         addr  e  year  day  month  dayofweek  dayofyear  hour  \n",
       "0      REINDEER CT & DEAD END  1  2015   10     12          3        344    17  \n",
       "1  BRIAR PATH & WHITEMARSH LN  1  2015   10     12          3        344    17  \n",
       "2                    HAWS AVE  1  2015   10     12          3        344    14  \n",
       "3          AIRY ST & SWEDE ST  1  2015   10     12          3        344    16  \n",
       "4    CHERRYWOOD CT & DEAD END  1  2015   10     12          3        344    16  "
      ]
     },
     "execution_count": 25,
     "metadata": {},
     "output_type": "execute_result"
    }
   ],
   "source": [
    "data.head()"
   ]
  },
  {
   "cell_type": "code",
   "execution_count": 26,
   "id": "72f6314b",
   "metadata": {},
   "outputs": [
    {
     "data": {
      "text/plain": [
       "array(['EMS', 'Fire', 'Traffic'], dtype=object)"
      ]
     },
     "execution_count": 26,
     "metadata": {},
     "output_type": "execute_result"
    }
   ],
   "source": [
    "#Adding one column to our data : 'reason_cat' for the category of reason. This will enable us to better understand and visualize the dataset.\n",
    "data['reason_cat'] = data['title'].apply(lambda x:x.split(':')[0])\n",
    "data['reason_cat'].unique()"
   ]
  },
  {
   "cell_type": "code",
   "execution_count": 27,
   "id": "44646c07",
   "metadata": {},
   "outputs": [
    {
     "data": {
      "text/plain": [
       "array(['BACK PAINS/INJURY', 'DIABETIC EMERGENCY', 'GAS',\n",
       "       'CARDIAC EMERGENCY', 'DIZZINESS', 'HEAD INJURY', 'NAUSEA/VOMITING',\n",
       "       'RESPIRATORY EMERGENCY', 'SYNCOPAL EPISODE', 'VEHICLE ACCIDENT',\n",
       "       'DISABLED VEHICLE', 'APPLIANCE FIRE', 'GENERAL WEAKNESS',\n",
       "       'CARBON MONOXIDE DETECTOR', 'UNKNOWN MEDICAL EMERGENCY',\n",
       "       'UNRESPONSIVE SUBJECT', 'ALTERED MENTAL STATUS', 'FIRE ALARM',\n",
       "       'CVA/STROKE', 'ROAD OBSTRUCTION', 'SUBJECT IN PAIN',\n",
       "       'HEMORRHAGING', 'FALL VICTIM', 'ASSAULT VICTIM', 'SEIZURES',\n",
       "       'MEDICAL ALERT ALARM', 'ABDOMINAL PAINS', 'PUMP DETAIL',\n",
       "       'FIRE INVESTIGATION', 'OVERDOSE', 'MATERNITY',\n",
       "       'UNCONSCIOUS SUBJECT', 'CHOKING', 'LACERATIONS',\n",
       "       'TRASH/DUMPSTER FIRE', 'UNKNOWN TYPE FIRE', 'BUILDING FIRE',\n",
       "       'ELECTRICAL FIRE OUTSIDE', 'DEBRIS/FLUIDS ON HIGHWAY', 'FEVER',\n",
       "       'ALLERGIC REACTION', 'VEHICLE LEAKING FUEL', 'FRACTURE',\n",
       "       'BURN VICTIM', 'RESCUE', 'WOODS/FIELD FIRE',\n",
       "       'FIRE SPECIAL SERVICE', 'VEHICLE FIRE', 'WARRANT SERVICE',\n",
       "       'S/B AT HELICOPTER LANDING', 'EMS SPECIAL SERVICE',\n",
       "       'HAZARDOUS ROAD CONDITIONS', 'DEHYDRATION', 'SHOOTING',\n",
       "       'POISONING', 'TRANSFERRED CALL', 'EYE INJURY', 'ELECTROCUTION',\n",
       "       'STABBING', 'FIRE POLICE NEEDED', 'AMPUTATION', 'ANIMAL BITE',\n",
       "       'HAZARDOUS MATERIALS INCIDENT', 'TRAIN CRASH', 'CARDIAC ARREST',\n",
       "       'PLANE CRASH', 'HEAT EXHAUSTION', 'ACTIVE SHOOTER',\n",
       "       'POLICE INFORMATION', 'BOMB DEVICE FOUND', 'INDUSTRIAL ACCIDENT',\n",
       "       'DROWNING', 'SUSPICIOUS', 'ARMED SUBJECT',\n",
       "       'STANDBY FOR ANOTHER CO', 'HIT + RUN', 'SUICIDE THREAT',\n",
       "       'ANIMAL COMPLAINT', 'PRISONER IN CUSTODY', 'SUICIDE ATTEMPT',\n",
       "       'PUBLIC SERVICE', 'BOMB THREAT', 'ELEVATOR EMERGENCY',\n",
       "       'FOOT PATROL', 'BARRICADED SUBJECT'], dtype=object)"
      ]
     },
     "execution_count": 27,
     "metadata": {},
     "output_type": "execute_result"
    }
   ],
   "source": [
    "#lets create all reasons of call\n",
    "data['title'] = data['title'].apply(lambda x:x.split(':')[1])\n",
    "data['title'] = data['title'].apply(lambda x:x.split('-')[0]).apply(lambda x:x.strip())\n",
    "data['title'].unique()"
   ]
  },
  {
   "cell_type": "code",
   "execution_count": 28,
   "id": "7e344298",
   "metadata": {},
   "outputs": [
    {
     "data": {
      "text/plain": [
       "85"
      ]
     },
     "execution_count": 28,
     "metadata": {},
     "output_type": "execute_result"
    }
   ],
   "source": [
    "# how many total reasons are there?\n",
    "data['title'].nunique()"
   ]
  },
  {
   "cell_type": "markdown",
   "id": "ee2c5edb",
   "metadata": {},
   "source": [
    "# Lets Visualize"
   ]
  },
  {
   "cell_type": "code",
   "execution_count": 30,
   "id": "c1862781",
   "metadata": {},
   "outputs": [
    {
     "data": {
      "text/html": [
       "<style type=\"text/css\">\n",
       "#T_21bef_row0_col1 {\n",
       "  background-color: #081d58;\n",
       "  color: #f1f1f1;\n",
       "}\n",
       "#T_21bef_row1_col1 {\n",
       "  background-color: #f9fdcc;\n",
       "  color: #000000;\n",
       "}\n",
       "#T_21bef_row2_col1 {\n",
       "  background-color: #ffffd9;\n",
       "  color: #000000;\n",
       "}\n",
       "</style>\n",
       "<table id=\"T_21bef\">\n",
       "  <thead>\n",
       "    <tr>\n",
       "      <th class=\"blank level0\" >&nbsp;</th>\n",
       "      <th id=\"T_21bef_level0_col0\" class=\"col_heading level0 col0\" >reason</th>\n",
       "      <th id=\"T_21bef_level0_col1\" class=\"col_heading level0 col1\" >count</th>\n",
       "    </tr>\n",
       "  </thead>\n",
       "  <tbody>\n",
       "    <tr>\n",
       "      <th id=\"T_21bef_level0_row0\" class=\"row_heading level0 row0\" >0</th>\n",
       "      <td id=\"T_21bef_row0_col0\" class=\"data row0 col0\" >EMS</td>\n",
       "      <td id=\"T_21bef_row0_col1\" class=\"data row0 col1\" >3265850</td>\n",
       "    </tr>\n",
       "    <tr>\n",
       "      <th id=\"T_21bef_level0_row1\" class=\"row_heading level0 row1\" >1</th>\n",
       "      <td id=\"T_21bef_row1_col0\" class=\"data row1 col0\" >Traffic</td>\n",
       "      <td id=\"T_21bef_row1_col1\" class=\"data row1 col1\" >227045</td>\n",
       "    </tr>\n",
       "    <tr>\n",
       "      <th id=\"T_21bef_level0_row2\" class=\"row_heading level0 row2\" >2</th>\n",
       "      <td id=\"T_21bef_row2_col0\" class=\"data row2 col0\" >Fire</td>\n",
       "      <td id=\"T_21bef_row2_col1\" class=\"data row2 col1\" >98797</td>\n",
       "    </tr>\n",
       "  </tbody>\n",
       "</table>\n"
      ],
      "text/plain": [
       "<pandas.io.formats.style.Styler at 0x2930669f910>"
      ]
     },
     "execution_count": 30,
     "metadata": {},
     "output_type": "execute_result"
    }
   ],
   "source": [
    "reason = pd.DataFrame({'reason':['EMS', 'Traffic', 'Fire'], 'count':[3265850, 227045, 98797]})\n",
    "reason.style.background_gradient(cmap='Reds', subset=['count'])"
   ]
  },
  {
   "cell_type": "code",
   "execution_count": 35,
   "id": "766b815e",
   "metadata": {},
   "outputs": [
    {
     "data": {
      "application/vnd.plotly.v1+json": {
       "config": {
        "plotlyServerURL": "https://plot.ly"
       },
       "data": [
        {
         "alignmentgroup": "True",
         "hovertemplate": "reason=%{x}<br>count=%{text}<extra></extra>",
         "legendgroup": "",
         "marker": {
          "color": [
           "rgb(102, 197, 204)",
           "rgb(246, 207, 113)",
           "rgb(248, 156, 116)",
           "rgb(220, 176, 242)",
           "rgb(135, 197, 95)",
           "rgb(158, 185, 243)",
           "rgb(254, 136, 177)",
           "rgb(201, 219, 116)",
           "rgb(139, 224, 164)",
           "rgb(180, 151, 231)",
           "rgb(179, 179, 179)"
          ],
          "pattern": {
           "shape": ""
          }
         },
         "name": "",
         "offsetgroup": "",
         "orientation": "v",
         "showlegend": false,
         "text": [
          3265850,
          227045,
          98797
         ],
         "textposition": "auto",
         "type": "bar",
         "x": [
          "EMS",
          "Traffic",
          "Fire"
         ],
         "xaxis": "x",
         "y": [
          3265850,
          227045,
          98797
         ],
         "yaxis": "y"
        }
       ],
       "layout": {
        "barmode": "relative",
        "legend": {
         "tracegroupgap": 0
        },
        "margin": {
         "t": 60
        },
        "showlegend": false,
        "template": {
         "data": {
          "bar": [
           {
            "error_x": {
             "color": "rgb(51,51,51)"
            },
            "error_y": {
             "color": "rgb(51,51,51)"
            },
            "marker": {
             "line": {
              "color": "rgb(237,237,237)",
              "width": 0.5
             },
             "pattern": {
              "fillmode": "overlay",
              "size": 10,
              "solidity": 0.2
             }
            },
            "type": "bar"
           }
          ],
          "barpolar": [
           {
            "marker": {
             "line": {
              "color": "rgb(237,237,237)",
              "width": 0.5
             },
             "pattern": {
              "fillmode": "overlay",
              "size": 10,
              "solidity": 0.2
             }
            },
            "type": "barpolar"
           }
          ],
          "carpet": [
           {
            "aaxis": {
             "endlinecolor": "rgb(51,51,51)",
             "gridcolor": "white",
             "linecolor": "white",
             "minorgridcolor": "white",
             "startlinecolor": "rgb(51,51,51)"
            },
            "baxis": {
             "endlinecolor": "rgb(51,51,51)",
             "gridcolor": "white",
             "linecolor": "white",
             "minorgridcolor": "white",
             "startlinecolor": "rgb(51,51,51)"
            },
            "type": "carpet"
           }
          ],
          "choropleth": [
           {
            "colorbar": {
             "outlinewidth": 0,
             "tickcolor": "rgb(237,237,237)",
             "ticklen": 6,
             "ticks": "inside"
            },
            "type": "choropleth"
           }
          ],
          "contour": [
           {
            "colorbar": {
             "outlinewidth": 0,
             "tickcolor": "rgb(237,237,237)",
             "ticklen": 6,
             "ticks": "inside"
            },
            "colorscale": [
             [
              0,
              "rgb(20,44,66)"
             ],
             [
              1,
              "rgb(90,179,244)"
             ]
            ],
            "type": "contour"
           }
          ],
          "contourcarpet": [
           {
            "colorbar": {
             "outlinewidth": 0,
             "tickcolor": "rgb(237,237,237)",
             "ticklen": 6,
             "ticks": "inside"
            },
            "type": "contourcarpet"
           }
          ],
          "heatmap": [
           {
            "colorbar": {
             "outlinewidth": 0,
             "tickcolor": "rgb(237,237,237)",
             "ticklen": 6,
             "ticks": "inside"
            },
            "colorscale": [
             [
              0,
              "rgb(20,44,66)"
             ],
             [
              1,
              "rgb(90,179,244)"
             ]
            ],
            "type": "heatmap"
           }
          ],
          "heatmapgl": [
           {
            "colorbar": {
             "outlinewidth": 0,
             "tickcolor": "rgb(237,237,237)",
             "ticklen": 6,
             "ticks": "inside"
            },
            "colorscale": [
             [
              0,
              "rgb(20,44,66)"
             ],
             [
              1,
              "rgb(90,179,244)"
             ]
            ],
            "type": "heatmapgl"
           }
          ],
          "histogram": [
           {
            "marker": {
             "pattern": {
              "fillmode": "overlay",
              "size": 10,
              "solidity": 0.2
             }
            },
            "type": "histogram"
           }
          ],
          "histogram2d": [
           {
            "colorbar": {
             "outlinewidth": 0,
             "tickcolor": "rgb(237,237,237)",
             "ticklen": 6,
             "ticks": "inside"
            },
            "colorscale": [
             [
              0,
              "rgb(20,44,66)"
             ],
             [
              1,
              "rgb(90,179,244)"
             ]
            ],
            "type": "histogram2d"
           }
          ],
          "histogram2dcontour": [
           {
            "colorbar": {
             "outlinewidth": 0,
             "tickcolor": "rgb(237,237,237)",
             "ticklen": 6,
             "ticks": "inside"
            },
            "colorscale": [
             [
              0,
              "rgb(20,44,66)"
             ],
             [
              1,
              "rgb(90,179,244)"
             ]
            ],
            "type": "histogram2dcontour"
           }
          ],
          "mesh3d": [
           {
            "colorbar": {
             "outlinewidth": 0,
             "tickcolor": "rgb(237,237,237)",
             "ticklen": 6,
             "ticks": "inside"
            },
            "type": "mesh3d"
           }
          ],
          "parcoords": [
           {
            "line": {
             "colorbar": {
              "outlinewidth": 0,
              "tickcolor": "rgb(237,237,237)",
              "ticklen": 6,
              "ticks": "inside"
             }
            },
            "type": "parcoords"
           }
          ],
          "pie": [
           {
            "automargin": true,
            "type": "pie"
           }
          ],
          "scatter": [
           {
            "marker": {
             "colorbar": {
              "outlinewidth": 0,
              "tickcolor": "rgb(237,237,237)",
              "ticklen": 6,
              "ticks": "inside"
             }
            },
            "type": "scatter"
           }
          ],
          "scatter3d": [
           {
            "line": {
             "colorbar": {
              "outlinewidth": 0,
              "tickcolor": "rgb(237,237,237)",
              "ticklen": 6,
              "ticks": "inside"
             }
            },
            "marker": {
             "colorbar": {
              "outlinewidth": 0,
              "tickcolor": "rgb(237,237,237)",
              "ticklen": 6,
              "ticks": "inside"
             }
            },
            "type": "scatter3d"
           }
          ],
          "scattercarpet": [
           {
            "marker": {
             "colorbar": {
              "outlinewidth": 0,
              "tickcolor": "rgb(237,237,237)",
              "ticklen": 6,
              "ticks": "inside"
             }
            },
            "type": "scattercarpet"
           }
          ],
          "scattergeo": [
           {
            "marker": {
             "colorbar": {
              "outlinewidth": 0,
              "tickcolor": "rgb(237,237,237)",
              "ticklen": 6,
              "ticks": "inside"
             }
            },
            "type": "scattergeo"
           }
          ],
          "scattergl": [
           {
            "marker": {
             "colorbar": {
              "outlinewidth": 0,
              "tickcolor": "rgb(237,237,237)",
              "ticklen": 6,
              "ticks": "inside"
             }
            },
            "type": "scattergl"
           }
          ],
          "scattermapbox": [
           {
            "marker": {
             "colorbar": {
              "outlinewidth": 0,
              "tickcolor": "rgb(237,237,237)",
              "ticklen": 6,
              "ticks": "inside"
             }
            },
            "type": "scattermapbox"
           }
          ],
          "scatterpolar": [
           {
            "marker": {
             "colorbar": {
              "outlinewidth": 0,
              "tickcolor": "rgb(237,237,237)",
              "ticklen": 6,
              "ticks": "inside"
             }
            },
            "type": "scatterpolar"
           }
          ],
          "scatterpolargl": [
           {
            "marker": {
             "colorbar": {
              "outlinewidth": 0,
              "tickcolor": "rgb(237,237,237)",
              "ticklen": 6,
              "ticks": "inside"
             }
            },
            "type": "scatterpolargl"
           }
          ],
          "scatterternary": [
           {
            "marker": {
             "colorbar": {
              "outlinewidth": 0,
              "tickcolor": "rgb(237,237,237)",
              "ticklen": 6,
              "ticks": "inside"
             }
            },
            "type": "scatterternary"
           }
          ],
          "surface": [
           {
            "colorbar": {
             "outlinewidth": 0,
             "tickcolor": "rgb(237,237,237)",
             "ticklen": 6,
             "ticks": "inside"
            },
            "colorscale": [
             [
              0,
              "rgb(20,44,66)"
             ],
             [
              1,
              "rgb(90,179,244)"
             ]
            ],
            "type": "surface"
           }
          ],
          "table": [
           {
            "cells": {
             "fill": {
              "color": "rgb(237,237,237)"
             },
             "line": {
              "color": "white"
             }
            },
            "header": {
             "fill": {
              "color": "rgb(217,217,217)"
             },
             "line": {
              "color": "white"
             }
            },
            "type": "table"
           }
          ]
         },
         "layout": {
          "annotationdefaults": {
           "arrowhead": 0,
           "arrowwidth": 1
          },
          "autotypenumbers": "strict",
          "coloraxis": {
           "colorbar": {
            "outlinewidth": 0,
            "tickcolor": "rgb(237,237,237)",
            "ticklen": 6,
            "ticks": "inside"
           }
          },
          "colorscale": {
           "sequential": [
            [
             0,
             "rgb(20,44,66)"
            ],
            [
             1,
             "rgb(90,179,244)"
            ]
           ],
           "sequentialminus": [
            [
             0,
             "rgb(20,44,66)"
            ],
            [
             1,
             "rgb(90,179,244)"
            ]
           ]
          },
          "colorway": [
           "#F8766D",
           "#A3A500",
           "#00BF7D",
           "#00B0F6",
           "#E76BF3"
          ],
          "font": {
           "color": "rgb(51,51,51)"
          },
          "geo": {
           "bgcolor": "white",
           "lakecolor": "white",
           "landcolor": "rgb(237,237,237)",
           "showlakes": true,
           "showland": true,
           "subunitcolor": "white"
          },
          "hoverlabel": {
           "align": "left"
          },
          "hovermode": "closest",
          "paper_bgcolor": "white",
          "plot_bgcolor": "rgb(237,237,237)",
          "polar": {
           "angularaxis": {
            "gridcolor": "white",
            "linecolor": "white",
            "showgrid": true,
            "tickcolor": "rgb(51,51,51)",
            "ticks": "outside"
           },
           "bgcolor": "rgb(237,237,237)",
           "radialaxis": {
            "gridcolor": "white",
            "linecolor": "white",
            "showgrid": true,
            "tickcolor": "rgb(51,51,51)",
            "ticks": "outside"
           }
          },
          "scene": {
           "xaxis": {
            "backgroundcolor": "rgb(237,237,237)",
            "gridcolor": "white",
            "gridwidth": 2,
            "linecolor": "white",
            "showbackground": true,
            "showgrid": true,
            "tickcolor": "rgb(51,51,51)",
            "ticks": "outside",
            "zerolinecolor": "white"
           },
           "yaxis": {
            "backgroundcolor": "rgb(237,237,237)",
            "gridcolor": "white",
            "gridwidth": 2,
            "linecolor": "white",
            "showbackground": true,
            "showgrid": true,
            "tickcolor": "rgb(51,51,51)",
            "ticks": "outside",
            "zerolinecolor": "white"
           },
           "zaxis": {
            "backgroundcolor": "rgb(237,237,237)",
            "gridcolor": "white",
            "gridwidth": 2,
            "linecolor": "white",
            "showbackground": true,
            "showgrid": true,
            "tickcolor": "rgb(51,51,51)",
            "ticks": "outside",
            "zerolinecolor": "white"
           }
          },
          "shapedefaults": {
           "fillcolor": "black",
           "line": {
            "width": 0
           },
           "opacity": 0.3
          },
          "ternary": {
           "aaxis": {
            "gridcolor": "white",
            "linecolor": "white",
            "showgrid": true,
            "tickcolor": "rgb(51,51,51)",
            "ticks": "outside"
           },
           "baxis": {
            "gridcolor": "white",
            "linecolor": "white",
            "showgrid": true,
            "tickcolor": "rgb(51,51,51)",
            "ticks": "outside"
           },
           "bgcolor": "rgb(237,237,237)",
           "caxis": {
            "gridcolor": "white",
            "linecolor": "white",
            "showgrid": true,
            "tickcolor": "rgb(51,51,51)",
            "ticks": "outside"
           }
          },
          "xaxis": {
           "automargin": true,
           "gridcolor": "white",
           "linecolor": "white",
           "showgrid": true,
           "tickcolor": "rgb(51,51,51)",
           "ticks": "outside",
           "title": {
            "standoff": 15
           },
           "zerolinecolor": "white"
          },
          "yaxis": {
           "automargin": true,
           "gridcolor": "white",
           "linecolor": "white",
           "showgrid": true,
           "tickcolor": "rgb(51,51,51)",
           "ticks": "outside",
           "title": {
            "standoff": 15
           },
           "zerolinecolor": "white"
          }
         }
        },
        "title": {
         "text": "Category of Reasons for 911 Calls",
         "x": 0.5,
         "xanchor": "center",
         "y": 0.98,
         "yanchor": "top"
        },
        "xaxis": {
         "anchor": "y",
         "domain": [
          0,
          1
         ],
         "title": {
          "text": "Reason Category"
         }
        },
        "yaxis": {
         "anchor": "x",
         "domain": [
          0,
          1
         ],
         "title": {
          "text": "Count"
         }
        }
       }
      },
      "text/html": [
       "<div>                            <div id=\"2ac53475-07ce-4435-bb51-f2cd7fab869a\" class=\"plotly-graph-div\" style=\"height:525px; width:100%;\"></div>            <script type=\"text/javascript\">                require([\"plotly\"], function(Plotly) {                    window.PLOTLYENV=window.PLOTLYENV || {};                                    if (document.getElementById(\"2ac53475-07ce-4435-bb51-f2cd7fab869a\")) {                    Plotly.newPlot(                        \"2ac53475-07ce-4435-bb51-f2cd7fab869a\",                        [{\"alignmentgroup\":\"True\",\"hovertemplate\":\"reason=%{x}<br>count=%{text}<extra></extra>\",\"legendgroup\":\"\",\"marker\":{\"color\":[\"rgb(102, 197, 204)\",\"rgb(246, 207, 113)\",\"rgb(248, 156, 116)\",\"rgb(220, 176, 242)\",\"rgb(135, 197, 95)\",\"rgb(158, 185, 243)\",\"rgb(254, 136, 177)\",\"rgb(201, 219, 116)\",\"rgb(139, 224, 164)\",\"rgb(180, 151, 231)\",\"rgb(179, 179, 179)\"],\"pattern\":{\"shape\":\"\"}},\"name\":\"\",\"offsetgroup\":\"\",\"orientation\":\"v\",\"showlegend\":false,\"text\":[3265850.0,227045.0,98797.0],\"textposition\":\"auto\",\"x\":[\"EMS\",\"Traffic\",\"Fire\"],\"xaxis\":\"x\",\"y\":[3265850,227045,98797],\"yaxis\":\"y\",\"type\":\"bar\"}],                        {\"template\":{\"data\":{\"barpolar\":[{\"marker\":{\"line\":{\"color\":\"rgb(237,237,237)\",\"width\":0.5},\"pattern\":{\"fillmode\":\"overlay\",\"size\":10,\"solidity\":0.2}},\"type\":\"barpolar\"}],\"bar\":[{\"error_x\":{\"color\":\"rgb(51,51,51)\"},\"error_y\":{\"color\":\"rgb(51,51,51)\"},\"marker\":{\"line\":{\"color\":\"rgb(237,237,237)\",\"width\":0.5},\"pattern\":{\"fillmode\":\"overlay\",\"size\":10,\"solidity\":0.2}},\"type\":\"bar\"}],\"carpet\":[{\"aaxis\":{\"endlinecolor\":\"rgb(51,51,51)\",\"gridcolor\":\"white\",\"linecolor\":\"white\",\"minorgridcolor\":\"white\",\"startlinecolor\":\"rgb(51,51,51)\"},\"baxis\":{\"endlinecolor\":\"rgb(51,51,51)\",\"gridcolor\":\"white\",\"linecolor\":\"white\",\"minorgridcolor\":\"white\",\"startlinecolor\":\"rgb(51,51,51)\"},\"type\":\"carpet\"}],\"choropleth\":[{\"colorbar\":{\"outlinewidth\":0,\"tickcolor\":\"rgb(237,237,237)\",\"ticklen\":6,\"ticks\":\"inside\"},\"type\":\"choropleth\"}],\"contourcarpet\":[{\"colorbar\":{\"outlinewidth\":0,\"tickcolor\":\"rgb(237,237,237)\",\"ticklen\":6,\"ticks\":\"inside\"},\"type\":\"contourcarpet\"}],\"contour\":[{\"colorbar\":{\"outlinewidth\":0,\"tickcolor\":\"rgb(237,237,237)\",\"ticklen\":6,\"ticks\":\"inside\"},\"colorscale\":[[0,\"rgb(20,44,66)\"],[1,\"rgb(90,179,244)\"]],\"type\":\"contour\"}],\"heatmapgl\":[{\"colorbar\":{\"outlinewidth\":0,\"tickcolor\":\"rgb(237,237,237)\",\"ticklen\":6,\"ticks\":\"inside\"},\"colorscale\":[[0,\"rgb(20,44,66)\"],[1,\"rgb(90,179,244)\"]],\"type\":\"heatmapgl\"}],\"heatmap\":[{\"colorbar\":{\"outlinewidth\":0,\"tickcolor\":\"rgb(237,237,237)\",\"ticklen\":6,\"ticks\":\"inside\"},\"colorscale\":[[0,\"rgb(20,44,66)\"],[1,\"rgb(90,179,244)\"]],\"type\":\"heatmap\"}],\"histogram2dcontour\":[{\"colorbar\":{\"outlinewidth\":0,\"tickcolor\":\"rgb(237,237,237)\",\"ticklen\":6,\"ticks\":\"inside\"},\"colorscale\":[[0,\"rgb(20,44,66)\"],[1,\"rgb(90,179,244)\"]],\"type\":\"histogram2dcontour\"}],\"histogram2d\":[{\"colorbar\":{\"outlinewidth\":0,\"tickcolor\":\"rgb(237,237,237)\",\"ticklen\":6,\"ticks\":\"inside\"},\"colorscale\":[[0,\"rgb(20,44,66)\"],[1,\"rgb(90,179,244)\"]],\"type\":\"histogram2d\"}],\"histogram\":[{\"marker\":{\"pattern\":{\"fillmode\":\"overlay\",\"size\":10,\"solidity\":0.2}},\"type\":\"histogram\"}],\"mesh3d\":[{\"colorbar\":{\"outlinewidth\":0,\"tickcolor\":\"rgb(237,237,237)\",\"ticklen\":6,\"ticks\":\"inside\"},\"type\":\"mesh3d\"}],\"parcoords\":[{\"line\":{\"colorbar\":{\"outlinewidth\":0,\"tickcolor\":\"rgb(237,237,237)\",\"ticklen\":6,\"ticks\":\"inside\"}},\"type\":\"parcoords\"}],\"pie\":[{\"automargin\":true,\"type\":\"pie\"}],\"scatter3d\":[{\"line\":{\"colorbar\":{\"outlinewidth\":0,\"tickcolor\":\"rgb(237,237,237)\",\"ticklen\":6,\"ticks\":\"inside\"}},\"marker\":{\"colorbar\":{\"outlinewidth\":0,\"tickcolor\":\"rgb(237,237,237)\",\"ticklen\":6,\"ticks\":\"inside\"}},\"type\":\"scatter3d\"}],\"scattercarpet\":[{\"marker\":{\"colorbar\":{\"outlinewidth\":0,\"tickcolor\":\"rgb(237,237,237)\",\"ticklen\":6,\"ticks\":\"inside\"}},\"type\":\"scattercarpet\"}],\"scattergeo\":[{\"marker\":{\"colorbar\":{\"outlinewidth\":0,\"tickcolor\":\"rgb(237,237,237)\",\"ticklen\":6,\"ticks\":\"inside\"}},\"type\":\"scattergeo\"}],\"scattergl\":[{\"marker\":{\"colorbar\":{\"outlinewidth\":0,\"tickcolor\":\"rgb(237,237,237)\",\"ticklen\":6,\"ticks\":\"inside\"}},\"type\":\"scattergl\"}],\"scattermapbox\":[{\"marker\":{\"colorbar\":{\"outlinewidth\":0,\"tickcolor\":\"rgb(237,237,237)\",\"ticklen\":6,\"ticks\":\"inside\"}},\"type\":\"scattermapbox\"}],\"scatterpolargl\":[{\"marker\":{\"colorbar\":{\"outlinewidth\":0,\"tickcolor\":\"rgb(237,237,237)\",\"ticklen\":6,\"ticks\":\"inside\"}},\"type\":\"scatterpolargl\"}],\"scatterpolar\":[{\"marker\":{\"colorbar\":{\"outlinewidth\":0,\"tickcolor\":\"rgb(237,237,237)\",\"ticklen\":6,\"ticks\":\"inside\"}},\"type\":\"scatterpolar\"}],\"scatter\":[{\"marker\":{\"colorbar\":{\"outlinewidth\":0,\"tickcolor\":\"rgb(237,237,237)\",\"ticklen\":6,\"ticks\":\"inside\"}},\"type\":\"scatter\"}],\"scatterternary\":[{\"marker\":{\"colorbar\":{\"outlinewidth\":0,\"tickcolor\":\"rgb(237,237,237)\",\"ticklen\":6,\"ticks\":\"inside\"}},\"type\":\"scatterternary\"}],\"surface\":[{\"colorbar\":{\"outlinewidth\":0,\"tickcolor\":\"rgb(237,237,237)\",\"ticklen\":6,\"ticks\":\"inside\"},\"colorscale\":[[0,\"rgb(20,44,66)\"],[1,\"rgb(90,179,244)\"]],\"type\":\"surface\"}],\"table\":[{\"cells\":{\"fill\":{\"color\":\"rgb(237,237,237)\"},\"line\":{\"color\":\"white\"}},\"header\":{\"fill\":{\"color\":\"rgb(217,217,217)\"},\"line\":{\"color\":\"white\"}},\"type\":\"table\"}]},\"layout\":{\"annotationdefaults\":{\"arrowhead\":0,\"arrowwidth\":1},\"autotypenumbers\":\"strict\",\"coloraxis\":{\"colorbar\":{\"outlinewidth\":0,\"tickcolor\":\"rgb(237,237,237)\",\"ticklen\":6,\"ticks\":\"inside\"}},\"colorscale\":{\"sequential\":[[0,\"rgb(20,44,66)\"],[1,\"rgb(90,179,244)\"]],\"sequentialminus\":[[0,\"rgb(20,44,66)\"],[1,\"rgb(90,179,244)\"]]},\"colorway\":[\"#F8766D\",\"#A3A500\",\"#00BF7D\",\"#00B0F6\",\"#E76BF3\"],\"font\":{\"color\":\"rgb(51,51,51)\"},\"geo\":{\"bgcolor\":\"white\",\"lakecolor\":\"white\",\"landcolor\":\"rgb(237,237,237)\",\"showlakes\":true,\"showland\":true,\"subunitcolor\":\"white\"},\"hoverlabel\":{\"align\":\"left\"},\"hovermode\":\"closest\",\"paper_bgcolor\":\"white\",\"plot_bgcolor\":\"rgb(237,237,237)\",\"polar\":{\"angularaxis\":{\"gridcolor\":\"white\",\"linecolor\":\"white\",\"showgrid\":true,\"tickcolor\":\"rgb(51,51,51)\",\"ticks\":\"outside\"},\"bgcolor\":\"rgb(237,237,237)\",\"radialaxis\":{\"gridcolor\":\"white\",\"linecolor\":\"white\",\"showgrid\":true,\"tickcolor\":\"rgb(51,51,51)\",\"ticks\":\"outside\"}},\"scene\":{\"xaxis\":{\"backgroundcolor\":\"rgb(237,237,237)\",\"gridcolor\":\"white\",\"gridwidth\":2,\"linecolor\":\"white\",\"showbackground\":true,\"showgrid\":true,\"tickcolor\":\"rgb(51,51,51)\",\"ticks\":\"outside\",\"zerolinecolor\":\"white\"},\"yaxis\":{\"backgroundcolor\":\"rgb(237,237,237)\",\"gridcolor\":\"white\",\"gridwidth\":2,\"linecolor\":\"white\",\"showbackground\":true,\"showgrid\":true,\"tickcolor\":\"rgb(51,51,51)\",\"ticks\":\"outside\",\"zerolinecolor\":\"white\"},\"zaxis\":{\"backgroundcolor\":\"rgb(237,237,237)\",\"gridcolor\":\"white\",\"gridwidth\":2,\"linecolor\":\"white\",\"showbackground\":true,\"showgrid\":true,\"tickcolor\":\"rgb(51,51,51)\",\"ticks\":\"outside\",\"zerolinecolor\":\"white\"}},\"shapedefaults\":{\"fillcolor\":\"black\",\"line\":{\"width\":0},\"opacity\":0.3},\"ternary\":{\"aaxis\":{\"gridcolor\":\"white\",\"linecolor\":\"white\",\"showgrid\":true,\"tickcolor\":\"rgb(51,51,51)\",\"ticks\":\"outside\"},\"baxis\":{\"gridcolor\":\"white\",\"linecolor\":\"white\",\"showgrid\":true,\"tickcolor\":\"rgb(51,51,51)\",\"ticks\":\"outside\"},\"bgcolor\":\"rgb(237,237,237)\",\"caxis\":{\"gridcolor\":\"white\",\"linecolor\":\"white\",\"showgrid\":true,\"tickcolor\":\"rgb(51,51,51)\",\"ticks\":\"outside\"}},\"xaxis\":{\"automargin\":true,\"gridcolor\":\"white\",\"linecolor\":\"white\",\"showgrid\":true,\"tickcolor\":\"rgb(51,51,51)\",\"ticks\":\"outside\",\"title\":{\"standoff\":15},\"zerolinecolor\":\"white\"},\"yaxis\":{\"automargin\":true,\"gridcolor\":\"white\",\"linecolor\":\"white\",\"showgrid\":true,\"tickcolor\":\"rgb(51,51,51)\",\"ticks\":\"outside\",\"title\":{\"standoff\":15},\"zerolinecolor\":\"white\"}}},\"xaxis\":{\"anchor\":\"y\",\"domain\":[0.0,1.0],\"title\":{\"text\":\"Reason Category\"}},\"yaxis\":{\"anchor\":\"x\",\"domain\":[0.0,1.0],\"title\":{\"text\":\"Count\"}},\"legend\":{\"tracegroupgap\":0},\"margin\":{\"t\":60},\"barmode\":\"relative\",\"title\":{\"text\":\"Category of Reasons for 911 Calls\",\"y\":0.98,\"x\":0.5,\"xanchor\":\"center\",\"yanchor\":\"top\"},\"showlegend\":false},                        {\"responsive\": true}                    ).then(function(){\n",
       "                            \n",
       "var gd = document.getElementById('2ac53475-07ce-4435-bb51-f2cd7fab869a');\n",
       "var x = new MutationObserver(function (mutations, observer) {{\n",
       "        var display = window.getComputedStyle(gd).display;\n",
       "        if (!display || display === 'none') {{\n",
       "            console.log([gd, 'removed!']);\n",
       "            Plotly.purge(gd);\n",
       "            observer.disconnect();\n",
       "        }}\n",
       "}});\n",
       "\n",
       "// Listen for the removal of the full notebook cells\n",
       "var notebookContainer = gd.closest('#notebook-container');\n",
       "if (notebookContainer) {{\n",
       "    x.observe(notebookContainer, {childList: true});\n",
       "}}\n",
       "\n",
       "// Listen for the clearing of the current output cell\n",
       "var outputEl = gd.closest('.output');\n",
       "if (outputEl) {{\n",
       "    x.observe(outputEl, {childList: true});\n",
       "}}\n",
       "\n",
       "                        })                };                });            </script>        </div>"
      ]
     },
     "metadata": {},
     "output_type": "display_data"
    },
    {
     "data": {
      "application/vnd.plotly.v1+json": {
       "config": {
        "plotlyServerURL": "https://plot.ly"
       },
       "data": [
        {
         "domain": {
          "x": [
           0,
           1
          ],
          "y": [
           0,
           1
          ]
         },
         "hole": 0.5,
         "hovertemplate": "reason=%{label}<br>count=%{value}<extra></extra>",
         "labels": [
          "EMS",
          "Traffic",
          "Fire"
         ],
         "legendgroup": "",
         "marker": {
          "line": {
           "color": "black",
           "width": 2
          }
         },
         "name": "",
         "pull": [
          0.2,
          0,
          0
         ],
         "showlegend": true,
         "textinfo": "percent+label",
         "textposition": "inside",
         "type": "pie",
         "values": [
          3265850,
          227045,
          98797
         ]
        }
       ],
       "layout": {
        "height": 600,
        "legend": {
         "tracegroupgap": 0
        },
        "margin": {
         "t": 60
        },
        "piecolorway": [
         "rgb(102, 197, 204)",
         "rgb(246, 207, 113)",
         "rgb(248, 156, 116)",
         "rgb(220, 176, 242)",
         "rgb(135, 197, 95)",
         "rgb(158, 185, 243)",
         "rgb(254, 136, 177)",
         "rgb(201, 219, 116)",
         "rgb(139, 224, 164)",
         "rgb(180, 151, 231)",
         "rgb(179, 179, 179)"
        ],
        "template": {
         "data": {
          "bar": [
           {
            "error_x": {
             "color": "#2a3f5f"
            },
            "error_y": {
             "color": "#2a3f5f"
            },
            "marker": {
             "line": {
              "color": "white",
              "width": 0.5
             },
             "pattern": {
              "fillmode": "overlay",
              "size": 10,
              "solidity": 0.2
             }
            },
            "type": "bar"
           }
          ],
          "barpolar": [
           {
            "marker": {
             "line": {
              "color": "white",
              "width": 0.5
             },
             "pattern": {
              "fillmode": "overlay",
              "size": 10,
              "solidity": 0.2
             }
            },
            "type": "barpolar"
           }
          ],
          "carpet": [
           {
            "aaxis": {
             "endlinecolor": "#2a3f5f",
             "gridcolor": "#C8D4E3",
             "linecolor": "#C8D4E3",
             "minorgridcolor": "#C8D4E3",
             "startlinecolor": "#2a3f5f"
            },
            "baxis": {
             "endlinecolor": "#2a3f5f",
             "gridcolor": "#C8D4E3",
             "linecolor": "#C8D4E3",
             "minorgridcolor": "#C8D4E3",
             "startlinecolor": "#2a3f5f"
            },
            "type": "carpet"
           }
          ],
          "choropleth": [
           {
            "colorbar": {
             "outlinewidth": 0,
             "ticks": ""
            },
            "type": "choropleth"
           }
          ],
          "contour": [
           {
            "colorbar": {
             "outlinewidth": 0,
             "ticks": ""
            },
            "colorscale": [
             [
              0,
              "#0d0887"
             ],
             [
              0.1111111111111111,
              "#46039f"
             ],
             [
              0.2222222222222222,
              "#7201a8"
             ],
             [
              0.3333333333333333,
              "#9c179e"
             ],
             [
              0.4444444444444444,
              "#bd3786"
             ],
             [
              0.5555555555555556,
              "#d8576b"
             ],
             [
              0.6666666666666666,
              "#ed7953"
             ],
             [
              0.7777777777777778,
              "#fb9f3a"
             ],
             [
              0.8888888888888888,
              "#fdca26"
             ],
             [
              1,
              "#f0f921"
             ]
            ],
            "type": "contour"
           }
          ],
          "contourcarpet": [
           {
            "colorbar": {
             "outlinewidth": 0,
             "ticks": ""
            },
            "type": "contourcarpet"
           }
          ],
          "heatmap": [
           {
            "colorbar": {
             "outlinewidth": 0,
             "ticks": ""
            },
            "colorscale": [
             [
              0,
              "#0d0887"
             ],
             [
              0.1111111111111111,
              "#46039f"
             ],
             [
              0.2222222222222222,
              "#7201a8"
             ],
             [
              0.3333333333333333,
              "#9c179e"
             ],
             [
              0.4444444444444444,
              "#bd3786"
             ],
             [
              0.5555555555555556,
              "#d8576b"
             ],
             [
              0.6666666666666666,
              "#ed7953"
             ],
             [
              0.7777777777777778,
              "#fb9f3a"
             ],
             [
              0.8888888888888888,
              "#fdca26"
             ],
             [
              1,
              "#f0f921"
             ]
            ],
            "type": "heatmap"
           }
          ],
          "heatmapgl": [
           {
            "colorbar": {
             "outlinewidth": 0,
             "ticks": ""
            },
            "colorscale": [
             [
              0,
              "#0d0887"
             ],
             [
              0.1111111111111111,
              "#46039f"
             ],
             [
              0.2222222222222222,
              "#7201a8"
             ],
             [
              0.3333333333333333,
              "#9c179e"
             ],
             [
              0.4444444444444444,
              "#bd3786"
             ],
             [
              0.5555555555555556,
              "#d8576b"
             ],
             [
              0.6666666666666666,
              "#ed7953"
             ],
             [
              0.7777777777777778,
              "#fb9f3a"
             ],
             [
              0.8888888888888888,
              "#fdca26"
             ],
             [
              1,
              "#f0f921"
             ]
            ],
            "type": "heatmapgl"
           }
          ],
          "histogram": [
           {
            "marker": {
             "pattern": {
              "fillmode": "overlay",
              "size": 10,
              "solidity": 0.2
             }
            },
            "type": "histogram"
           }
          ],
          "histogram2d": [
           {
            "colorbar": {
             "outlinewidth": 0,
             "ticks": ""
            },
            "colorscale": [
             [
              0,
              "#0d0887"
             ],
             [
              0.1111111111111111,
              "#46039f"
             ],
             [
              0.2222222222222222,
              "#7201a8"
             ],
             [
              0.3333333333333333,
              "#9c179e"
             ],
             [
              0.4444444444444444,
              "#bd3786"
             ],
             [
              0.5555555555555556,
              "#d8576b"
             ],
             [
              0.6666666666666666,
              "#ed7953"
             ],
             [
              0.7777777777777778,
              "#fb9f3a"
             ],
             [
              0.8888888888888888,
              "#fdca26"
             ],
             [
              1,
              "#f0f921"
             ]
            ],
            "type": "histogram2d"
           }
          ],
          "histogram2dcontour": [
           {
            "colorbar": {
             "outlinewidth": 0,
             "ticks": ""
            },
            "colorscale": [
             [
              0,
              "#0d0887"
             ],
             [
              0.1111111111111111,
              "#46039f"
             ],
             [
              0.2222222222222222,
              "#7201a8"
             ],
             [
              0.3333333333333333,
              "#9c179e"
             ],
             [
              0.4444444444444444,
              "#bd3786"
             ],
             [
              0.5555555555555556,
              "#d8576b"
             ],
             [
              0.6666666666666666,
              "#ed7953"
             ],
             [
              0.7777777777777778,
              "#fb9f3a"
             ],
             [
              0.8888888888888888,
              "#fdca26"
             ],
             [
              1,
              "#f0f921"
             ]
            ],
            "type": "histogram2dcontour"
           }
          ],
          "mesh3d": [
           {
            "colorbar": {
             "outlinewidth": 0,
             "ticks": ""
            },
            "type": "mesh3d"
           }
          ],
          "parcoords": [
           {
            "line": {
             "colorbar": {
              "outlinewidth": 0,
              "ticks": ""
             }
            },
            "type": "parcoords"
           }
          ],
          "pie": [
           {
            "automargin": true,
            "type": "pie"
           }
          ],
          "scatter": [
           {
            "marker": {
             "colorbar": {
              "outlinewidth": 0,
              "ticks": ""
             }
            },
            "type": "scatter"
           }
          ],
          "scatter3d": [
           {
            "line": {
             "colorbar": {
              "outlinewidth": 0,
              "ticks": ""
             }
            },
            "marker": {
             "colorbar": {
              "outlinewidth": 0,
              "ticks": ""
             }
            },
            "type": "scatter3d"
           }
          ],
          "scattercarpet": [
           {
            "marker": {
             "colorbar": {
              "outlinewidth": 0,
              "ticks": ""
             }
            },
            "type": "scattercarpet"
           }
          ],
          "scattergeo": [
           {
            "marker": {
             "colorbar": {
              "outlinewidth": 0,
              "ticks": ""
             }
            },
            "type": "scattergeo"
           }
          ],
          "scattergl": [
           {
            "marker": {
             "colorbar": {
              "outlinewidth": 0,
              "ticks": ""
             }
            },
            "type": "scattergl"
           }
          ],
          "scattermapbox": [
           {
            "marker": {
             "colorbar": {
              "outlinewidth": 0,
              "ticks": ""
             }
            },
            "type": "scattermapbox"
           }
          ],
          "scatterpolar": [
           {
            "marker": {
             "colorbar": {
              "outlinewidth": 0,
              "ticks": ""
             }
            },
            "type": "scatterpolar"
           }
          ],
          "scatterpolargl": [
           {
            "marker": {
             "colorbar": {
              "outlinewidth": 0,
              "ticks": ""
             }
            },
            "type": "scatterpolargl"
           }
          ],
          "scatterternary": [
           {
            "marker": {
             "colorbar": {
              "outlinewidth": 0,
              "ticks": ""
             }
            },
            "type": "scatterternary"
           }
          ],
          "surface": [
           {
            "colorbar": {
             "outlinewidth": 0,
             "ticks": ""
            },
            "colorscale": [
             [
              0,
              "#0d0887"
             ],
             [
              0.1111111111111111,
              "#46039f"
             ],
             [
              0.2222222222222222,
              "#7201a8"
             ],
             [
              0.3333333333333333,
              "#9c179e"
             ],
             [
              0.4444444444444444,
              "#bd3786"
             ],
             [
              0.5555555555555556,
              "#d8576b"
             ],
             [
              0.6666666666666666,
              "#ed7953"
             ],
             [
              0.7777777777777778,
              "#fb9f3a"
             ],
             [
              0.8888888888888888,
              "#fdca26"
             ],
             [
              1,
              "#f0f921"
             ]
            ],
            "type": "surface"
           }
          ],
          "table": [
           {
            "cells": {
             "fill": {
              "color": "#EBF0F8"
             },
             "line": {
              "color": "white"
             }
            },
            "header": {
             "fill": {
              "color": "#C8D4E3"
             },
             "line": {
              "color": "white"
             }
            },
            "type": "table"
           }
          ]
         },
         "layout": {
          "annotationdefaults": {
           "arrowcolor": "#2a3f5f",
           "arrowhead": 0,
           "arrowwidth": 1
          },
          "autotypenumbers": "strict",
          "coloraxis": {
           "colorbar": {
            "outlinewidth": 0,
            "ticks": ""
           }
          },
          "colorscale": {
           "diverging": [
            [
             0,
             "#8e0152"
            ],
            [
             0.1,
             "#c51b7d"
            ],
            [
             0.2,
             "#de77ae"
            ],
            [
             0.3,
             "#f1b6da"
            ],
            [
             0.4,
             "#fde0ef"
            ],
            [
             0.5,
             "#f7f7f7"
            ],
            [
             0.6,
             "#e6f5d0"
            ],
            [
             0.7,
             "#b8e186"
            ],
            [
             0.8,
             "#7fbc41"
            ],
            [
             0.9,
             "#4d9221"
            ],
            [
             1,
             "#276419"
            ]
           ],
           "sequential": [
            [
             0,
             "#0d0887"
            ],
            [
             0.1111111111111111,
             "#46039f"
            ],
            [
             0.2222222222222222,
             "#7201a8"
            ],
            [
             0.3333333333333333,
             "#9c179e"
            ],
            [
             0.4444444444444444,
             "#bd3786"
            ],
            [
             0.5555555555555556,
             "#d8576b"
            ],
            [
             0.6666666666666666,
             "#ed7953"
            ],
            [
             0.7777777777777778,
             "#fb9f3a"
            ],
            [
             0.8888888888888888,
             "#fdca26"
            ],
            [
             1,
             "#f0f921"
            ]
           ],
           "sequentialminus": [
            [
             0,
             "#0d0887"
            ],
            [
             0.1111111111111111,
             "#46039f"
            ],
            [
             0.2222222222222222,
             "#7201a8"
            ],
            [
             0.3333333333333333,
             "#9c179e"
            ],
            [
             0.4444444444444444,
             "#bd3786"
            ],
            [
             0.5555555555555556,
             "#d8576b"
            ],
            [
             0.6666666666666666,
             "#ed7953"
            ],
            [
             0.7777777777777778,
             "#fb9f3a"
            ],
            [
             0.8888888888888888,
             "#fdca26"
            ],
            [
             1,
             "#f0f921"
            ]
           ]
          },
          "colorway": [
           "#636efa",
           "#EF553B",
           "#00cc96",
           "#ab63fa",
           "#FFA15A",
           "#19d3f3",
           "#FF6692",
           "#B6E880",
           "#FF97FF",
           "#FECB52"
          ],
          "font": {
           "color": "#2a3f5f"
          },
          "geo": {
           "bgcolor": "white",
           "lakecolor": "white",
           "landcolor": "white",
           "showlakes": true,
           "showland": true,
           "subunitcolor": "#C8D4E3"
          },
          "hoverlabel": {
           "align": "left"
          },
          "hovermode": "closest",
          "mapbox": {
           "style": "light"
          },
          "paper_bgcolor": "white",
          "plot_bgcolor": "white",
          "polar": {
           "angularaxis": {
            "gridcolor": "#EBF0F8",
            "linecolor": "#EBF0F8",
            "ticks": ""
           },
           "bgcolor": "white",
           "radialaxis": {
            "gridcolor": "#EBF0F8",
            "linecolor": "#EBF0F8",
            "ticks": ""
           }
          },
          "scene": {
           "xaxis": {
            "backgroundcolor": "white",
            "gridcolor": "#DFE8F3",
            "gridwidth": 2,
            "linecolor": "#EBF0F8",
            "showbackground": true,
            "ticks": "",
            "zerolinecolor": "#EBF0F8"
           },
           "yaxis": {
            "backgroundcolor": "white",
            "gridcolor": "#DFE8F3",
            "gridwidth": 2,
            "linecolor": "#EBF0F8",
            "showbackground": true,
            "ticks": "",
            "zerolinecolor": "#EBF0F8"
           },
           "zaxis": {
            "backgroundcolor": "white",
            "gridcolor": "#DFE8F3",
            "gridwidth": 2,
            "linecolor": "#EBF0F8",
            "showbackground": true,
            "ticks": "",
            "zerolinecolor": "#EBF0F8"
           }
          },
          "shapedefaults": {
           "line": {
            "color": "#2a3f5f"
           }
          },
          "ternary": {
           "aaxis": {
            "gridcolor": "#DFE8F3",
            "linecolor": "#A2B1C6",
            "ticks": ""
           },
           "baxis": {
            "gridcolor": "#DFE8F3",
            "linecolor": "#A2B1C6",
            "ticks": ""
           },
           "bgcolor": "white",
           "caxis": {
            "gridcolor": "#DFE8F3",
            "linecolor": "#A2B1C6",
            "ticks": ""
           }
          },
          "title": {
           "x": 0.05
          },
          "xaxis": {
           "automargin": true,
           "gridcolor": "#EBF0F8",
           "linecolor": "#EBF0F8",
           "ticks": "",
           "title": {
            "standoff": 15
           },
           "zerolinecolor": "#EBF0F8",
           "zerolinewidth": 2
          },
          "yaxis": {
           "automargin": true,
           "gridcolor": "#EBF0F8",
           "linecolor": "#EBF0F8",
           "ticks": "",
           "title": {
            "standoff": 15
           },
           "zerolinecolor": "#EBF0F8",
           "zerolinewidth": 2
          }
         }
        },
        "title": {
         "text": "Category of Reasons for 911 Calls (Pie Chart)",
         "x": 0.5,
         "xanchor": "center",
         "y": 0.98,
         "yanchor": "top"
        }
       }
      },
      "text/html": [
       "<div>                            <div id=\"92959a2a-2c2a-4ecd-872d-890642fab534\" class=\"plotly-graph-div\" style=\"height:600px; width:100%;\"></div>            <script type=\"text/javascript\">                require([\"plotly\"], function(Plotly) {                    window.PLOTLYENV=window.PLOTLYENV || {};                                    if (document.getElementById(\"92959a2a-2c2a-4ecd-872d-890642fab534\")) {                    Plotly.newPlot(                        \"92959a2a-2c2a-4ecd-872d-890642fab534\",                        [{\"domain\":{\"x\":[0.0,1.0],\"y\":[0.0,1.0]},\"hole\":0.5,\"hovertemplate\":\"reason=%{label}<br>count=%{value}<extra></extra>\",\"labels\":[\"EMS\",\"Traffic\",\"Fire\"],\"legendgroup\":\"\",\"name\":\"\",\"showlegend\":true,\"values\":[3265850,227045,98797],\"type\":\"pie\",\"pull\":[0.2,0,0],\"textinfo\":\"percent+label\",\"textposition\":\"inside\",\"marker\":{\"line\":{\"width\":2,\"color\":\"black\"}}}],                        {\"template\":{\"data\":{\"barpolar\":[{\"marker\":{\"line\":{\"color\":\"white\",\"width\":0.5},\"pattern\":{\"fillmode\":\"overlay\",\"size\":10,\"solidity\":0.2}},\"type\":\"barpolar\"}],\"bar\":[{\"error_x\":{\"color\":\"#2a3f5f\"},\"error_y\":{\"color\":\"#2a3f5f\"},\"marker\":{\"line\":{\"color\":\"white\",\"width\":0.5},\"pattern\":{\"fillmode\":\"overlay\",\"size\":10,\"solidity\":0.2}},\"type\":\"bar\"}],\"carpet\":[{\"aaxis\":{\"endlinecolor\":\"#2a3f5f\",\"gridcolor\":\"#C8D4E3\",\"linecolor\":\"#C8D4E3\",\"minorgridcolor\":\"#C8D4E3\",\"startlinecolor\":\"#2a3f5f\"},\"baxis\":{\"endlinecolor\":\"#2a3f5f\",\"gridcolor\":\"#C8D4E3\",\"linecolor\":\"#C8D4E3\",\"minorgridcolor\":\"#C8D4E3\",\"startlinecolor\":\"#2a3f5f\"},\"type\":\"carpet\"}],\"choropleth\":[{\"colorbar\":{\"outlinewidth\":0,\"ticks\":\"\"},\"type\":\"choropleth\"}],\"contourcarpet\":[{\"colorbar\":{\"outlinewidth\":0,\"ticks\":\"\"},\"type\":\"contourcarpet\"}],\"contour\":[{\"colorbar\":{\"outlinewidth\":0,\"ticks\":\"\"},\"colorscale\":[[0.0,\"#0d0887\"],[0.1111111111111111,\"#46039f\"],[0.2222222222222222,\"#7201a8\"],[0.3333333333333333,\"#9c179e\"],[0.4444444444444444,\"#bd3786\"],[0.5555555555555556,\"#d8576b\"],[0.6666666666666666,\"#ed7953\"],[0.7777777777777778,\"#fb9f3a\"],[0.8888888888888888,\"#fdca26\"],[1.0,\"#f0f921\"]],\"type\":\"contour\"}],\"heatmapgl\":[{\"colorbar\":{\"outlinewidth\":0,\"ticks\":\"\"},\"colorscale\":[[0.0,\"#0d0887\"],[0.1111111111111111,\"#46039f\"],[0.2222222222222222,\"#7201a8\"],[0.3333333333333333,\"#9c179e\"],[0.4444444444444444,\"#bd3786\"],[0.5555555555555556,\"#d8576b\"],[0.6666666666666666,\"#ed7953\"],[0.7777777777777778,\"#fb9f3a\"],[0.8888888888888888,\"#fdca26\"],[1.0,\"#f0f921\"]],\"type\":\"heatmapgl\"}],\"heatmap\":[{\"colorbar\":{\"outlinewidth\":0,\"ticks\":\"\"},\"colorscale\":[[0.0,\"#0d0887\"],[0.1111111111111111,\"#46039f\"],[0.2222222222222222,\"#7201a8\"],[0.3333333333333333,\"#9c179e\"],[0.4444444444444444,\"#bd3786\"],[0.5555555555555556,\"#d8576b\"],[0.6666666666666666,\"#ed7953\"],[0.7777777777777778,\"#fb9f3a\"],[0.8888888888888888,\"#fdca26\"],[1.0,\"#f0f921\"]],\"type\":\"heatmap\"}],\"histogram2dcontour\":[{\"colorbar\":{\"outlinewidth\":0,\"ticks\":\"\"},\"colorscale\":[[0.0,\"#0d0887\"],[0.1111111111111111,\"#46039f\"],[0.2222222222222222,\"#7201a8\"],[0.3333333333333333,\"#9c179e\"],[0.4444444444444444,\"#bd3786\"],[0.5555555555555556,\"#d8576b\"],[0.6666666666666666,\"#ed7953\"],[0.7777777777777778,\"#fb9f3a\"],[0.8888888888888888,\"#fdca26\"],[1.0,\"#f0f921\"]],\"type\":\"histogram2dcontour\"}],\"histogram2d\":[{\"colorbar\":{\"outlinewidth\":0,\"ticks\":\"\"},\"colorscale\":[[0.0,\"#0d0887\"],[0.1111111111111111,\"#46039f\"],[0.2222222222222222,\"#7201a8\"],[0.3333333333333333,\"#9c179e\"],[0.4444444444444444,\"#bd3786\"],[0.5555555555555556,\"#d8576b\"],[0.6666666666666666,\"#ed7953\"],[0.7777777777777778,\"#fb9f3a\"],[0.8888888888888888,\"#fdca26\"],[1.0,\"#f0f921\"]],\"type\":\"histogram2d\"}],\"histogram\":[{\"marker\":{\"pattern\":{\"fillmode\":\"overlay\",\"size\":10,\"solidity\":0.2}},\"type\":\"histogram\"}],\"mesh3d\":[{\"colorbar\":{\"outlinewidth\":0,\"ticks\":\"\"},\"type\":\"mesh3d\"}],\"parcoords\":[{\"line\":{\"colorbar\":{\"outlinewidth\":0,\"ticks\":\"\"}},\"type\":\"parcoords\"}],\"pie\":[{\"automargin\":true,\"type\":\"pie\"}],\"scatter3d\":[{\"line\":{\"colorbar\":{\"outlinewidth\":0,\"ticks\":\"\"}},\"marker\":{\"colorbar\":{\"outlinewidth\":0,\"ticks\":\"\"}},\"type\":\"scatter3d\"}],\"scattercarpet\":[{\"marker\":{\"colorbar\":{\"outlinewidth\":0,\"ticks\":\"\"}},\"type\":\"scattercarpet\"}],\"scattergeo\":[{\"marker\":{\"colorbar\":{\"outlinewidth\":0,\"ticks\":\"\"}},\"type\":\"scattergeo\"}],\"scattergl\":[{\"marker\":{\"colorbar\":{\"outlinewidth\":0,\"ticks\":\"\"}},\"type\":\"scattergl\"}],\"scattermapbox\":[{\"marker\":{\"colorbar\":{\"outlinewidth\":0,\"ticks\":\"\"}},\"type\":\"scattermapbox\"}],\"scatterpolargl\":[{\"marker\":{\"colorbar\":{\"outlinewidth\":0,\"ticks\":\"\"}},\"type\":\"scatterpolargl\"}],\"scatterpolar\":[{\"marker\":{\"colorbar\":{\"outlinewidth\":0,\"ticks\":\"\"}},\"type\":\"scatterpolar\"}],\"scatter\":[{\"marker\":{\"colorbar\":{\"outlinewidth\":0,\"ticks\":\"\"}},\"type\":\"scatter\"}],\"scatterternary\":[{\"marker\":{\"colorbar\":{\"outlinewidth\":0,\"ticks\":\"\"}},\"type\":\"scatterternary\"}],\"surface\":[{\"colorbar\":{\"outlinewidth\":0,\"ticks\":\"\"},\"colorscale\":[[0.0,\"#0d0887\"],[0.1111111111111111,\"#46039f\"],[0.2222222222222222,\"#7201a8\"],[0.3333333333333333,\"#9c179e\"],[0.4444444444444444,\"#bd3786\"],[0.5555555555555556,\"#d8576b\"],[0.6666666666666666,\"#ed7953\"],[0.7777777777777778,\"#fb9f3a\"],[0.8888888888888888,\"#fdca26\"],[1.0,\"#f0f921\"]],\"type\":\"surface\"}],\"table\":[{\"cells\":{\"fill\":{\"color\":\"#EBF0F8\"},\"line\":{\"color\":\"white\"}},\"header\":{\"fill\":{\"color\":\"#C8D4E3\"},\"line\":{\"color\":\"white\"}},\"type\":\"table\"}]},\"layout\":{\"annotationdefaults\":{\"arrowcolor\":\"#2a3f5f\",\"arrowhead\":0,\"arrowwidth\":1},\"autotypenumbers\":\"strict\",\"coloraxis\":{\"colorbar\":{\"outlinewidth\":0,\"ticks\":\"\"}},\"colorscale\":{\"diverging\":[[0,\"#8e0152\"],[0.1,\"#c51b7d\"],[0.2,\"#de77ae\"],[0.3,\"#f1b6da\"],[0.4,\"#fde0ef\"],[0.5,\"#f7f7f7\"],[0.6,\"#e6f5d0\"],[0.7,\"#b8e186\"],[0.8,\"#7fbc41\"],[0.9,\"#4d9221\"],[1,\"#276419\"]],\"sequential\":[[0.0,\"#0d0887\"],[0.1111111111111111,\"#46039f\"],[0.2222222222222222,\"#7201a8\"],[0.3333333333333333,\"#9c179e\"],[0.4444444444444444,\"#bd3786\"],[0.5555555555555556,\"#d8576b\"],[0.6666666666666666,\"#ed7953\"],[0.7777777777777778,\"#fb9f3a\"],[0.8888888888888888,\"#fdca26\"],[1.0,\"#f0f921\"]],\"sequentialminus\":[[0.0,\"#0d0887\"],[0.1111111111111111,\"#46039f\"],[0.2222222222222222,\"#7201a8\"],[0.3333333333333333,\"#9c179e\"],[0.4444444444444444,\"#bd3786\"],[0.5555555555555556,\"#d8576b\"],[0.6666666666666666,\"#ed7953\"],[0.7777777777777778,\"#fb9f3a\"],[0.8888888888888888,\"#fdca26\"],[1.0,\"#f0f921\"]]},\"colorway\":[\"#636efa\",\"#EF553B\",\"#00cc96\",\"#ab63fa\",\"#FFA15A\",\"#19d3f3\",\"#FF6692\",\"#B6E880\",\"#FF97FF\",\"#FECB52\"],\"font\":{\"color\":\"#2a3f5f\"},\"geo\":{\"bgcolor\":\"white\",\"lakecolor\":\"white\",\"landcolor\":\"white\",\"showlakes\":true,\"showland\":true,\"subunitcolor\":\"#C8D4E3\"},\"hoverlabel\":{\"align\":\"left\"},\"hovermode\":\"closest\",\"mapbox\":{\"style\":\"light\"},\"paper_bgcolor\":\"white\",\"plot_bgcolor\":\"white\",\"polar\":{\"angularaxis\":{\"gridcolor\":\"#EBF0F8\",\"linecolor\":\"#EBF0F8\",\"ticks\":\"\"},\"bgcolor\":\"white\",\"radialaxis\":{\"gridcolor\":\"#EBF0F8\",\"linecolor\":\"#EBF0F8\",\"ticks\":\"\"}},\"scene\":{\"xaxis\":{\"backgroundcolor\":\"white\",\"gridcolor\":\"#DFE8F3\",\"gridwidth\":2,\"linecolor\":\"#EBF0F8\",\"showbackground\":true,\"ticks\":\"\",\"zerolinecolor\":\"#EBF0F8\"},\"yaxis\":{\"backgroundcolor\":\"white\",\"gridcolor\":\"#DFE8F3\",\"gridwidth\":2,\"linecolor\":\"#EBF0F8\",\"showbackground\":true,\"ticks\":\"\",\"zerolinecolor\":\"#EBF0F8\"},\"zaxis\":{\"backgroundcolor\":\"white\",\"gridcolor\":\"#DFE8F3\",\"gridwidth\":2,\"linecolor\":\"#EBF0F8\",\"showbackground\":true,\"ticks\":\"\",\"zerolinecolor\":\"#EBF0F8\"}},\"shapedefaults\":{\"line\":{\"color\":\"#2a3f5f\"}},\"ternary\":{\"aaxis\":{\"gridcolor\":\"#DFE8F3\",\"linecolor\":\"#A2B1C6\",\"ticks\":\"\"},\"baxis\":{\"gridcolor\":\"#DFE8F3\",\"linecolor\":\"#A2B1C6\",\"ticks\":\"\"},\"bgcolor\":\"white\",\"caxis\":{\"gridcolor\":\"#DFE8F3\",\"linecolor\":\"#A2B1C6\",\"ticks\":\"\"}},\"title\":{\"x\":0.05},\"xaxis\":{\"automargin\":true,\"gridcolor\":\"#EBF0F8\",\"linecolor\":\"#EBF0F8\",\"ticks\":\"\",\"title\":{\"standoff\":15},\"zerolinecolor\":\"#EBF0F8\",\"zerolinewidth\":2},\"yaxis\":{\"automargin\":true,\"gridcolor\":\"#EBF0F8\",\"linecolor\":\"#EBF0F8\",\"ticks\":\"\",\"title\":{\"standoff\":15},\"zerolinecolor\":\"#EBF0F8\",\"zerolinewidth\":2}}},\"legend\":{\"tracegroupgap\":0},\"margin\":{\"t\":60},\"piecolorway\":[\"rgb(102, 197, 204)\",\"rgb(246, 207, 113)\",\"rgb(248, 156, 116)\",\"rgb(220, 176, 242)\",\"rgb(135, 197, 95)\",\"rgb(158, 185, 243)\",\"rgb(254, 136, 177)\",\"rgb(201, 219, 116)\",\"rgb(139, 224, 164)\",\"rgb(180, 151, 231)\",\"rgb(179, 179, 179)\"],\"title\":{\"text\":\"Category of Reasons for 911 Calls (Pie Chart)\",\"y\":0.98,\"x\":0.5,\"xanchor\":\"center\",\"yanchor\":\"top\"},\"height\":600},                        {\"responsive\": true}                    ).then(function(){\n",
       "                            \n",
       "var gd = document.getElementById('92959a2a-2c2a-4ecd-872d-890642fab534');\n",
       "var x = new MutationObserver(function (mutations, observer) {{\n",
       "        var display = window.getComputedStyle(gd).display;\n",
       "        if (!display || display === 'none') {{\n",
       "            console.log([gd, 'removed!']);\n",
       "            Plotly.purge(gd);\n",
       "            observer.disconnect();\n",
       "        }}\n",
       "}});\n",
       "\n",
       "// Listen for the removal of the full notebook cells\n",
       "var notebookContainer = gd.closest('#notebook-container');\n",
       "if (notebookContainer) {{\n",
       "    x.observe(notebookContainer, {childList: true});\n",
       "}}\n",
       "\n",
       "// Listen for the clearing of the current output cell\n",
       "var outputEl = gd.closest('.output');\n",
       "if (outputEl) {{\n",
       "    x.observe(outputEl, {childList: true});\n",
       "}}\n",
       "\n",
       "                        })                };                });            </script>        </div>"
      ]
     },
     "metadata": {},
     "output_type": "display_data"
    }
   ],
   "source": [
    "# Bar Chart\n",
    "fig1 = px.bar(reason, reason['reason'], reason['count'], color_discrete_sequence=[px.colors.qualitative.Pastel], text=reason['count'])\n",
    "\n",
    "fig1.update_layout(title={\n",
    "                  'text': \"Category of Reasons for 911 Calls\",\n",
    "                  'y':0.98,\n",
    "                  'x':0.5,\n",
    "                  'xanchor': 'center',\n",
    "                  'yanchor': 'top'},\n",
    "                  xaxis_title='Reason Category',\n",
    "                  yaxis_title='Count',\n",
    "                  showlegend=False,\n",
    "                  template='ggplot2')\n",
    "\n",
    "\n",
    "\n",
    "# Pie Chart\n",
    "fig2 = px.pie(reason, reason['reason'], reason['count'], \n",
    "              color_discrete_sequence=px.colors.qualitative.Pastel, hole=0.5)\n",
    "\n",
    "fig2.update_layout(title={\n",
    "                  'text': \"Category of Reasons for 911 Calls (Pie Chart)\",\n",
    "                  'y':0.98,\n",
    "                  'x':0.5,\n",
    "                  'xanchor': 'center',\n",
    "                  'yanchor': 'top'},\n",
    "                   height=600,\n",
    "                  template='plotly_white')\n",
    "\n",
    "fig2.update_traces(textposition='inside', textinfo='percent+label', pull=[0.2, 0, 0])\n",
    "\n",
    "fig2.data[0].marker.line.width = 2\n",
    "fig2.data[0].marker.line.color = \"black\"\n",
    "\n",
    "\n",
    "\n",
    "fig1.show()\n",
    "fig2.show()"
   ]
  },
  {
   "cell_type": "markdown",
   "id": "b461d640",
   "metadata": {},
   "source": [
    "<ul><li>EMS (Emergency Medical Services) calls are the most frequent.</li>\n",
    "    <li>Traffic calls are less frequent and Fire calls being the least frequent.</li>\n",
    "    </ul>"
   ]
  },
  {
   "cell_type": "code",
   "execution_count": 37,
   "id": "8f59a954",
   "metadata": {},
   "outputs": [
    {
     "data": {
      "text/html": [
       "<style type=\"text/css\">\n",
       "#T_35c74_row0_col1 {\n",
       "  background-color: #67000d;\n",
       "  color: #f1f1f1;\n",
       "}\n",
       "#T_35c74_row1_col1 {\n",
       "  background-color: #fdc7b2;\n",
       "  color: #000000;\n",
       "}\n",
       "#T_35c74_row2_col1 {\n",
       "  background-color: #fed8c7;\n",
       "  color: #000000;\n",
       "}\n",
       "#T_35c74_row3_col1, #T_35c74_row4_col1 {\n",
       "  background-color: #fedfd0;\n",
       "  color: #000000;\n",
       "}\n",
       "#T_35c74_row5_col1 {\n",
       "  background-color: #fee1d4;\n",
       "  color: #000000;\n",
       "}\n",
       "#T_35c74_row6_col1 {\n",
       "  background-color: #feeae1;\n",
       "  color: #000000;\n",
       "}\n",
       "#T_35c74_row7_col1 {\n",
       "  background-color: #ffeee6;\n",
       "  color: #000000;\n",
       "}\n",
       "#T_35c74_row8_col1 {\n",
       "  background-color: #ffefe8;\n",
       "  color: #000000;\n",
       "}\n",
       "#T_35c74_row9_col1 {\n",
       "  background-color: #fff5f0;\n",
       "  color: #000000;\n",
       "}\n",
       "</style>\n",
       "<table id=\"T_35c74\">\n",
       "  <thead>\n",
       "    <tr>\n",
       "      <th class=\"blank level0\" >&nbsp;</th>\n",
       "      <th id=\"T_35c74_level0_col0\" class=\"col_heading level0 col0\" >index</th>\n",
       "      <th id=\"T_35c74_level0_col1\" class=\"col_heading level0 col1\" >count</th>\n",
       "    </tr>\n",
       "  </thead>\n",
       "  <tbody>\n",
       "    <tr>\n",
       "      <th id=\"T_35c74_level0_row0\" class=\"row_heading level0 row0\" >0</th>\n",
       "      <td id=\"T_35c74_row0_col0\" class=\"data row0 col0\" >VEHICLE ACCIDENT</td>\n",
       "      <td id=\"T_35c74_row0_col1\" class=\"data row0 col1\" >184661</td>\n",
       "    </tr>\n",
       "    <tr>\n",
       "      <th id=\"T_35c74_level0_row1\" class=\"row_heading level0 row1\" >1</th>\n",
       "      <td id=\"T_35c74_row1_col0\" class=\"data row1 col0\" >DISABLED VEHICLE</td>\n",
       "      <td id=\"T_35c74_row1_col1\" class=\"data row1 col1\" >47915</td>\n",
       "    </tr>\n",
       "    <tr>\n",
       "      <th id=\"T_35c74_level0_row2\" class=\"row_heading level0 row2\" >2</th>\n",
       "      <td id=\"T_35c74_row2_col0\" class=\"data row2 col0\" >FIRE ALARM</td>\n",
       "      <td id=\"T_35c74_row2_col1\" class=\"data row2 col1\" >38444</td>\n",
       "    </tr>\n",
       "    <tr>\n",
       "      <th id=\"T_35c74_level0_row3\" class=\"row_heading level0 row3\" >3</th>\n",
       "      <td id=\"T_35c74_row3_col0\" class=\"data row3 col0\" >FALL VICTIM</td>\n",
       "      <td id=\"T_35c74_row3_col1\" class=\"data row3 col1\" >34675</td>\n",
       "    </tr>\n",
       "    <tr>\n",
       "      <th id=\"T_35c74_level0_row4\" class=\"row_heading level0 row4\" >4</th>\n",
       "      <td id=\"T_35c74_row4_col0\" class=\"data row4 col0\" >RESPIRATORY EMERGENCY</td>\n",
       "      <td id=\"T_35c74_row4_col1\" class=\"data row4 col1\" >34241</td>\n",
       "    </tr>\n",
       "    <tr>\n",
       "      <th id=\"T_35c74_level0_row5\" class=\"row_heading level0 row5\" >5</th>\n",
       "      <td id=\"T_35c74_row5_col0\" class=\"data row5 col0\" >CARDIAC EMERGENCY</td>\n",
       "      <td id=\"T_35c74_row5_col1\" class=\"data row5 col1\" >32329</td>\n",
       "    </tr>\n",
       "    <tr>\n",
       "      <th id=\"T_35c74_level0_row6\" class=\"row_heading level0 row6\" >6</th>\n",
       "      <td id=\"T_35c74_row6_col0\" class=\"data row6 col0\" >ROAD OBSTRUCTION</td>\n",
       "      <td id=\"T_35c74_row6_col1\" class=\"data row6 col1\" >23237</td>\n",
       "    </tr>\n",
       "    <tr>\n",
       "      <th id=\"T_35c74_level0_row7\" class=\"row_heading level0 row7\" >7</th>\n",
       "      <td id=\"T_35c74_row7_col0\" class=\"data row7 col0\" >SUBJECT IN PAIN</td>\n",
       "      <td id=\"T_35c74_row7_col1\" class=\"data row7 col1\" >19644</td>\n",
       "    </tr>\n",
       "    <tr>\n",
       "      <th id=\"T_35c74_level0_row8\" class=\"row_heading level0 row8\" >8</th>\n",
       "      <td id=\"T_35c74_row8_col0\" class=\"data row8 col0\" >HEAD INJURY</td>\n",
       "      <td id=\"T_35c74_row8_col1\" class=\"data row8 col1\" >18301</td>\n",
       "    </tr>\n",
       "    <tr>\n",
       "      <th id=\"T_35c74_level0_row9\" class=\"row_heading level0 row9\" >9</th>\n",
       "      <td id=\"T_35c74_row9_col0\" class=\"data row9 col0\" >GENERAL WEAKNESS</td>\n",
       "      <td id=\"T_35c74_row9_col1\" class=\"data row9 col1\" >11866</td>\n",
       "    </tr>\n",
       "  </tbody>\n",
       "</table>\n"
      ],
      "text/plain": [
       "<pandas.io.formats.style.Styler at 0x293125ac7f0>"
      ]
     },
     "execution_count": 37,
     "metadata": {},
     "output_type": "execute_result"
    }
   ],
   "source": [
    "#Top 10 reasons for 911 calls in \"Montgomery County, Pennsylvania\".\n",
    "\n",
    "data['title'].value_counts()\\\n",
    "             .head(10)\\\n",
    "             .to_frame(name='count')\\\n",
    "             .reset_index()\\\n",
    "             .style.background_gradient(cmap='Reds', subset=['count'])"
   ]
  },
  {
   "cell_type": "code",
   "execution_count": 38,
   "id": "6b7c396a",
   "metadata": {},
   "outputs": [
    {
     "data": {
      "application/vnd.plotly.v1+json": {
       "config": {
        "linkText": "Export to plot.ly",
        "plotlyServerURL": "https://plot.ly",
        "showLink": true
       },
       "data": [
        {
         "marker": {
          "color": "rgba(219, 64, 82, 0.6)",
          "line": {
           "color": "rgba(219, 64, 82, 1.0)",
           "width": 1
          }
         },
         "name": "title",
         "orientation": "v",
         "text": "",
         "type": "bar",
         "x": [
          "VEHICLE ACCIDENT",
          "DISABLED VEHICLE",
          "FIRE ALARM",
          "FALL VICTIM",
          "RESPIRATORY EMERGENCY",
          "CARDIAC EMERGENCY",
          "ROAD OBSTRUCTION",
          "SUBJECT IN PAIN",
          "HEAD INJURY",
          "GENERAL WEAKNESS"
         ],
         "y": [
          184661,
          47915,
          38444,
          34675,
          34241,
          32329,
          23237,
          19644,
          18301,
          11866
         ]
        }
       ],
       "layout": {
        "bargap": 0.4,
        "legend": {
         "bgcolor": "#F5F6F9",
         "font": {
          "color": "#4D5663"
         }
        },
        "paper_bgcolor": "#F5F6F9",
        "plot_bgcolor": "#F5F6F9",
        "template": {
         "data": {
          "bar": [
           {
            "error_x": {
             "color": "#2a3f5f"
            },
            "error_y": {
             "color": "#2a3f5f"
            },
            "marker": {
             "line": {
              "color": "#E5ECF6",
              "width": 0.5
             },
             "pattern": {
              "fillmode": "overlay",
              "size": 10,
              "solidity": 0.2
             }
            },
            "type": "bar"
           }
          ],
          "barpolar": [
           {
            "marker": {
             "line": {
              "color": "#E5ECF6",
              "width": 0.5
             },
             "pattern": {
              "fillmode": "overlay",
              "size": 10,
              "solidity": 0.2
             }
            },
            "type": "barpolar"
           }
          ],
          "carpet": [
           {
            "aaxis": {
             "endlinecolor": "#2a3f5f",
             "gridcolor": "white",
             "linecolor": "white",
             "minorgridcolor": "white",
             "startlinecolor": "#2a3f5f"
            },
            "baxis": {
             "endlinecolor": "#2a3f5f",
             "gridcolor": "white",
             "linecolor": "white",
             "minorgridcolor": "white",
             "startlinecolor": "#2a3f5f"
            },
            "type": "carpet"
           }
          ],
          "choropleth": [
           {
            "colorbar": {
             "outlinewidth": 0,
             "ticks": ""
            },
            "type": "choropleth"
           }
          ],
          "contour": [
           {
            "colorbar": {
             "outlinewidth": 0,
             "ticks": ""
            },
            "colorscale": [
             [
              0,
              "#0d0887"
             ],
             [
              0.1111111111111111,
              "#46039f"
             ],
             [
              0.2222222222222222,
              "#7201a8"
             ],
             [
              0.3333333333333333,
              "#9c179e"
             ],
             [
              0.4444444444444444,
              "#bd3786"
             ],
             [
              0.5555555555555556,
              "#d8576b"
             ],
             [
              0.6666666666666666,
              "#ed7953"
             ],
             [
              0.7777777777777778,
              "#fb9f3a"
             ],
             [
              0.8888888888888888,
              "#fdca26"
             ],
             [
              1,
              "#f0f921"
             ]
            ],
            "type": "contour"
           }
          ],
          "contourcarpet": [
           {
            "colorbar": {
             "outlinewidth": 0,
             "ticks": ""
            },
            "type": "contourcarpet"
           }
          ],
          "heatmap": [
           {
            "colorbar": {
             "outlinewidth": 0,
             "ticks": ""
            },
            "colorscale": [
             [
              0,
              "#0d0887"
             ],
             [
              0.1111111111111111,
              "#46039f"
             ],
             [
              0.2222222222222222,
              "#7201a8"
             ],
             [
              0.3333333333333333,
              "#9c179e"
             ],
             [
              0.4444444444444444,
              "#bd3786"
             ],
             [
              0.5555555555555556,
              "#d8576b"
             ],
             [
              0.6666666666666666,
              "#ed7953"
             ],
             [
              0.7777777777777778,
              "#fb9f3a"
             ],
             [
              0.8888888888888888,
              "#fdca26"
             ],
             [
              1,
              "#f0f921"
             ]
            ],
            "type": "heatmap"
           }
          ],
          "heatmapgl": [
           {
            "colorbar": {
             "outlinewidth": 0,
             "ticks": ""
            },
            "colorscale": [
             [
              0,
              "#0d0887"
             ],
             [
              0.1111111111111111,
              "#46039f"
             ],
             [
              0.2222222222222222,
              "#7201a8"
             ],
             [
              0.3333333333333333,
              "#9c179e"
             ],
             [
              0.4444444444444444,
              "#bd3786"
             ],
             [
              0.5555555555555556,
              "#d8576b"
             ],
             [
              0.6666666666666666,
              "#ed7953"
             ],
             [
              0.7777777777777778,
              "#fb9f3a"
             ],
             [
              0.8888888888888888,
              "#fdca26"
             ],
             [
              1,
              "#f0f921"
             ]
            ],
            "type": "heatmapgl"
           }
          ],
          "histogram": [
           {
            "marker": {
             "pattern": {
              "fillmode": "overlay",
              "size": 10,
              "solidity": 0.2
             }
            },
            "type": "histogram"
           }
          ],
          "histogram2d": [
           {
            "colorbar": {
             "outlinewidth": 0,
             "ticks": ""
            },
            "colorscale": [
             [
              0,
              "#0d0887"
             ],
             [
              0.1111111111111111,
              "#46039f"
             ],
             [
              0.2222222222222222,
              "#7201a8"
             ],
             [
              0.3333333333333333,
              "#9c179e"
             ],
             [
              0.4444444444444444,
              "#bd3786"
             ],
             [
              0.5555555555555556,
              "#d8576b"
             ],
             [
              0.6666666666666666,
              "#ed7953"
             ],
             [
              0.7777777777777778,
              "#fb9f3a"
             ],
             [
              0.8888888888888888,
              "#fdca26"
             ],
             [
              1,
              "#f0f921"
             ]
            ],
            "type": "histogram2d"
           }
          ],
          "histogram2dcontour": [
           {
            "colorbar": {
             "outlinewidth": 0,
             "ticks": ""
            },
            "colorscale": [
             [
              0,
              "#0d0887"
             ],
             [
              0.1111111111111111,
              "#46039f"
             ],
             [
              0.2222222222222222,
              "#7201a8"
             ],
             [
              0.3333333333333333,
              "#9c179e"
             ],
             [
              0.4444444444444444,
              "#bd3786"
             ],
             [
              0.5555555555555556,
              "#d8576b"
             ],
             [
              0.6666666666666666,
              "#ed7953"
             ],
             [
              0.7777777777777778,
              "#fb9f3a"
             ],
             [
              0.8888888888888888,
              "#fdca26"
             ],
             [
              1,
              "#f0f921"
             ]
            ],
            "type": "histogram2dcontour"
           }
          ],
          "mesh3d": [
           {
            "colorbar": {
             "outlinewidth": 0,
             "ticks": ""
            },
            "type": "mesh3d"
           }
          ],
          "parcoords": [
           {
            "line": {
             "colorbar": {
              "outlinewidth": 0,
              "ticks": ""
             }
            },
            "type": "parcoords"
           }
          ],
          "pie": [
           {
            "automargin": true,
            "type": "pie"
           }
          ],
          "scatter": [
           {
            "marker": {
             "colorbar": {
              "outlinewidth": 0,
              "ticks": ""
             }
            },
            "type": "scatter"
           }
          ],
          "scatter3d": [
           {
            "line": {
             "colorbar": {
              "outlinewidth": 0,
              "ticks": ""
             }
            },
            "marker": {
             "colorbar": {
              "outlinewidth": 0,
              "ticks": ""
             }
            },
            "type": "scatter3d"
           }
          ],
          "scattercarpet": [
           {
            "marker": {
             "colorbar": {
              "outlinewidth": 0,
              "ticks": ""
             }
            },
            "type": "scattercarpet"
           }
          ],
          "scattergeo": [
           {
            "marker": {
             "colorbar": {
              "outlinewidth": 0,
              "ticks": ""
             }
            },
            "type": "scattergeo"
           }
          ],
          "scattergl": [
           {
            "marker": {
             "colorbar": {
              "outlinewidth": 0,
              "ticks": ""
             }
            },
            "type": "scattergl"
           }
          ],
          "scattermapbox": [
           {
            "marker": {
             "colorbar": {
              "outlinewidth": 0,
              "ticks": ""
             }
            },
            "type": "scattermapbox"
           }
          ],
          "scatterpolar": [
           {
            "marker": {
             "colorbar": {
              "outlinewidth": 0,
              "ticks": ""
             }
            },
            "type": "scatterpolar"
           }
          ],
          "scatterpolargl": [
           {
            "marker": {
             "colorbar": {
              "outlinewidth": 0,
              "ticks": ""
             }
            },
            "type": "scatterpolargl"
           }
          ],
          "scatterternary": [
           {
            "marker": {
             "colorbar": {
              "outlinewidth": 0,
              "ticks": ""
             }
            },
            "type": "scatterternary"
           }
          ],
          "surface": [
           {
            "colorbar": {
             "outlinewidth": 0,
             "ticks": ""
            },
            "colorscale": [
             [
              0,
              "#0d0887"
             ],
             [
              0.1111111111111111,
              "#46039f"
             ],
             [
              0.2222222222222222,
              "#7201a8"
             ],
             [
              0.3333333333333333,
              "#9c179e"
             ],
             [
              0.4444444444444444,
              "#bd3786"
             ],
             [
              0.5555555555555556,
              "#d8576b"
             ],
             [
              0.6666666666666666,
              "#ed7953"
             ],
             [
              0.7777777777777778,
              "#fb9f3a"
             ],
             [
              0.8888888888888888,
              "#fdca26"
             ],
             [
              1,
              "#f0f921"
             ]
            ],
            "type": "surface"
           }
          ],
          "table": [
           {
            "cells": {
             "fill": {
              "color": "#EBF0F8"
             },
             "line": {
              "color": "white"
             }
            },
            "header": {
             "fill": {
              "color": "#C8D4E3"
             },
             "line": {
              "color": "white"
             }
            },
            "type": "table"
           }
          ]
         },
         "layout": {
          "annotationdefaults": {
           "arrowcolor": "#2a3f5f",
           "arrowhead": 0,
           "arrowwidth": 1
          },
          "autotypenumbers": "strict",
          "coloraxis": {
           "colorbar": {
            "outlinewidth": 0,
            "ticks": ""
           }
          },
          "colorscale": {
           "diverging": [
            [
             0,
             "#8e0152"
            ],
            [
             0.1,
             "#c51b7d"
            ],
            [
             0.2,
             "#de77ae"
            ],
            [
             0.3,
             "#f1b6da"
            ],
            [
             0.4,
             "#fde0ef"
            ],
            [
             0.5,
             "#f7f7f7"
            ],
            [
             0.6,
             "#e6f5d0"
            ],
            [
             0.7,
             "#b8e186"
            ],
            [
             0.8,
             "#7fbc41"
            ],
            [
             0.9,
             "#4d9221"
            ],
            [
             1,
             "#276419"
            ]
           ],
           "sequential": [
            [
             0,
             "#0d0887"
            ],
            [
             0.1111111111111111,
             "#46039f"
            ],
            [
             0.2222222222222222,
             "#7201a8"
            ],
            [
             0.3333333333333333,
             "#9c179e"
            ],
            [
             0.4444444444444444,
             "#bd3786"
            ],
            [
             0.5555555555555556,
             "#d8576b"
            ],
            [
             0.6666666666666666,
             "#ed7953"
            ],
            [
             0.7777777777777778,
             "#fb9f3a"
            ],
            [
             0.8888888888888888,
             "#fdca26"
            ],
            [
             1,
             "#f0f921"
            ]
           ],
           "sequentialminus": [
            [
             0,
             "#0d0887"
            ],
            [
             0.1111111111111111,
             "#46039f"
            ],
            [
             0.2222222222222222,
             "#7201a8"
            ],
            [
             0.3333333333333333,
             "#9c179e"
            ],
            [
             0.4444444444444444,
             "#bd3786"
            ],
            [
             0.5555555555555556,
             "#d8576b"
            ],
            [
             0.6666666666666666,
             "#ed7953"
            ],
            [
             0.7777777777777778,
             "#fb9f3a"
            ],
            [
             0.8888888888888888,
             "#fdca26"
            ],
            [
             1,
             "#f0f921"
            ]
           ]
          },
          "colorway": [
           "#636efa",
           "#EF553B",
           "#00cc96",
           "#ab63fa",
           "#FFA15A",
           "#19d3f3",
           "#FF6692",
           "#B6E880",
           "#FF97FF",
           "#FECB52"
          ],
          "font": {
           "color": "#2a3f5f"
          },
          "geo": {
           "bgcolor": "white",
           "lakecolor": "white",
           "landcolor": "#E5ECF6",
           "showlakes": true,
           "showland": true,
           "subunitcolor": "white"
          },
          "hoverlabel": {
           "align": "left"
          },
          "hovermode": "closest",
          "mapbox": {
           "style": "light"
          },
          "paper_bgcolor": "white",
          "plot_bgcolor": "#E5ECF6",
          "polar": {
           "angularaxis": {
            "gridcolor": "white",
            "linecolor": "white",
            "ticks": ""
           },
           "bgcolor": "#E5ECF6",
           "radialaxis": {
            "gridcolor": "white",
            "linecolor": "white",
            "ticks": ""
           }
          },
          "scene": {
           "xaxis": {
            "backgroundcolor": "#E5ECF6",
            "gridcolor": "white",
            "gridwidth": 2,
            "linecolor": "white",
            "showbackground": true,
            "ticks": "",
            "zerolinecolor": "white"
           },
           "yaxis": {
            "backgroundcolor": "#E5ECF6",
            "gridcolor": "white",
            "gridwidth": 2,
            "linecolor": "white",
            "showbackground": true,
            "ticks": "",
            "zerolinecolor": "white"
           },
           "zaxis": {
            "backgroundcolor": "#E5ECF6",
            "gridcolor": "white",
            "gridwidth": 2,
            "linecolor": "white",
            "showbackground": true,
            "ticks": "",
            "zerolinecolor": "white"
           }
          },
          "shapedefaults": {
           "line": {
            "color": "#2a3f5f"
           }
          },
          "ternary": {
           "aaxis": {
            "gridcolor": "white",
            "linecolor": "white",
            "ticks": ""
           },
           "baxis": {
            "gridcolor": "white",
            "linecolor": "white",
            "ticks": ""
           },
           "bgcolor": "#E5ECF6",
           "caxis": {
            "gridcolor": "white",
            "linecolor": "white",
            "ticks": ""
           }
          },
          "title": {
           "x": 0.05
          },
          "xaxis": {
           "automargin": true,
           "gridcolor": "white",
           "linecolor": "white",
           "ticks": "",
           "title": {
            "standoff": 15
           },
           "zerolinecolor": "white",
           "zerolinewidth": 2
          },
          "yaxis": {
           "automargin": true,
           "gridcolor": "white",
           "linecolor": "white",
           "ticks": "",
           "title": {
            "standoff": 15
           },
           "zerolinecolor": "white",
           "zerolinewidth": 2
          }
         }
        },
        "title": {
         "font": {
          "color": "#4D5663"
         },
         "text": "Township"
        },
        "xaxis": {
         "gridcolor": "white",
         "linecolor": "black",
         "showgrid": true,
         "tickfont": {
          "color": "#4D5663"
         },
         "title": {
          "font": {
           "color": "#4D5663"
          },
          "text": "Day of Week"
         },
         "zerolinecolor": "#E1E5ED"
        },
        "yaxis": {
         "gridcolor": "white",
         "linecolor": "black",
         "showgrid": true,
         "tickfont": {
          "color": "#4D5663"
         },
         "title": {
          "font": {
           "color": "#4D5663"
          },
          "text": "Number of 911 Calss"
         },
         "zerolinecolor": "#E1E5ED"
        }
       }
      },
      "text/html": [
       "<div>                            <div id=\"e3865145-eec4-49c3-b699-8d494e9c3ba0\" class=\"plotly-graph-div\" style=\"height:525px; width:100%;\"></div>            <script type=\"text/javascript\">                require([\"plotly\"], function(Plotly) {                    window.PLOTLYENV=window.PLOTLYENV || {};\n",
       "                    window.PLOTLYENV.BASE_URL='https://plot.ly';                                    if (document.getElementById(\"e3865145-eec4-49c3-b699-8d494e9c3ba0\")) {                    Plotly.newPlot(                        \"e3865145-eec4-49c3-b699-8d494e9c3ba0\",                        [{\"marker\":{\"color\":\"rgba(219, 64, 82, 0.6)\",\"line\":{\"color\":\"rgba(219, 64, 82, 1.0)\",\"width\":1}},\"name\":\"title\",\"orientation\":\"v\",\"text\":\"\",\"x\":[\"VEHICLE ACCIDENT\",\"DISABLED VEHICLE\",\"FIRE ALARM\",\"FALL VICTIM\",\"RESPIRATORY EMERGENCY\",\"CARDIAC EMERGENCY\",\"ROAD OBSTRUCTION\",\"SUBJECT IN PAIN\",\"HEAD INJURY\",\"GENERAL WEAKNESS\"],\"y\":[184661,47915,38444,34675,34241,32329,23237,19644,18301,11866],\"type\":\"bar\"}],                        {\"bargap\":0.4,\"legend\":{\"bgcolor\":\"#F5F6F9\",\"font\":{\"color\":\"#4D5663\"}},\"paper_bgcolor\":\"#F5F6F9\",\"plot_bgcolor\":\"#F5F6F9\",\"template\":{\"data\":{\"barpolar\":[{\"marker\":{\"line\":{\"color\":\"#E5ECF6\",\"width\":0.5},\"pattern\":{\"fillmode\":\"overlay\",\"size\":10,\"solidity\":0.2}},\"type\":\"barpolar\"}],\"bar\":[{\"error_x\":{\"color\":\"#2a3f5f\"},\"error_y\":{\"color\":\"#2a3f5f\"},\"marker\":{\"line\":{\"color\":\"#E5ECF6\",\"width\":0.5},\"pattern\":{\"fillmode\":\"overlay\",\"size\":10,\"solidity\":0.2}},\"type\":\"bar\"}],\"carpet\":[{\"aaxis\":{\"endlinecolor\":\"#2a3f5f\",\"gridcolor\":\"white\",\"linecolor\":\"white\",\"minorgridcolor\":\"white\",\"startlinecolor\":\"#2a3f5f\"},\"baxis\":{\"endlinecolor\":\"#2a3f5f\",\"gridcolor\":\"white\",\"linecolor\":\"white\",\"minorgridcolor\":\"white\",\"startlinecolor\":\"#2a3f5f\"},\"type\":\"carpet\"}],\"choropleth\":[{\"colorbar\":{\"outlinewidth\":0,\"ticks\":\"\"},\"type\":\"choropleth\"}],\"contourcarpet\":[{\"colorbar\":{\"outlinewidth\":0,\"ticks\":\"\"},\"type\":\"contourcarpet\"}],\"contour\":[{\"colorbar\":{\"outlinewidth\":0,\"ticks\":\"\"},\"colorscale\":[[0.0,\"#0d0887\"],[0.1111111111111111,\"#46039f\"],[0.2222222222222222,\"#7201a8\"],[0.3333333333333333,\"#9c179e\"],[0.4444444444444444,\"#bd3786\"],[0.5555555555555556,\"#d8576b\"],[0.6666666666666666,\"#ed7953\"],[0.7777777777777778,\"#fb9f3a\"],[0.8888888888888888,\"#fdca26\"],[1.0,\"#f0f921\"]],\"type\":\"contour\"}],\"heatmapgl\":[{\"colorbar\":{\"outlinewidth\":0,\"ticks\":\"\"},\"colorscale\":[[0.0,\"#0d0887\"],[0.1111111111111111,\"#46039f\"],[0.2222222222222222,\"#7201a8\"],[0.3333333333333333,\"#9c179e\"],[0.4444444444444444,\"#bd3786\"],[0.5555555555555556,\"#d8576b\"],[0.6666666666666666,\"#ed7953\"],[0.7777777777777778,\"#fb9f3a\"],[0.8888888888888888,\"#fdca26\"],[1.0,\"#f0f921\"]],\"type\":\"heatmapgl\"}],\"heatmap\":[{\"colorbar\":{\"outlinewidth\":0,\"ticks\":\"\"},\"colorscale\":[[0.0,\"#0d0887\"],[0.1111111111111111,\"#46039f\"],[0.2222222222222222,\"#7201a8\"],[0.3333333333333333,\"#9c179e\"],[0.4444444444444444,\"#bd3786\"],[0.5555555555555556,\"#d8576b\"],[0.6666666666666666,\"#ed7953\"],[0.7777777777777778,\"#fb9f3a\"],[0.8888888888888888,\"#fdca26\"],[1.0,\"#f0f921\"]],\"type\":\"heatmap\"}],\"histogram2dcontour\":[{\"colorbar\":{\"outlinewidth\":0,\"ticks\":\"\"},\"colorscale\":[[0.0,\"#0d0887\"],[0.1111111111111111,\"#46039f\"],[0.2222222222222222,\"#7201a8\"],[0.3333333333333333,\"#9c179e\"],[0.4444444444444444,\"#bd3786\"],[0.5555555555555556,\"#d8576b\"],[0.6666666666666666,\"#ed7953\"],[0.7777777777777778,\"#fb9f3a\"],[0.8888888888888888,\"#fdca26\"],[1.0,\"#f0f921\"]],\"type\":\"histogram2dcontour\"}],\"histogram2d\":[{\"colorbar\":{\"outlinewidth\":0,\"ticks\":\"\"},\"colorscale\":[[0.0,\"#0d0887\"],[0.1111111111111111,\"#46039f\"],[0.2222222222222222,\"#7201a8\"],[0.3333333333333333,\"#9c179e\"],[0.4444444444444444,\"#bd3786\"],[0.5555555555555556,\"#d8576b\"],[0.6666666666666666,\"#ed7953\"],[0.7777777777777778,\"#fb9f3a\"],[0.8888888888888888,\"#fdca26\"],[1.0,\"#f0f921\"]],\"type\":\"histogram2d\"}],\"histogram\":[{\"marker\":{\"pattern\":{\"fillmode\":\"overlay\",\"size\":10,\"solidity\":0.2}},\"type\":\"histogram\"}],\"mesh3d\":[{\"colorbar\":{\"outlinewidth\":0,\"ticks\":\"\"},\"type\":\"mesh3d\"}],\"parcoords\":[{\"line\":{\"colorbar\":{\"outlinewidth\":0,\"ticks\":\"\"}},\"type\":\"parcoords\"}],\"pie\":[{\"automargin\":true,\"type\":\"pie\"}],\"scatter3d\":[{\"line\":{\"colorbar\":{\"outlinewidth\":0,\"ticks\":\"\"}},\"marker\":{\"colorbar\":{\"outlinewidth\":0,\"ticks\":\"\"}},\"type\":\"scatter3d\"}],\"scattercarpet\":[{\"marker\":{\"colorbar\":{\"outlinewidth\":0,\"ticks\":\"\"}},\"type\":\"scattercarpet\"}],\"scattergeo\":[{\"marker\":{\"colorbar\":{\"outlinewidth\":0,\"ticks\":\"\"}},\"type\":\"scattergeo\"}],\"scattergl\":[{\"marker\":{\"colorbar\":{\"outlinewidth\":0,\"ticks\":\"\"}},\"type\":\"scattergl\"}],\"scattermapbox\":[{\"marker\":{\"colorbar\":{\"outlinewidth\":0,\"ticks\":\"\"}},\"type\":\"scattermapbox\"}],\"scatterpolargl\":[{\"marker\":{\"colorbar\":{\"outlinewidth\":0,\"ticks\":\"\"}},\"type\":\"scatterpolargl\"}],\"scatterpolar\":[{\"marker\":{\"colorbar\":{\"outlinewidth\":0,\"ticks\":\"\"}},\"type\":\"scatterpolar\"}],\"scatter\":[{\"marker\":{\"colorbar\":{\"outlinewidth\":0,\"ticks\":\"\"}},\"type\":\"scatter\"}],\"scatterternary\":[{\"marker\":{\"colorbar\":{\"outlinewidth\":0,\"ticks\":\"\"}},\"type\":\"scatterternary\"}],\"surface\":[{\"colorbar\":{\"outlinewidth\":0,\"ticks\":\"\"},\"colorscale\":[[0.0,\"#0d0887\"],[0.1111111111111111,\"#46039f\"],[0.2222222222222222,\"#7201a8\"],[0.3333333333333333,\"#9c179e\"],[0.4444444444444444,\"#bd3786\"],[0.5555555555555556,\"#d8576b\"],[0.6666666666666666,\"#ed7953\"],[0.7777777777777778,\"#fb9f3a\"],[0.8888888888888888,\"#fdca26\"],[1.0,\"#f0f921\"]],\"type\":\"surface\"}],\"table\":[{\"cells\":{\"fill\":{\"color\":\"#EBF0F8\"},\"line\":{\"color\":\"white\"}},\"header\":{\"fill\":{\"color\":\"#C8D4E3\"},\"line\":{\"color\":\"white\"}},\"type\":\"table\"}]},\"layout\":{\"annotationdefaults\":{\"arrowcolor\":\"#2a3f5f\",\"arrowhead\":0,\"arrowwidth\":1},\"autotypenumbers\":\"strict\",\"coloraxis\":{\"colorbar\":{\"outlinewidth\":0,\"ticks\":\"\"}},\"colorscale\":{\"diverging\":[[0,\"#8e0152\"],[0.1,\"#c51b7d\"],[0.2,\"#de77ae\"],[0.3,\"#f1b6da\"],[0.4,\"#fde0ef\"],[0.5,\"#f7f7f7\"],[0.6,\"#e6f5d0\"],[0.7,\"#b8e186\"],[0.8,\"#7fbc41\"],[0.9,\"#4d9221\"],[1,\"#276419\"]],\"sequential\":[[0.0,\"#0d0887\"],[0.1111111111111111,\"#46039f\"],[0.2222222222222222,\"#7201a8\"],[0.3333333333333333,\"#9c179e\"],[0.4444444444444444,\"#bd3786\"],[0.5555555555555556,\"#d8576b\"],[0.6666666666666666,\"#ed7953\"],[0.7777777777777778,\"#fb9f3a\"],[0.8888888888888888,\"#fdca26\"],[1.0,\"#f0f921\"]],\"sequentialminus\":[[0.0,\"#0d0887\"],[0.1111111111111111,\"#46039f\"],[0.2222222222222222,\"#7201a8\"],[0.3333333333333333,\"#9c179e\"],[0.4444444444444444,\"#bd3786\"],[0.5555555555555556,\"#d8576b\"],[0.6666666666666666,\"#ed7953\"],[0.7777777777777778,\"#fb9f3a\"],[0.8888888888888888,\"#fdca26\"],[1.0,\"#f0f921\"]]},\"colorway\":[\"#636efa\",\"#EF553B\",\"#00cc96\",\"#ab63fa\",\"#FFA15A\",\"#19d3f3\",\"#FF6692\",\"#B6E880\",\"#FF97FF\",\"#FECB52\"],\"font\":{\"color\":\"#2a3f5f\"},\"geo\":{\"bgcolor\":\"white\",\"lakecolor\":\"white\",\"landcolor\":\"#E5ECF6\",\"showlakes\":true,\"showland\":true,\"subunitcolor\":\"white\"},\"hoverlabel\":{\"align\":\"left\"},\"hovermode\":\"closest\",\"mapbox\":{\"style\":\"light\"},\"paper_bgcolor\":\"white\",\"plot_bgcolor\":\"#E5ECF6\",\"polar\":{\"angularaxis\":{\"gridcolor\":\"white\",\"linecolor\":\"white\",\"ticks\":\"\"},\"bgcolor\":\"#E5ECF6\",\"radialaxis\":{\"gridcolor\":\"white\",\"linecolor\":\"white\",\"ticks\":\"\"}},\"scene\":{\"xaxis\":{\"backgroundcolor\":\"#E5ECF6\",\"gridcolor\":\"white\",\"gridwidth\":2,\"linecolor\":\"white\",\"showbackground\":true,\"ticks\":\"\",\"zerolinecolor\":\"white\"},\"yaxis\":{\"backgroundcolor\":\"#E5ECF6\",\"gridcolor\":\"white\",\"gridwidth\":2,\"linecolor\":\"white\",\"showbackground\":true,\"ticks\":\"\",\"zerolinecolor\":\"white\"},\"zaxis\":{\"backgroundcolor\":\"#E5ECF6\",\"gridcolor\":\"white\",\"gridwidth\":2,\"linecolor\":\"white\",\"showbackground\":true,\"ticks\":\"\",\"zerolinecolor\":\"white\"}},\"shapedefaults\":{\"line\":{\"color\":\"#2a3f5f\"}},\"ternary\":{\"aaxis\":{\"gridcolor\":\"white\",\"linecolor\":\"white\",\"ticks\":\"\"},\"baxis\":{\"gridcolor\":\"white\",\"linecolor\":\"white\",\"ticks\":\"\"},\"bgcolor\":\"#E5ECF6\",\"caxis\":{\"gridcolor\":\"white\",\"linecolor\":\"white\",\"ticks\":\"\"}},\"title\":{\"x\":0.05},\"xaxis\":{\"automargin\":true,\"gridcolor\":\"white\",\"linecolor\":\"white\",\"ticks\":\"\",\"title\":{\"standoff\":15},\"zerolinecolor\":\"white\",\"zerolinewidth\":2},\"yaxis\":{\"automargin\":true,\"gridcolor\":\"white\",\"linecolor\":\"white\",\"ticks\":\"\",\"title\":{\"standoff\":15},\"zerolinecolor\":\"white\",\"zerolinewidth\":2}}},\"title\":{\"font\":{\"color\":\"#4D5663\"},\"text\":\"Township\"},\"xaxis\":{\"gridcolor\":\"white\",\"linecolor\":\"black\",\"showgrid\":true,\"tickfont\":{\"color\":\"#4D5663\"},\"title\":{\"font\":{\"color\":\"#4D5663\"},\"text\":\"Day of Week\"},\"zerolinecolor\":\"#E1E5ED\"},\"yaxis\":{\"gridcolor\":\"white\",\"linecolor\":\"black\",\"showgrid\":true,\"tickfont\":{\"color\":\"#4D5663\"},\"title\":{\"font\":{\"color\":\"#4D5663\"},\"text\":\"Number of 911 Calss\"},\"zerolinecolor\":\"#E1E5ED\"}},                        {\"showLink\": true, \"linkText\": \"Export to plot.ly\", \"plotlyServerURL\": \"https://plot.ly\", \"responsive\": true}                    ).then(function(){\n",
       "                            \n",
       "var gd = document.getElementById('e3865145-eec4-49c3-b699-8d494e9c3ba0');\n",
       "var x = new MutationObserver(function (mutations, observer) {{\n",
       "        var display = window.getComputedStyle(gd).display;\n",
       "        if (!display || display === 'none') {{\n",
       "            console.log([gd, 'removed!']);\n",
       "            Plotly.purge(gd);\n",
       "            observer.disconnect();\n",
       "        }}\n",
       "}});\n",
       "\n",
       "// Listen for the removal of the full notebook cells\n",
       "var notebookContainer = gd.closest('#notebook-container');\n",
       "if (notebookContainer) {{\n",
       "    x.observe(notebookContainer, {childList: true});\n",
       "}}\n",
       "\n",
       "// Listen for the clearing of the current output cell\n",
       "var outputEl = gd.closest('.output');\n",
       "if (outputEl) {{\n",
       "    x.observe(outputEl, {childList: true});\n",
       "}}\n",
       "\n",
       "                        })                };                });            </script>        </div>"
      ]
     },
     "metadata": {},
     "output_type": "display_data"
    }
   ],
   "source": [
    "data['title'].value_counts().head(10).iplot(kind='bar', \n",
    "                 color='red',\n",
    "                 gridcolor='white',\n",
    "                 linecolor='black',\n",
    "                 theme='pearl',\n",
    "                 title='Township',\n",
    "                 yTitle='Number of 911 Calss',\n",
    "                 bargap=0.4,\n",
    "                 xTitle='Day of Week'\n",
    "                 )"
   ]
  },
  {
   "cell_type": "code",
   "execution_count": 39,
   "id": "75cb0971",
   "metadata": {},
   "outputs": [
    {
     "name": "stderr",
     "output_type": "stream",
     "text": [
      "C:\\Users\\Jonty\\anaconda3\\lib\\site-packages\\seaborn\\_decorators.py:36: FutureWarning:\n",
      "\n",
      "Pass the following variable as a keyword arg: x. From version 0.12, the only valid positional argument will be `data`, and passing other arguments without an explicit keyword will result in an error or misinterpretation.\n",
      "\n"
     ]
    },
    {
     "data": {
      "image/png": "[encoded data removed]",
      "text/plain": [
       "<Figure size 1440x504 with 1 Axes>"
      ]
     },
     "metadata": {},
     "output_type": "display_data"
    }
   ],
   "source": [
    "plt.subplots(figsize=(20, 7))\n",
    "\n",
    "ax = sb.countplot(data['title'], hue=data['reason_cat'], data=data)\n",
    "ax.set(xlabel='Reasons', ylabel='Count')\n",
    "plt.title('Different Reasons For 911 Calls')\n",
    "\n",
    "plt.xticks(rotation=90)\n",
    "\n",
    "plt.show()"
   ]
  },
  {
   "cell_type": "code",
   "execution_count": 40,
   "id": "2b9d7378",
   "metadata": {},
   "outputs": [
    {
     "data": {
      "application/vnd.plotly.v1+json": {
       "config": {
        "plotlyServerURL": "https://plot.ly"
       },
       "data": [
        {
         "alignmentgroup": "True",
         "hovertemplate": "variable=count<br>value=%{x}<br>index=%{y}<br>text=%{text}<extra></extra>",
         "legendgroup": "count",
         "marker": {
          "color": [
           "rgb(102, 197, 204)",
           "rgb(246, 207, 113)",
           "rgb(248, 156, 116)",
           "rgb(220, 176, 242)",
           "rgb(135, 197, 95)",
           "rgb(158, 185, 243)",
           "rgb(254, 136, 177)",
           "rgb(201, 219, 116)",
           "rgb(139, 224, 164)",
           "rgb(180, 151, 231)",
           "rgb(179, 179, 179)"
          ],
          "pattern": {
           "shape": ""
          }
         },
         "name": "count",
         "offsetgroup": "count",
         "orientation": "h",
         "showlegend": true,
         "text": [
          11866,
          18301,
          19644,
          23237,
          32329,
          34241,
          34675,
          38444,
          47915,
          184661
         ],
         "textposition": "auto",
         "type": "bar",
         "x": [
          11866,
          18301,
          19644,
          23237,
          32329,
          34241,
          34675,
          38444,
          47915,
          184661
         ],
         "xaxis": "x",
         "y": [
          "GENERAL WEAKNESS",
          "HEAD INJURY",
          "SUBJECT IN PAIN",
          "ROAD OBSTRUCTION",
          "CARDIAC EMERGENCY",
          "RESPIRATORY EMERGENCY",
          "FALL VICTIM",
          "FIRE ALARM",
          "DISABLED VEHICLE",
          "VEHICLE ACCIDENT"
         ],
         "yaxis": "y"
        }
       ],
       "layout": {
        "barmode": "relative",
        "legend": {
         "title": {
          "text": "variable"
         },
         "tracegroupgap": 0
        },
        "margin": {
         "t": 60
        },
        "showlegend": false,
        "template": {
         "data": {
          "bar": [
           {
            "error_x": {
             "color": "#2a3f5f"
            },
            "error_y": {
             "color": "#2a3f5f"
            },
            "marker": {
             "line": {
              "color": "white",
              "width": 0.5
             },
             "pattern": {
              "fillmode": "overlay",
              "size": 10,
              "solidity": 0.2
             }
            },
            "type": "bar"
           }
          ],
          "barpolar": [
           {
            "marker": {
             "line": {
              "color": "white",
              "width": 0.5
             },
             "pattern": {
              "fillmode": "overlay",
              "size": 10,
              "solidity": 0.2
             }
            },
            "type": "barpolar"
           }
          ],
          "carpet": [
           {
            "aaxis": {
             "endlinecolor": "#2a3f5f",
             "gridcolor": "#C8D4E3",
             "linecolor": "#C8D4E3",
             "minorgridcolor": "#C8D4E3",
             "startlinecolor": "#2a3f5f"
            },
            "baxis": {
             "endlinecolor": "#2a3f5f",
             "gridcolor": "#C8D4E3",
             "linecolor": "#C8D4E3",
             "minorgridcolor": "#C8D4E3",
             "startlinecolor": "#2a3f5f"
            },
            "type": "carpet"
           }
          ],
          "choropleth": [
           {
            "colorbar": {
             "outlinewidth": 0,
             "ticks": ""
            },
            "type": "choropleth"
           }
          ],
          "contour": [
           {
            "colorbar": {
             "outlinewidth": 0,
             "ticks": ""
            },
            "colorscale": [
             [
              0,
              "#0d0887"
             ],
             [
              0.1111111111111111,
              "#46039f"
             ],
             [
              0.2222222222222222,
              "#7201a8"
             ],
             [
              0.3333333333333333,
              "#9c179e"
             ],
             [
              0.4444444444444444,
              "#bd3786"
             ],
             [
              0.5555555555555556,
              "#d8576b"
             ],
             [
              0.6666666666666666,
              "#ed7953"
             ],
             [
              0.7777777777777778,
              "#fb9f3a"
             ],
             [
              0.8888888888888888,
              "#fdca26"
             ],
             [
              1,
              "#f0f921"
             ]
            ],
            "type": "contour"
           }
          ],
          "contourcarpet": [
           {
            "colorbar": {
             "outlinewidth": 0,
             "ticks": ""
            },
            "type": "contourcarpet"
           }
          ],
          "heatmap": [
           {
            "colorbar": {
             "outlinewidth": 0,
             "ticks": ""
            },
            "colorscale": [
             [
              0,
              "#0d0887"
             ],
             [
              0.1111111111111111,
              "#46039f"
             ],
             [
              0.2222222222222222,
              "#7201a8"
             ],
             [
              0.3333333333333333,
              "#9c179e"
             ],
             [
              0.4444444444444444,
              "#bd3786"
             ],
             [
              0.5555555555555556,
              "#d8576b"
             ],
             [
              0.6666666666666666,
              "#ed7953"
             ],
             [
              0.7777777777777778,
              "#fb9f3a"
             ],
             [
              0.8888888888888888,
              "#fdca26"
             ],
             [
              1,
              "#f0f921"
             ]
            ],
            "type": "heatmap"
           }
          ],
          "heatmapgl": [
           {
            "colorbar": {
             "outlinewidth": 0,
             "ticks": ""
            },
            "colorscale": [
             [
              0,
              "#0d0887"
             ],
             [
              0.1111111111111111,
              "#46039f"
             ],
             [
              0.2222222222222222,
              "#7201a8"
             ],
             [
              0.3333333333333333,
              "#9c179e"
             ],
             [
              0.4444444444444444,
              "#bd3786"
             ],
             [
              0.5555555555555556,
              "#d8576b"
             ],
             [
              0.6666666666666666,
              "#ed7953"
             ],
             [
              0.7777777777777778,
              "#fb9f3a"
             ],
             [
              0.8888888888888888,
              "#fdca26"
             ],
             [
              1,
              "#f0f921"
             ]
            ],
            "type": "heatmapgl"
           }
          ],
          "histogram": [
           {
            "marker": {
             "pattern": {
              "fillmode": "overlay",
              "size": 10,
              "solidity": 0.2
             }
            },
            "type": "histogram"
           }
          ],
          "histogram2d": [
           {
            "colorbar": {
             "outlinewidth": 0,
             "ticks": ""
            },
            "colorscale": [
             [
              0,
              "#0d0887"
             ],
             [
              0.1111111111111111,
              "#46039f"
             ],
             [
              0.2222222222222222,
              "#7201a8"
             ],
             [
              0.3333333333333333,
              "#9c179e"
             ],
             [
              0.4444444444444444,
              "#bd3786"
             ],
             [
              0.5555555555555556,
              "#d8576b"
             ],
             [
              0.6666666666666666,
              "#ed7953"
             ],
             [
              0.7777777777777778,
              "#fb9f3a"
             ],
             [
              0.8888888888888888,
              "#fdca26"
             ],
             [
              1,
              "#f0f921"
             ]
            ],
            "type": "histogram2d"
           }
          ],
          "histogram2dcontour": [
           {
            "colorbar": {
             "outlinewidth": 0,
             "ticks": ""
            },
            "colorscale": [
             [
              0,
              "#0d0887"
             ],
             [
              0.1111111111111111,
              "#46039f"
             ],
             [
              0.2222222222222222,
              "#7201a8"
             ],
             [
              0.3333333333333333,
              "#9c179e"
             ],
             [
              0.4444444444444444,
              "#bd3786"
             ],
             [
              0.5555555555555556,
              "#d8576b"
             ],
             [
              0.6666666666666666,
              "#ed7953"
             ],
             [
              0.7777777777777778,
              "#fb9f3a"
             ],
             [
              0.8888888888888888,
              "#fdca26"
             ],
             [
              1,
              "#f0f921"
             ]
            ],
            "type": "histogram2dcontour"
           }
          ],
          "mesh3d": [
           {
            "colorbar": {
             "outlinewidth": 0,
             "ticks": ""
            },
            "type": "mesh3d"
           }
          ],
          "parcoords": [
           {
            "line": {
             "colorbar": {
              "outlinewidth": 0,
              "ticks": ""
             }
            },
            "type": "parcoords"
           }
          ],
          "pie": [
           {
            "automargin": true,
            "type": "pie"
           }
          ],
          "scatter": [
           {
            "marker": {
             "colorbar": {
              "outlinewidth": 0,
              "ticks": ""
             }
            },
            "type": "scatter"
           }
          ],
          "scatter3d": [
           {
            "line": {
             "colorbar": {
              "outlinewidth": 0,
              "ticks": ""
             }
            },
            "marker": {
             "colorbar": {
              "outlinewidth": 0,
              "ticks": ""
             }
            },
            "type": "scatter3d"
           }
          ],
          "scattercarpet": [
           {
            "marker": {
             "colorbar": {
              "outlinewidth": 0,
              "ticks": ""
             }
            },
            "type": "scattercarpet"
           }
          ],
          "scattergeo": [
           {
            "marker": {
             "colorbar": {
              "outlinewidth": 0,
              "ticks": ""
             }
            },
            "type": "scattergeo"
           }
          ],
          "scattergl": [
           {
            "marker": {
             "colorbar": {
              "outlinewidth": 0,
              "ticks": ""
             }
            },
            "type": "scattergl"
           }
          ],
          "scattermapbox": [
           {
            "marker": {
             "colorbar": {
              "outlinewidth": 0,
              "ticks": ""
             }
            },
            "type": "scattermapbox"
           }
          ],
          "scatterpolar": [
           {
            "marker": {
             "colorbar": {
              "outlinewidth": 0,
              "ticks": ""
             }
            },
            "type": "scatterpolar"
           }
          ],
          "scatterpolargl": [
           {
            "marker": {
             "colorbar": {
              "outlinewidth": 0,
              "ticks": ""
             }
            },
            "type": "scatterpolargl"
           }
          ],
          "scatterternary": [
           {
            "marker": {
             "colorbar": {
              "outlinewidth": 0,
              "ticks": ""
             }
            },
            "type": "scatterternary"
           }
          ],
          "surface": [
           {
            "colorbar": {
             "outlinewidth": 0,
             "ticks": ""
            },
            "colorscale": [
             [
              0,
              "#0d0887"
             ],
             [
              0.1111111111111111,
              "#46039f"
             ],
             [
              0.2222222222222222,
              "#7201a8"
             ],
             [
              0.3333333333333333,
              "#9c179e"
             ],
             [
              0.4444444444444444,
              "#bd3786"
             ],
             [
              0.5555555555555556,
              "#d8576b"
             ],
             [
              0.6666666666666666,
              "#ed7953"
             ],
             [
              0.7777777777777778,
              "#fb9f3a"
             ],
             [
              0.8888888888888888,
              "#fdca26"
             ],
             [
              1,
              "#f0f921"
             ]
            ],
            "type": "surface"
           }
          ],
          "table": [
           {
            "cells": {
             "fill": {
              "color": "#EBF0F8"
             },
             "line": {
              "color": "white"
             }
            },
            "header": {
             "fill": {
              "color": "#C8D4E3"
             },
             "line": {
              "color": "white"
             }
            },
            "type": "table"
           }
          ]
         },
         "layout": {
          "annotationdefaults": {
           "arrowcolor": "#2a3f5f",
           "arrowhead": 0,
           "arrowwidth": 1
          },
          "autotypenumbers": "strict",
          "coloraxis": {
           "colorbar": {
            "outlinewidth": 0,
            "ticks": ""
           }
          },
          "colorscale": {
           "diverging": [
            [
             0,
             "#8e0152"
            ],
            [
             0.1,
             "#c51b7d"
            ],
            [
             0.2,
             "#de77ae"
            ],
            [
             0.3,
             "#f1b6da"
            ],
            [
             0.4,
             "#fde0ef"
            ],
            [
             0.5,
             "#f7f7f7"
            ],
            [
             0.6,
             "#e6f5d0"
            ],
            [
             0.7,
             "#b8e186"
            ],
            [
             0.8,
             "#7fbc41"
            ],
            [
             0.9,
             "#4d9221"
            ],
            [
             1,
             "#276419"
            ]
           ],
           "sequential": [
            [
             0,
             "#0d0887"
            ],
            [
             0.1111111111111111,
             "#46039f"
            ],
            [
             0.2222222222222222,
             "#7201a8"
            ],
            [
             0.3333333333333333,
             "#9c179e"
            ],
            [
             0.4444444444444444,
             "#bd3786"
            ],
            [
             0.5555555555555556,
             "#d8576b"
            ],
            [
             0.6666666666666666,
             "#ed7953"
            ],
            [
             0.7777777777777778,
             "#fb9f3a"
            ],
            [
             0.8888888888888888,
             "#fdca26"
            ],
            [
             1,
             "#f0f921"
            ]
           ],
           "sequentialminus": [
            [
             0,
             "#0d0887"
            ],
            [
             0.1111111111111111,
             "#46039f"
            ],
            [
             0.2222222222222222,
             "#7201a8"
            ],
            [
             0.3333333333333333,
             "#9c179e"
            ],
            [
             0.4444444444444444,
             "#bd3786"
            ],
            [
             0.5555555555555556,
             "#d8576b"
            ],
            [
             0.6666666666666666,
             "#ed7953"
            ],
            [
             0.7777777777777778,
             "#fb9f3a"
            ],
            [
             0.8888888888888888,
             "#fdca26"
            ],
            [
             1,
             "#f0f921"
            ]
           ]
          },
          "colorway": [
           "#636efa",
           "#EF553B",
           "#00cc96",
           "#ab63fa",
           "#FFA15A",
           "#19d3f3",
           "#FF6692",
           "#B6E880",
           "#FF97FF",
           "#FECB52"
          ],
          "font": {
           "color": "#2a3f5f"
          },
          "geo": {
           "bgcolor": "white",
           "lakecolor": "white",
           "landcolor": "white",
           "showlakes": true,
           "showland": true,
           "subunitcolor": "#C8D4E3"
          },
          "hoverlabel": {
           "align": "left"
          },
          "hovermode": "closest",
          "mapbox": {
           "style": "light"
          },
          "paper_bgcolor": "white",
          "plot_bgcolor": "white",
          "polar": {
           "angularaxis": {
            "gridcolor": "#EBF0F8",
            "linecolor": "#EBF0F8",
            "ticks": ""
           },
           "bgcolor": "white",
           "radialaxis": {
            "gridcolor": "#EBF0F8",
            "linecolor": "#EBF0F8",
            "ticks": ""
           }
          },
          "scene": {
           "xaxis": {
            "backgroundcolor": "white",
            "gridcolor": "#DFE8F3",
            "gridwidth": 2,
            "linecolor": "#EBF0F8",
            "showbackground": true,
            "ticks": "",
            "zerolinecolor": "#EBF0F8"
           },
           "yaxis": {
            "backgroundcolor": "white",
            "gridcolor": "#DFE8F3",
            "gridwidth": 2,
            "linecolor": "#EBF0F8",
            "showbackground": true,
            "ticks": "",
            "zerolinecolor": "#EBF0F8"
           },
           "zaxis": {
            "backgroundcolor": "white",
            "gridcolor": "#DFE8F3",
            "gridwidth": 2,
            "linecolor": "#EBF0F8",
            "showbackground": true,
            "ticks": "",
            "zerolinecolor": "#EBF0F8"
           }
          },
          "shapedefaults": {
           "line": {
            "color": "#2a3f5f"
           }
          },
          "ternary": {
           "aaxis": {
            "gridcolor": "#DFE8F3",
            "linecolor": "#A2B1C6",
            "ticks": ""
           },
           "baxis": {
            "gridcolor": "#DFE8F3",
            "linecolor": "#A2B1C6",
            "ticks": ""
           },
           "bgcolor": "white",
           "caxis": {
            "gridcolor": "#DFE8F3",
            "linecolor": "#A2B1C6",
            "ticks": ""
           }
          },
          "title": {
           "x": 0.05
          },
          "xaxis": {
           "automargin": true,
           "gridcolor": "#EBF0F8",
           "linecolor": "#EBF0F8",
           "ticks": "",
           "title": {
            "standoff": 15
           },
           "zerolinecolor": "#EBF0F8",
           "zerolinewidth": 2
          },
          "yaxis": {
           "automargin": true,
           "gridcolor": "#EBF0F8",
           "linecolor": "#EBF0F8",
           "ticks": "",
           "title": {
            "standoff": 15
           },
           "zerolinecolor": "#EBF0F8",
           "zerolinewidth": 2
          }
         }
        },
        "title": {
         "text": "Top 10 Reasons for 911 Calls",
         "x": 0.5,
         "xanchor": "center",
         "y": 0.98,
         "yanchor": "top"
        },
        "xaxis": {
         "anchor": "y",
         "domain": [
          0,
          1
         ],
         "title": {
          "text": "Reasons"
         }
        },
        "yaxis": {
         "anchor": "x",
         "domain": [
          0,
          1
         ],
         "title": {
          "text": "Count"
         }
        }
       }
      },
      "text/html": [
       "<div>                            <div id=\"2ca10ed0-eb28-4df2-9f85-054e370dcb3a\" class=\"plotly-graph-div\" style=\"height:525px; width:100%;\"></div>            <script type=\"text/javascript\">                require([\"plotly\"], function(Plotly) {                    window.PLOTLYENV=window.PLOTLYENV || {};                                    if (document.getElementById(\"2ca10ed0-eb28-4df2-9f85-054e370dcb3a\")) {                    Plotly.newPlot(                        \"2ca10ed0-eb28-4df2-9f85-054e370dcb3a\",                        [{\"alignmentgroup\":\"True\",\"hovertemplate\":\"variable=count<br>value=%{x}<br>index=%{y}<br>text=%{text}<extra></extra>\",\"legendgroup\":\"count\",\"marker\":{\"color\":[\"rgb(102, 197, 204)\",\"rgb(246, 207, 113)\",\"rgb(248, 156, 116)\",\"rgb(220, 176, 242)\",\"rgb(135, 197, 95)\",\"rgb(158, 185, 243)\",\"rgb(254, 136, 177)\",\"rgb(201, 219, 116)\",\"rgb(139, 224, 164)\",\"rgb(180, 151, 231)\",\"rgb(179, 179, 179)\"],\"pattern\":{\"shape\":\"\"}},\"name\":\"count\",\"offsetgroup\":\"count\",\"orientation\":\"h\",\"showlegend\":true,\"text\":[11866.0,18301.0,19644.0,23237.0,32329.0,34241.0,34675.0,38444.0,47915.0,184661.0],\"textposition\":\"auto\",\"x\":[11866,18301,19644,23237,32329,34241,34675,38444,47915,184661],\"xaxis\":\"x\",\"y\":[\"GENERAL WEAKNESS\",\"HEAD INJURY\",\"SUBJECT IN PAIN\",\"ROAD OBSTRUCTION\",\"CARDIAC EMERGENCY\",\"RESPIRATORY EMERGENCY\",\"FALL VICTIM\",\"FIRE ALARM\",\"DISABLED VEHICLE\",\"VEHICLE ACCIDENT\"],\"yaxis\":\"y\",\"type\":\"bar\"}],                        {\"template\":{\"data\":{\"barpolar\":[{\"marker\":{\"line\":{\"color\":\"white\",\"width\":0.5},\"pattern\":{\"fillmode\":\"overlay\",\"size\":10,\"solidity\":0.2}},\"type\":\"barpolar\"}],\"bar\":[{\"error_x\":{\"color\":\"#2a3f5f\"},\"error_y\":{\"color\":\"#2a3f5f\"},\"marker\":{\"line\":{\"color\":\"white\",\"width\":0.5},\"pattern\":{\"fillmode\":\"overlay\",\"size\":10,\"solidity\":0.2}},\"type\":\"bar\"}],\"carpet\":[{\"aaxis\":{\"endlinecolor\":\"#2a3f5f\",\"gridcolor\":\"#C8D4E3\",\"linecolor\":\"#C8D4E3\",\"minorgridcolor\":\"#C8D4E3\",\"startlinecolor\":\"#2a3f5f\"},\"baxis\":{\"endlinecolor\":\"#2a3f5f\",\"gridcolor\":\"#C8D4E3\",\"linecolor\":\"#C8D4E3\",\"minorgridcolor\":\"#C8D4E3\",\"startlinecolor\":\"#2a3f5f\"},\"type\":\"carpet\"}],\"choropleth\":[{\"colorbar\":{\"outlinewidth\":0,\"ticks\":\"\"},\"type\":\"choropleth\"}],\"contourcarpet\":[{\"colorbar\":{\"outlinewidth\":0,\"ticks\":\"\"},\"type\":\"contourcarpet\"}],\"contour\":[{\"colorbar\":{\"outlinewidth\":0,\"ticks\":\"\"},\"colorscale\":[[0.0,\"#0d0887\"],[0.1111111111111111,\"#46039f\"],[0.2222222222222222,\"#7201a8\"],[0.3333333333333333,\"#9c179e\"],[0.4444444444444444,\"#bd3786\"],[0.5555555555555556,\"#d8576b\"],[0.6666666666666666,\"#ed7953\"],[0.7777777777777778,\"#fb9f3a\"],[0.8888888888888888,\"#fdca26\"],[1.0,\"#f0f921\"]],\"type\":\"contour\"}],\"heatmapgl\":[{\"colorbar\":{\"outlinewidth\":0,\"ticks\":\"\"},\"colorscale\":[[0.0,\"#0d0887\"],[0.1111111111111111,\"#46039f\"],[0.2222222222222222,\"#7201a8\"],[0.3333333333333333,\"#9c179e\"],[0.4444444444444444,\"#bd3786\"],[0.5555555555555556,\"#d8576b\"],[0.6666666666666666,\"#ed7953\"],[0.7777777777777778,\"#fb9f3a\"],[0.8888888888888888,\"#fdca26\"],[1.0,\"#f0f921\"]],\"type\":\"heatmapgl\"}],\"heatmap\":[{\"colorbar\":{\"outlinewidth\":0,\"ticks\":\"\"},\"colorscale\":[[0.0,\"#0d0887\"],[0.1111111111111111,\"#46039f\"],[0.2222222222222222,\"#7201a8\"],[0.3333333333333333,\"#9c179e\"],[0.4444444444444444,\"#bd3786\"],[0.5555555555555556,\"#d8576b\"],[0.6666666666666666,\"#ed7953\"],[0.7777777777777778,\"#fb9f3a\"],[0.8888888888888888,\"#fdca26\"],[1.0,\"#f0f921\"]],\"type\":\"heatmap\"}],\"histogram2dcontour\":[{\"colorbar\":{\"outlinewidth\":0,\"ticks\":\"\"},\"colorscale\":[[0.0,\"#0d0887\"],[0.1111111111111111,\"#46039f\"],[0.2222222222222222,\"#7201a8\"],[0.3333333333333333,\"#9c179e\"],[0.4444444444444444,\"#bd3786\"],[0.5555555555555556,\"#d8576b\"],[0.6666666666666666,\"#ed7953\"],[0.7777777777777778,\"#fb9f3a\"],[0.8888888888888888,\"#fdca26\"],[1.0,\"#f0f921\"]],\"type\":\"histogram2dcontour\"}],\"histogram2d\":[{\"colorbar\":{\"outlinewidth\":0,\"ticks\":\"\"},\"colorscale\":[[0.0,\"#0d0887\"],[0.1111111111111111,\"#46039f\"],[0.2222222222222222,\"#7201a8\"],[0.3333333333333333,\"#9c179e\"],[0.4444444444444444,\"#bd3786\"],[0.5555555555555556,\"#d8576b\"],[0.6666666666666666,\"#ed7953\"],[0.7777777777777778,\"#fb9f3a\"],[0.8888888888888888,\"#fdca26\"],[1.0,\"#f0f921\"]],\"type\":\"histogram2d\"}],\"histogram\":[{\"marker\":{\"pattern\":{\"fillmode\":\"overlay\",\"size\":10,\"solidity\":0.2}},\"type\":\"histogram\"}],\"mesh3d\":[{\"colorbar\":{\"outlinewidth\":0,\"ticks\":\"\"},\"type\":\"mesh3d\"}],\"parcoords\":[{\"line\":{\"colorbar\":{\"outlinewidth\":0,\"ticks\":\"\"}},\"type\":\"parcoords\"}],\"pie\":[{\"automargin\":true,\"type\":\"pie\"}],\"scatter3d\":[{\"line\":{\"colorbar\":{\"outlinewidth\":0,\"ticks\":\"\"}},\"marker\":{\"colorbar\":{\"outlinewidth\":0,\"ticks\":\"\"}},\"type\":\"scatter3d\"}],\"scattercarpet\":[{\"marker\":{\"colorbar\":{\"outlinewidth\":0,\"ticks\":\"\"}},\"type\":\"scattercarpet\"}],\"scattergeo\":[{\"marker\":{\"colorbar\":{\"outlinewidth\":0,\"ticks\":\"\"}},\"type\":\"scattergeo\"}],\"scattergl\":[{\"marker\":{\"colorbar\":{\"outlinewidth\":0,\"ticks\":\"\"}},\"type\":\"scattergl\"}],\"scattermapbox\":[{\"marker\":{\"colorbar\":{\"outlinewidth\":0,\"ticks\":\"\"}},\"type\":\"scattermapbox\"}],\"scatterpolargl\":[{\"marker\":{\"colorbar\":{\"outlinewidth\":0,\"ticks\":\"\"}},\"type\":\"scatterpolargl\"}],\"scatterpolar\":[{\"marker\":{\"colorbar\":{\"outlinewidth\":0,\"ticks\":\"\"}},\"type\":\"scatterpolar\"}],\"scatter\":[{\"marker\":{\"colorbar\":{\"outlinewidth\":0,\"ticks\":\"\"}},\"type\":\"scatter\"}],\"scatterternary\":[{\"marker\":{\"colorbar\":{\"outlinewidth\":0,\"ticks\":\"\"}},\"type\":\"scatterternary\"}],\"surface\":[{\"colorbar\":{\"outlinewidth\":0,\"ticks\":\"\"},\"colorscale\":[[0.0,\"#0d0887\"],[0.1111111111111111,\"#46039f\"],[0.2222222222222222,\"#7201a8\"],[0.3333333333333333,\"#9c179e\"],[0.4444444444444444,\"#bd3786\"],[0.5555555555555556,\"#d8576b\"],[0.6666666666666666,\"#ed7953\"],[0.7777777777777778,\"#fb9f3a\"],[0.8888888888888888,\"#fdca26\"],[1.0,\"#f0f921\"]],\"type\":\"surface\"}],\"table\":[{\"cells\":{\"fill\":{\"color\":\"#EBF0F8\"},\"line\":{\"color\":\"white\"}},\"header\":{\"fill\":{\"color\":\"#C8D4E3\"},\"line\":{\"color\":\"white\"}},\"type\":\"table\"}]},\"layout\":{\"annotationdefaults\":{\"arrowcolor\":\"#2a3f5f\",\"arrowhead\":0,\"arrowwidth\":1},\"autotypenumbers\":\"strict\",\"coloraxis\":{\"colorbar\":{\"outlinewidth\":0,\"ticks\":\"\"}},\"colorscale\":{\"diverging\":[[0,\"#8e0152\"],[0.1,\"#c51b7d\"],[0.2,\"#de77ae\"],[0.3,\"#f1b6da\"],[0.4,\"#fde0ef\"],[0.5,\"#f7f7f7\"],[0.6,\"#e6f5d0\"],[0.7,\"#b8e186\"],[0.8,\"#7fbc41\"],[0.9,\"#4d9221\"],[1,\"#276419\"]],\"sequential\":[[0.0,\"#0d0887\"],[0.1111111111111111,\"#46039f\"],[0.2222222222222222,\"#7201a8\"],[0.3333333333333333,\"#9c179e\"],[0.4444444444444444,\"#bd3786\"],[0.5555555555555556,\"#d8576b\"],[0.6666666666666666,\"#ed7953\"],[0.7777777777777778,\"#fb9f3a\"],[0.8888888888888888,\"#fdca26\"],[1.0,\"#f0f921\"]],\"sequentialminus\":[[0.0,\"#0d0887\"],[0.1111111111111111,\"#46039f\"],[0.2222222222222222,\"#7201a8\"],[0.3333333333333333,\"#9c179e\"],[0.4444444444444444,\"#bd3786\"],[0.5555555555555556,\"#d8576b\"],[0.6666666666666666,\"#ed7953\"],[0.7777777777777778,\"#fb9f3a\"],[0.8888888888888888,\"#fdca26\"],[1.0,\"#f0f921\"]]},\"colorway\":[\"#636efa\",\"#EF553B\",\"#00cc96\",\"#ab63fa\",\"#FFA15A\",\"#19d3f3\",\"#FF6692\",\"#B6E880\",\"#FF97FF\",\"#FECB52\"],\"font\":{\"color\":\"#2a3f5f\"},\"geo\":{\"bgcolor\":\"white\",\"lakecolor\":\"white\",\"landcolor\":\"white\",\"showlakes\":true,\"showland\":true,\"subunitcolor\":\"#C8D4E3\"},\"hoverlabel\":{\"align\":\"left\"},\"hovermode\":\"closest\",\"mapbox\":{\"style\":\"light\"},\"paper_bgcolor\":\"white\",\"plot_bgcolor\":\"white\",\"polar\":{\"angularaxis\":{\"gridcolor\":\"#EBF0F8\",\"linecolor\":\"#EBF0F8\",\"ticks\":\"\"},\"bgcolor\":\"white\",\"radialaxis\":{\"gridcolor\":\"#EBF0F8\",\"linecolor\":\"#EBF0F8\",\"ticks\":\"\"}},\"scene\":{\"xaxis\":{\"backgroundcolor\":\"white\",\"gridcolor\":\"#DFE8F3\",\"gridwidth\":2,\"linecolor\":\"#EBF0F8\",\"showbackground\":true,\"ticks\":\"\",\"zerolinecolor\":\"#EBF0F8\"},\"yaxis\":{\"backgroundcolor\":\"white\",\"gridcolor\":\"#DFE8F3\",\"gridwidth\":2,\"linecolor\":\"#EBF0F8\",\"showbackground\":true,\"ticks\":\"\",\"zerolinecolor\":\"#EBF0F8\"},\"zaxis\":{\"backgroundcolor\":\"white\",\"gridcolor\":\"#DFE8F3\",\"gridwidth\":2,\"linecolor\":\"#EBF0F8\",\"showbackground\":true,\"ticks\":\"\",\"zerolinecolor\":\"#EBF0F8\"}},\"shapedefaults\":{\"line\":{\"color\":\"#2a3f5f\"}},\"ternary\":{\"aaxis\":{\"gridcolor\":\"#DFE8F3\",\"linecolor\":\"#A2B1C6\",\"ticks\":\"\"},\"baxis\":{\"gridcolor\":\"#DFE8F3\",\"linecolor\":\"#A2B1C6\",\"ticks\":\"\"},\"bgcolor\":\"white\",\"caxis\":{\"gridcolor\":\"#DFE8F3\",\"linecolor\":\"#A2B1C6\",\"ticks\":\"\"}},\"title\":{\"x\":0.05},\"xaxis\":{\"automargin\":true,\"gridcolor\":\"#EBF0F8\",\"linecolor\":\"#EBF0F8\",\"ticks\":\"\",\"title\":{\"standoff\":15},\"zerolinecolor\":\"#EBF0F8\",\"zerolinewidth\":2},\"yaxis\":{\"automargin\":true,\"gridcolor\":\"#EBF0F8\",\"linecolor\":\"#EBF0F8\",\"ticks\":\"\",\"title\":{\"standoff\":15},\"zerolinecolor\":\"#EBF0F8\",\"zerolinewidth\":2}}},\"xaxis\":{\"anchor\":\"y\",\"domain\":[0.0,1.0],\"title\":{\"text\":\"Reasons\"}},\"yaxis\":{\"anchor\":\"x\",\"domain\":[0.0,1.0],\"title\":{\"text\":\"Count\"}},\"legend\":{\"title\":{\"text\":\"variable\"},\"tracegroupgap\":0},\"margin\":{\"t\":60},\"barmode\":\"relative\",\"title\":{\"text\":\"Top 10 Reasons for 911 Calls\",\"y\":0.98,\"x\":0.5,\"xanchor\":\"center\",\"yanchor\":\"top\"},\"showlegend\":false},                        {\"responsive\": true}                    ).then(function(){\n",
       "                            \n",
       "var gd = document.getElementById('2ca10ed0-eb28-4df2-9f85-054e370dcb3a');\n",
       "var x = new MutationObserver(function (mutations, observer) {{\n",
       "        var display = window.getComputedStyle(gd).display;\n",
       "        if (!display || display === 'none') {{\n",
       "            console.log([gd, 'removed!']);\n",
       "            Plotly.purge(gd);\n",
       "            observer.disconnect();\n",
       "        }}\n",
       "}});\n",
       "\n",
       "// Listen for the removal of the full notebook cells\n",
       "var notebookContainer = gd.closest('#notebook-container');\n",
       "if (notebookContainer) {{\n",
       "    x.observe(notebookContainer, {childList: true});\n",
       "}}\n",
       "\n",
       "// Listen for the clearing of the current output cell\n",
       "var outputEl = gd.closest('.output');\n",
       "if (outputEl) {{\n",
       "    x.observe(outputEl, {childList: true});\n",
       "}}\n",
       "\n",
       "                        })                };                });            </script>        </div>"
      ]
     },
     "metadata": {},
     "output_type": "display_data"
    }
   ],
   "source": [
    "top_10_reasons = data['title'].value_counts().to_frame(name='count').head(10).sort_values(by='count')\n",
    "fig = px.bar(top_10_reasons, color_discrete_sequence=[px.colors.qualitative.Pastel], orientation='h', text=top_10_reasons['count'].sort_values(ascending=True))\n",
    "\n",
    "fig.update_layout(title={\n",
    "                  'text': \"Top 10 Reasons for 911 Calls\",\n",
    "                  'y':0.98,\n",
    "                  'x':0.5,\n",
    "                  'xanchor': 'center',\n",
    "                  'yanchor': 'top'},\n",
    "                  xaxis_title='Reasons',\n",
    "                  yaxis_title='Count',\n",
    "                  showlegend=False,\n",
    "                  template='plotly_white')\n",
    "\n",
    "fig.show()"
   ]
  },
  {
   "cell_type": "markdown",
   "id": "06fec4e4",
   "metadata": {},
   "source": [
    "<ul><li>Approximately 28% of all calls are for vehicle accident.\n",
    "</li>\n",
    "<li>Followed by disabled vehicle calls which constitutes nearly 7% of all calls.\n",
    "</li></ul>"
   ]
  },
  {
   "cell_type": "code",
   "execution_count": 43,
   "id": "a2bfc94a",
   "metadata": {},
   "outputs": [
    {
     "name": "stderr",
     "output_type": "stream",
     "text": [
      "C:\\Users\\Jonty\\anaconda3\\lib\\site-packages\\seaborn\\_decorators.py:36: FutureWarning:\n",
      "\n",
      "Pass the following variables as keyword args: x, y. From version 0.12, the only valid positional argument will be `data`, and passing other arguments without an explicit keyword will result in an error or misinterpretation.\n",
      "\n"
     ]
    },
    {
     "data": {
      "image/png": "[encoded data removed]",
      "text/plain": [
       "<Figure size 1296x576 with 1 Axes>"
      ]
     },
     "metadata": {
      "needs_background": "light"
     },
     "output_type": "display_data"
    }
   ],
   "source": [
    "top_10_zip = data['zip'].value_counts().to_frame(name='count').head(10).sort_values(by='count')\n",
    "\n",
    "plt.subplots(figsize=(18, 8))\n",
    "ax = sb.barplot(top_10_zip.index, top_10_zip['count'])\n",
    "plt.xticks(rotation=90)\n",
    "ax.set(xlabel='Zip Codes', ylabel='Number of 911 Calls')\n",
    "plt.title('Top 10 Zip Codes For 911 Calls')\n",
    "\n",
    "plt.show()"
   ]
  },
  {
   "cell_type": "code",
   "execution_count": 44,
   "id": "24610560",
   "metadata": {},
   "outputs": [
    {
     "data": {
      "text/html": [
       "<style type=\"text/css\">\n",
       "#T_b61ff_row0_col1 {\n",
       "  background-color: #67000d;\n",
       "  color: #f1f1f1;\n",
       "}\n",
       "#T_b61ff_row1_col1 {\n",
       "  background-color: #e93529;\n",
       "  color: #f1f1f1;\n",
       "}\n",
       "#T_b61ff_row2_col1 {\n",
       "  background-color: #f24734;\n",
       "  color: #f1f1f1;\n",
       "}\n",
       "#T_b61ff_row3_col1 {\n",
       "  background-color: #f6553c;\n",
       "  color: #f1f1f1;\n",
       "}\n",
       "#T_b61ff_row4_col1 {\n",
       "  background-color: #fc8060;\n",
       "  color: #f1f1f1;\n",
       "}\n",
       "#T_b61ff_row5_col1 {\n",
       "  background-color: #fc9879;\n",
       "  color: #000000;\n",
       "}\n",
       "#T_b61ff_row6_col1 {\n",
       "  background-color: #fcb99f;\n",
       "  color: #000000;\n",
       "}\n",
       "#T_b61ff_row7_col1 {\n",
       "  background-color: #fcbca2;\n",
       "  color: #000000;\n",
       "}\n",
       "#T_b61ff_row8_col1 {\n",
       "  background-color: #fdccb8;\n",
       "  color: #000000;\n",
       "}\n",
       "#T_b61ff_row9_col1 {\n",
       "  background-color: #fdd4c2;\n",
       "  color: #000000;\n",
       "}\n",
       "#T_b61ff_row10_col1 {\n",
       "  background-color: #fed8c7;\n",
       "  color: #000000;\n",
       "}\n",
       "#T_b61ff_row11_col1 {\n",
       "  background-color: #fedccd;\n",
       "  color: #000000;\n",
       "}\n",
       "#T_b61ff_row12_col1 {\n",
       "  background-color: #fedfd0;\n",
       "  color: #000000;\n",
       "}\n",
       "#T_b61ff_row13_col1 {\n",
       "  background-color: #fee4d8;\n",
       "  color: #000000;\n",
       "}\n",
       "#T_b61ff_row14_col1 {\n",
       "  background-color: #fee7db;\n",
       "  color: #000000;\n",
       "}\n",
       "#T_b61ff_row15_col1 {\n",
       "  background-color: #ffebe2;\n",
       "  color: #000000;\n",
       "}\n",
       "#T_b61ff_row16_col1 {\n",
       "  background-color: #ffece4;\n",
       "  color: #000000;\n",
       "}\n",
       "#T_b61ff_row17_col1 {\n",
       "  background-color: #ffeee7;\n",
       "  color: #000000;\n",
       "}\n",
       "#T_b61ff_row18_col1 {\n",
       "  background-color: #fff4ef;\n",
       "  color: #000000;\n",
       "}\n",
       "#T_b61ff_row19_col1 {\n",
       "  background-color: #fff5f0;\n",
       "  color: #000000;\n",
       "}\n",
       "</style>\n",
       "<table id=\"T_b61ff\">\n",
       "  <thead>\n",
       "    <tr>\n",
       "      <th class=\"blank level0\" >&nbsp;</th>\n",
       "      <th id=\"T_b61ff_level0_col0\" class=\"col_heading level0 col0\" >index</th>\n",
       "      <th id=\"T_b61ff_level0_col1\" class=\"col_heading level0 col1\" >count</th>\n",
       "    </tr>\n",
       "  </thead>\n",
       "  <tbody>\n",
       "    <tr>\n",
       "      <th id=\"T_b61ff_level0_row0\" class=\"row_heading level0 row0\" >0</th>\n",
       "      <td id=\"T_b61ff_row0_col0\" class=\"data row0 col0\" >LOWER MERION</td>\n",
       "      <td id=\"T_b61ff_row0_col1\" class=\"data row0 col1\" >55490</td>\n",
       "    </tr>\n",
       "    <tr>\n",
       "      <th id=\"T_b61ff_level0_row1\" class=\"row_heading level0 row1\" >1</th>\n",
       "      <td id=\"T_b61ff_row1_col0\" class=\"data row1 col0\" >ABINGTON</td>\n",
       "      <td id=\"T_b61ff_row1_col1\" class=\"data row1 col1\" >39947</td>\n",
       "    </tr>\n",
       "    <tr>\n",
       "      <th id=\"T_b61ff_level0_row2\" class=\"row_heading level0 row2\" >2</th>\n",
       "      <td id=\"T_b61ff_row2_col0\" class=\"data row2 col0\" >NORRISTOWN</td>\n",
       "      <td id=\"T_b61ff_row2_col1\" class=\"data row2 col1\" >37633</td>\n",
       "    </tr>\n",
       "    <tr>\n",
       "      <th id=\"T_b61ff_level0_row3\" class=\"row_heading level0 row3\" >3</th>\n",
       "      <td id=\"T_b61ff_row3_col0\" class=\"data row3 col0\" >UPPER MERION</td>\n",
       "      <td id=\"T_b61ff_row3_col1\" class=\"data row3 col1\" >36010</td>\n",
       "    </tr>\n",
       "    <tr>\n",
       "      <th id=\"T_b61ff_level0_row4\" class=\"row_heading level0 row4\" >4</th>\n",
       "      <td id=\"T_b61ff_row4_col0\" class=\"data row4 col0\" >CHELTENHAM</td>\n",
       "      <td id=\"T_b61ff_row4_col1\" class=\"data row4 col1\" >30574</td>\n",
       "    </tr>\n",
       "    <tr>\n",
       "      <th id=\"T_b61ff_level0_row5\" class=\"row_heading level0 row5\" >5</th>\n",
       "      <td id=\"T_b61ff_row5_col0\" class=\"data row5 col0\" >POTTSTOWN</td>\n",
       "      <td id=\"T_b61ff_row5_col1\" class=\"data row5 col1\" >27387</td>\n",
       "    </tr>\n",
       "    <tr>\n",
       "      <th id=\"T_b61ff_level0_row6\" class=\"row_heading level0 row6\" >6</th>\n",
       "      <td id=\"T_b61ff_row6_col0\" class=\"data row6 col0\" >UPPER MORELAND</td>\n",
       "      <td id=\"T_b61ff_row6_col1\" class=\"data row6 col1\" >22932</td>\n",
       "    </tr>\n",
       "    <tr>\n",
       "      <th id=\"T_b61ff_level0_row7\" class=\"row_heading level0 row7\" >7</th>\n",
       "      <td id=\"T_b61ff_row7_col0\" class=\"data row7 col0\" >LOWER PROVIDENCE</td>\n",
       "      <td id=\"T_b61ff_row7_col1\" class=\"data row7 col1\" >22476</td>\n",
       "    </tr>\n",
       "    <tr>\n",
       "      <th id=\"T_b61ff_level0_row8\" class=\"row_heading level0 row8\" >8</th>\n",
       "      <td id=\"T_b61ff_row8_col0\" class=\"data row8 col0\" >PLYMOUTH</td>\n",
       "      <td id=\"T_b61ff_row8_col1\" class=\"data row8 col1\" >20116</td>\n",
       "    </tr>\n",
       "    <tr>\n",
       "      <th id=\"T_b61ff_level0_row9\" class=\"row_heading level0 row9\" >9</th>\n",
       "      <td id=\"T_b61ff_row9_col0\" class=\"data row9 col0\" >UPPER DUBLIN</td>\n",
       "      <td id=\"T_b61ff_row9_col1\" class=\"data row9 col1\" >18862</td>\n",
       "    </tr>\n",
       "    <tr>\n",
       "      <th id=\"T_b61ff_level0_row10\" class=\"row_heading level0 row10\" >10</th>\n",
       "      <td id=\"T_b61ff_row10_col0\" class=\"data row10 col0\" >HORSHAM</td>\n",
       "      <td id=\"T_b61ff_row10_col1\" class=\"data row10 col1\" >18380</td>\n",
       "    </tr>\n",
       "    <tr>\n",
       "      <th id=\"T_b61ff_level0_row11\" class=\"row_heading level0 row11\" >11</th>\n",
       "      <td id=\"T_b61ff_row11_col0\" class=\"data row11 col0\" >WHITEMARSH</td>\n",
       "      <td id=\"T_b61ff_row11_col1\" class=\"data row11 col1\" >17754</td>\n",
       "    </tr>\n",
       "    <tr>\n",
       "      <th id=\"T_b61ff_level0_row12\" class=\"row_heading level0 row12\" >12</th>\n",
       "      <td id=\"T_b61ff_row12_col0\" class=\"data row12 col0\" >MONTGOMERY</td>\n",
       "      <td id=\"T_b61ff_row12_col1\" class=\"data row12 col1\" >17315</td>\n",
       "    </tr>\n",
       "    <tr>\n",
       "      <th id=\"T_b61ff_level0_row13\" class=\"row_heading level0 row13\" >13</th>\n",
       "      <td id=\"T_b61ff_row13_col0\" class=\"data row13 col0\" >UPPER PROVIDENCE</td>\n",
       "      <td id=\"T_b61ff_row13_col1\" class=\"data row13 col1\" >16122</td>\n",
       "    </tr>\n",
       "    <tr>\n",
       "      <th id=\"T_b61ff_level0_row14\" class=\"row_heading level0 row14\" >14</th>\n",
       "      <td id=\"T_b61ff_row14_col0\" class=\"data row14 col0\" >SPRINGFIELD</td>\n",
       "      <td id=\"T_b61ff_row14_col1\" class=\"data row14 col1\" >15504</td>\n",
       "    </tr>\n",
       "    <tr>\n",
       "      <th id=\"T_b61ff_level0_row15\" class=\"row_heading level0 row15\" >15</th>\n",
       "      <td id=\"T_b61ff_row15_col0\" class=\"data row15 col0\" >LIMERICK</td>\n",
       "      <td id=\"T_b61ff_row15_col1\" class=\"data row15 col1\" >14338</td>\n",
       "    </tr>\n",
       "    <tr>\n",
       "      <th id=\"T_b61ff_level0_row16\" class=\"row_heading level0 row16\" >16</th>\n",
       "      <td id=\"T_b61ff_row16_col0\" class=\"data row16 col0\" >EAST NORRITON</td>\n",
       "      <td id=\"T_b61ff_row16_col1\" class=\"data row16 col1\" >13963</td>\n",
       "    </tr>\n",
       "    <tr>\n",
       "      <th id=\"T_b61ff_level0_row17\" class=\"row_heading level0 row17\" >17</th>\n",
       "      <td id=\"T_b61ff_row17_col0\" class=\"data row17 col0\" >WHITPAIN</td>\n",
       "      <td id=\"T_b61ff_row17_col1\" class=\"data row17 col1\" >13480</td>\n",
       "    </tr>\n",
       "    <tr>\n",
       "      <th id=\"T_b61ff_level0_row18\" class=\"row_heading level0 row18\" >18</th>\n",
       "      <td id=\"T_b61ff_row18_col0\" class=\"data row18 col0\" >LANSDALE</td>\n",
       "      <td id=\"T_b61ff_row18_col1\" class=\"data row18 col1\" >11963</td>\n",
       "    </tr>\n",
       "    <tr>\n",
       "      <th id=\"T_b61ff_level0_row19\" class=\"row_heading level0 row19\" >19</th>\n",
       "      <td id=\"T_b61ff_row19_col0\" class=\"data row19 col0\" >HATFIELD TOWNSHIP</td>\n",
       "      <td id=\"T_b61ff_row19_col1\" class=\"data row19 col1\" >11641</td>\n",
       "    </tr>\n",
       "  </tbody>\n",
       "</table>\n"
      ],
      "text/plain": [
       "<pandas.io.formats.style.Styler at 0x29312f1bee0>"
      ]
     },
     "execution_count": 44,
     "metadata": {},
     "output_type": "execute_result"
    }
   ],
   "source": [
    "#911 calls based on different Township\n",
    "\n",
    "data['twp'].value_counts()\\\n",
    "           .head(20)\\\n",
    "           .to_frame(name='count')\\\n",
    "           .reset_index()\\\n",
    "           .style.background_gradient(cmap='Reds', subset=['count'])"
   ]
  },
  {
   "cell_type": "code",
   "execution_count": 45,
   "id": "dd6c57d9",
   "metadata": {},
   "outputs": [
    {
     "data": {
      "application/vnd.plotly.v1+json": {
       "config": {
        "linkText": "Export to plot.ly",
        "plotlyServerURL": "https://plot.ly",
        "showLink": true
       },
       "data": [
        {
         "marker": {
          "color": "rgba(219, 64, 82, 0.6)",
          "line": {
           "color": "rgba(219, 64, 82, 1.0)",
           "width": 1
          }
         },
         "name": "count",
         "orientation": "v",
         "text": "",
         "type": "bar",
         "x": [
          "UPPER DUBLIN",
          "PLYMOUTH",
          "LOWER PROVIDENCE",
          "UPPER MORELAND",
          "POTTSTOWN",
          "CHELTENHAM",
          "UPPER MERION",
          "NORRISTOWN",
          "ABINGTON",
          "LOWER MERION"
         ],
         "y": [
          18862,
          20116,
          22476,
          22932,
          27387,
          30574,
          36010,
          37633,
          39947,
          55490
         ]
        }
       ],
       "layout": {
        "bargap": 0.3,
        "legend": {
         "bgcolor": "#F5F6F9",
         "font": {
          "color": "#4D5663"
         }
        },
        "paper_bgcolor": "#F5F6F9",
        "plot_bgcolor": "#F5F6F9",
        "template": {
         "data": {
          "bar": [
           {
            "error_x": {
             "color": "#2a3f5f"
            },
            "error_y": {
             "color": "#2a3f5f"
            },
            "marker": {
             "line": {
              "color": "#E5ECF6",
              "width": 0.5
             },
             "pattern": {
              "fillmode": "overlay",
              "size": 10,
              "solidity": 0.2
             }
            },
            "type": "bar"
           }
          ],
          "barpolar": [
           {
            "marker": {
             "line": {
              "color": "#E5ECF6",
              "width": 0.5
             },
             "pattern": {
              "fillmode": "overlay",
              "size": 10,
              "solidity": 0.2
             }
            },
            "type": "barpolar"
           }
          ],
          "carpet": [
           {
            "aaxis": {
             "endlinecolor": "#2a3f5f",
             "gridcolor": "white",
             "linecolor": "white",
             "minorgridcolor": "white",
             "startlinecolor": "#2a3f5f"
            },
            "baxis": {
             "endlinecolor": "#2a3f5f",
             "gridcolor": "white",
             "linecolor": "white",
             "minorgridcolor": "white",
             "startlinecolor": "#2a3f5f"
            },
            "type": "carpet"
           }
          ],
          "choropleth": [
           {
            "colorbar": {
             "outlinewidth": 0,
             "ticks": ""
            },
            "type": "choropleth"
           }
          ],
          "contour": [
           {
            "colorbar": {
             "outlinewidth": 0,
             "ticks": ""
            },
            "colorscale": [
             [
              0,
              "#0d0887"
             ],
             [
              0.1111111111111111,
              "#46039f"
             ],
             [
              0.2222222222222222,
              "#7201a8"
             ],
             [
              0.3333333333333333,
              "#9c179e"
             ],
             [
              0.4444444444444444,
              "#bd3786"
             ],
             [
              0.5555555555555556,
              "#d8576b"
             ],
             [
              0.6666666666666666,
              "#ed7953"
             ],
             [
              0.7777777777777778,
              "#fb9f3a"
             ],
             [
              0.8888888888888888,
              "#fdca26"
             ],
             [
              1,
              "#f0f921"
             ]
            ],
            "type": "contour"
           }
          ],
          "contourcarpet": [
           {
            "colorbar": {
             "outlinewidth": 0,
             "ticks": ""
            },
            "type": "contourcarpet"
           }
          ],
          "heatmap": [
           {
            "colorbar": {
             "outlinewidth": 0,
             "ticks": ""
            },
            "colorscale": [
             [
              0,
              "#0d0887"
             ],
             [
              0.1111111111111111,
              "#46039f"
             ],
             [
              0.2222222222222222,
              "#7201a8"
             ],
             [
              0.3333333333333333,
              "#9c179e"
             ],
             [
              0.4444444444444444,
              "#bd3786"
             ],
             [
              0.5555555555555556,
              "#d8576b"
             ],
             [
              0.6666666666666666,
              "#ed7953"
             ],
             [
              0.7777777777777778,
              "#fb9f3a"
             ],
             [
              0.8888888888888888,
              "#fdca26"
             ],
             [
              1,
              "#f0f921"
             ]
            ],
            "type": "heatmap"
           }
          ],
          "heatmapgl": [
           {
            "colorbar": {
             "outlinewidth": 0,
             "ticks": ""
            },
            "colorscale": [
             [
              0,
              "#0d0887"
             ],
             [
              0.1111111111111111,
              "#46039f"
             ],
             [
              0.2222222222222222,
              "#7201a8"
             ],
             [
              0.3333333333333333,
              "#9c179e"
             ],
             [
              0.4444444444444444,
              "#bd3786"
             ],
             [
              0.5555555555555556,
              "#d8576b"
             ],
             [
              0.6666666666666666,
              "#ed7953"
             ],
             [
              0.7777777777777778,
              "#fb9f3a"
             ],
             [
              0.8888888888888888,
              "#fdca26"
             ],
             [
              1,
              "#f0f921"
             ]
            ],
            "type": "heatmapgl"
           }
          ],
          "histogram": [
           {
            "marker": {
             "pattern": {
              "fillmode": "overlay",
              "size": 10,
              "solidity": 0.2
             }
            },
            "type": "histogram"
           }
          ],
          "histogram2d": [
           {
            "colorbar": {
             "outlinewidth": 0,
             "ticks": ""
            },
            "colorscale": [
             [
              0,
              "#0d0887"
             ],
             [
              0.1111111111111111,
              "#46039f"
             ],
             [
              0.2222222222222222,
              "#7201a8"
             ],
             [
              0.3333333333333333,
              "#9c179e"
             ],
             [
              0.4444444444444444,
              "#bd3786"
             ],
             [
              0.5555555555555556,
              "#d8576b"
             ],
             [
              0.6666666666666666,
              "#ed7953"
             ],
             [
              0.7777777777777778,
              "#fb9f3a"
             ],
             [
              0.8888888888888888,
              "#fdca26"
             ],
             [
              1,
              "#f0f921"
             ]
            ],
            "type": "histogram2d"
           }
          ],
          "histogram2dcontour": [
           {
            "colorbar": {
             "outlinewidth": 0,
             "ticks": ""
            },
            "colorscale": [
             [
              0,
              "#0d0887"
             ],
             [
              0.1111111111111111,
              "#46039f"
             ],
             [
              0.2222222222222222,
              "#7201a8"
             ],
             [
              0.3333333333333333,
              "#9c179e"
             ],
             [
              0.4444444444444444,
              "#bd3786"
             ],
             [
              0.5555555555555556,
              "#d8576b"
             ],
             [
              0.6666666666666666,
              "#ed7953"
             ],
             [
              0.7777777777777778,
              "#fb9f3a"
             ],
             [
              0.8888888888888888,
              "#fdca26"
             ],
             [
              1,
              "#f0f921"
             ]
            ],
            "type": "histogram2dcontour"
           }
          ],
          "mesh3d": [
           {
            "colorbar": {
             "outlinewidth": 0,
             "ticks": ""
            },
            "type": "mesh3d"
           }
          ],
          "parcoords": [
           {
            "line": {
             "colorbar": {
              "outlinewidth": 0,
              "ticks": ""
             }
            },
            "type": "parcoords"
           }
          ],
          "pie": [
           {
            "automargin": true,
            "type": "pie"
           }
          ],
          "scatter": [
           {
            "marker": {
             "colorbar": {
              "outlinewidth": 0,
              "ticks": ""
             }
            },
            "type": "scatter"
           }
          ],
          "scatter3d": [
           {
            "line": {
             "colorbar": {
              "outlinewidth": 0,
              "ticks": ""
             }
            },
            "marker": {
             "colorbar": {
              "outlinewidth": 0,
              "ticks": ""
             }
            },
            "type": "scatter3d"
           }
          ],
          "scattercarpet": [
           {
            "marker": {
             "colorbar": {
              "outlinewidth": 0,
              "ticks": ""
             }
            },
            "type": "scattercarpet"
           }
          ],
          "scattergeo": [
           {
            "marker": {
             "colorbar": {
              "outlinewidth": 0,
              "ticks": ""
             }
            },
            "type": "scattergeo"
           }
          ],
          "scattergl": [
           {
            "marker": {
             "colorbar": {
              "outlinewidth": 0,
              "ticks": ""
             }
            },
            "type": "scattergl"
           }
          ],
          "scattermapbox": [
           {
            "marker": {
             "colorbar": {
              "outlinewidth": 0,
              "ticks": ""
             }
            },
            "type": "scattermapbox"
           }
          ],
          "scatterpolar": [
           {
            "marker": {
             "colorbar": {
              "outlinewidth": 0,
              "ticks": ""
             }
            },
            "type": "scatterpolar"
           }
          ],
          "scatterpolargl": [
           {
            "marker": {
             "colorbar": {
              "outlinewidth": 0,
              "ticks": ""
             }
            },
            "type": "scatterpolargl"
           }
          ],
          "scatterternary": [
           {
            "marker": {
             "colorbar": {
              "outlinewidth": 0,
              "ticks": ""
             }
            },
            "type": "scatterternary"
           }
          ],
          "surface": [
           {
            "colorbar": {
             "outlinewidth": 0,
             "ticks": ""
            },
            "colorscale": [
             [
              0,
              "#0d0887"
             ],
             [
              0.1111111111111111,
              "#46039f"
             ],
             [
              0.2222222222222222,
              "#7201a8"
             ],
             [
              0.3333333333333333,
              "#9c179e"
             ],
             [
              0.4444444444444444,
              "#bd3786"
             ],
             [
              0.5555555555555556,
              "#d8576b"
             ],
             [
              0.6666666666666666,
              "#ed7953"
             ],
             [
              0.7777777777777778,
              "#fb9f3a"
             ],
             [
              0.8888888888888888,
              "#fdca26"
             ],
             [
              1,
              "#f0f921"
             ]
            ],
            "type": "surface"
           }
          ],
          "table": [
           {
            "cells": {
             "fill": {
              "color": "#EBF0F8"
             },
             "line": {
              "color": "white"
             }
            },
            "header": {
             "fill": {
              "color": "#C8D4E3"
             },
             "line": {
              "color": "white"
             }
            },
            "type": "table"
           }
          ]
         },
         "layout": {
          "annotationdefaults": {
           "arrowcolor": "#2a3f5f",
           "arrowhead": 0,
           "arrowwidth": 1
          },
          "autotypenumbers": "strict",
          "coloraxis": {
           "colorbar": {
            "outlinewidth": 0,
            "ticks": ""
           }
          },
          "colorscale": {
           "diverging": [
            [
             0,
             "#8e0152"
            ],
            [
             0.1,
             "#c51b7d"
            ],
            [
             0.2,
             "#de77ae"
            ],
            [
             0.3,
             "#f1b6da"
            ],
            [
             0.4,
             "#fde0ef"
            ],
            [
             0.5,
             "#f7f7f7"
            ],
            [
             0.6,
             "#e6f5d0"
            ],
            [
             0.7,
             "#b8e186"
            ],
            [
             0.8,
             "#7fbc41"
            ],
            [
             0.9,
             "#4d9221"
            ],
            [
             1,
             "#276419"
            ]
           ],
           "sequential": [
            [
             0,
             "#0d0887"
            ],
            [
             0.1111111111111111,
             "#46039f"
            ],
            [
             0.2222222222222222,
             "#7201a8"
            ],
            [
             0.3333333333333333,
             "#9c179e"
            ],
            [
             0.4444444444444444,
             "#bd3786"
            ],
            [
             0.5555555555555556,
             "#d8576b"
            ],
            [
             0.6666666666666666,
             "#ed7953"
            ],
            [
             0.7777777777777778,
             "#fb9f3a"
            ],
            [
             0.8888888888888888,
             "#fdca26"
            ],
            [
             1,
             "#f0f921"
            ]
           ],
           "sequentialminus": [
            [
             0,
             "#0d0887"
            ],
            [
             0.1111111111111111,
             "#46039f"
            ],
            [
             0.2222222222222222,
             "#7201a8"
            ],
            [
             0.3333333333333333,
             "#9c179e"
            ],
            [
             0.4444444444444444,
             "#bd3786"
            ],
            [
             0.5555555555555556,
             "#d8576b"
            ],
            [
             0.6666666666666666,
             "#ed7953"
            ],
            [
             0.7777777777777778,
             "#fb9f3a"
            ],
            [
             0.8888888888888888,
             "#fdca26"
            ],
            [
             1,
             "#f0f921"
            ]
           ]
          },
          "colorway": [
           "#636efa",
           "#EF553B",
           "#00cc96",
           "#ab63fa",
           "#FFA15A",
           "#19d3f3",
           "#FF6692",
           "#B6E880",
           "#FF97FF",
           "#FECB52"
          ],
          "font": {
           "color": "#2a3f5f"
          },
          "geo": {
           "bgcolor": "white",
           "lakecolor": "white",
           "landcolor": "#E5ECF6",
           "showlakes": true,
           "showland": true,
           "subunitcolor": "white"
          },
          "hoverlabel": {
           "align": "left"
          },
          "hovermode": "closest",
          "mapbox": {
           "style": "light"
          },
          "paper_bgcolor": "white",
          "plot_bgcolor": "#E5ECF6",
          "polar": {
           "angularaxis": {
            "gridcolor": "white",
            "linecolor": "white",
            "ticks": ""
           },
           "bgcolor": "#E5ECF6",
           "radialaxis": {
            "gridcolor": "white",
            "linecolor": "white",
            "ticks": ""
           }
          },
          "scene": {
           "xaxis": {
            "backgroundcolor": "#E5ECF6",
            "gridcolor": "white",
            "gridwidth": 2,
            "linecolor": "white",
            "showbackground": true,
            "ticks": "",
            "zerolinecolor": "white"
           },
           "yaxis": {
            "backgroundcolor": "#E5ECF6",
            "gridcolor": "white",
            "gridwidth": 2,
            "linecolor": "white",
            "showbackground": true,
            "ticks": "",
            "zerolinecolor": "white"
           },
           "zaxis": {
            "backgroundcolor": "#E5ECF6",
            "gridcolor": "white",
            "gridwidth": 2,
            "linecolor": "white",
            "showbackground": true,
            "ticks": "",
            "zerolinecolor": "white"
           }
          },
          "shapedefaults": {
           "line": {
            "color": "#2a3f5f"
           }
          },
          "ternary": {
           "aaxis": {
            "gridcolor": "white",
            "linecolor": "white",
            "ticks": ""
           },
           "baxis": {
            "gridcolor": "white",
            "linecolor": "white",
            "ticks": ""
           },
           "bgcolor": "#E5ECF6",
           "caxis": {
            "gridcolor": "white",
            "linecolor": "white",
            "ticks": ""
           }
          },
          "title": {
           "x": 0.05
          },
          "xaxis": {
           "automargin": true,
           "gridcolor": "white",
           "linecolor": "white",
           "ticks": "",
           "title": {
            "standoff": 15
           },
           "zerolinecolor": "white",
           "zerolinewidth": 2
          },
          "yaxis": {
           "automargin": true,
           "gridcolor": "white",
           "linecolor": "white",
           "ticks": "",
           "title": {
            "standoff": 15
           },
           "zerolinecolor": "white",
           "zerolinewidth": 2
          }
         }
        },
        "title": {
         "font": {
          "color": "#4D5663"
         },
         "text": "Township"
        },
        "xaxis": {
         "gridcolor": "white",
         "linecolor": "black",
         "showgrid": true,
         "tickfont": {
          "color": "#4D5663"
         },
         "title": {
          "font": {
           "color": "#4D5663"
          },
          "text": "Day of Week"
         },
         "zerolinecolor": "#E1E5ED"
        },
        "yaxis": {
         "gridcolor": "white",
         "linecolor": "black",
         "showgrid": true,
         "tickfont": {
          "color": "#4D5663"
         },
         "title": {
          "font": {
           "color": "#4D5663"
          },
          "text": "Number of 911 Calss"
         },
         "zerolinecolor": "#E1E5ED"
        }
       }
      },
      "text/html": [
       "<div>                            <div id=\"1bc227ae-7761-4f50-92ab-c0fd03da9ead\" class=\"plotly-graph-div\" style=\"height:525px; width:100%;\"></div>            <script type=\"text/javascript\">                require([\"plotly\"], function(Plotly) {                    window.PLOTLYENV=window.PLOTLYENV || {};\n",
       "                    window.PLOTLYENV.BASE_URL='https://plot.ly';                                    if (document.getElementById(\"1bc227ae-7761-4f50-92ab-c0fd03da9ead\")) {                    Plotly.newPlot(                        \"1bc227ae-7761-4f50-92ab-c0fd03da9ead\",                        [{\"marker\":{\"color\":\"rgba(219, 64, 82, 0.6)\",\"line\":{\"color\":\"rgba(219, 64, 82, 1.0)\",\"width\":1}},\"name\":\"count\",\"orientation\":\"v\",\"text\":\"\",\"x\":[\"UPPER DUBLIN\",\"PLYMOUTH\",\"LOWER PROVIDENCE\",\"UPPER MORELAND\",\"POTTSTOWN\",\"CHELTENHAM\",\"UPPER MERION\",\"NORRISTOWN\",\"ABINGTON\",\"LOWER MERION\"],\"y\":[18862,20116,22476,22932,27387,30574,36010,37633,39947,55490],\"type\":\"bar\"}],                        {\"bargap\":0.3,\"legend\":{\"bgcolor\":\"#F5F6F9\",\"font\":{\"color\":\"#4D5663\"}},\"paper_bgcolor\":\"#F5F6F9\",\"plot_bgcolor\":\"#F5F6F9\",\"template\":{\"data\":{\"barpolar\":[{\"marker\":{\"line\":{\"color\":\"#E5ECF6\",\"width\":0.5},\"pattern\":{\"fillmode\":\"overlay\",\"size\":10,\"solidity\":0.2}},\"type\":\"barpolar\"}],\"bar\":[{\"error_x\":{\"color\":\"#2a3f5f\"},\"error_y\":{\"color\":\"#2a3f5f\"},\"marker\":{\"line\":{\"color\":\"#E5ECF6\",\"width\":0.5},\"pattern\":{\"fillmode\":\"overlay\",\"size\":10,\"solidity\":0.2}},\"type\":\"bar\"}],\"carpet\":[{\"aaxis\":{\"endlinecolor\":\"#2a3f5f\",\"gridcolor\":\"white\",\"linecolor\":\"white\",\"minorgridcolor\":\"white\",\"startlinecolor\":\"#2a3f5f\"},\"baxis\":{\"endlinecolor\":\"#2a3f5f\",\"gridcolor\":\"white\",\"linecolor\":\"white\",\"minorgridcolor\":\"white\",\"startlinecolor\":\"#2a3f5f\"},\"type\":\"carpet\"}],\"choropleth\":[{\"colorbar\":{\"outlinewidth\":0,\"ticks\":\"\"},\"type\":\"choropleth\"}],\"contourcarpet\":[{\"colorbar\":{\"outlinewidth\":0,\"ticks\":\"\"},\"type\":\"contourcarpet\"}],\"contour\":[{\"colorbar\":{\"outlinewidth\":0,\"ticks\":\"\"},\"colorscale\":[[0.0,\"#0d0887\"],[0.1111111111111111,\"#46039f\"],[0.2222222222222222,\"#7201a8\"],[0.3333333333333333,\"#9c179e\"],[0.4444444444444444,\"#bd3786\"],[0.5555555555555556,\"#d8576b\"],[0.6666666666666666,\"#ed7953\"],[0.7777777777777778,\"#fb9f3a\"],[0.8888888888888888,\"#fdca26\"],[1.0,\"#f0f921\"]],\"type\":\"contour\"}],\"heatmapgl\":[{\"colorbar\":{\"outlinewidth\":0,\"ticks\":\"\"},\"colorscale\":[[0.0,\"#0d0887\"],[0.1111111111111111,\"#46039f\"],[0.2222222222222222,\"#7201a8\"],[0.3333333333333333,\"#9c179e\"],[0.4444444444444444,\"#bd3786\"],[0.5555555555555556,\"#d8576b\"],[0.6666666666666666,\"#ed7953\"],[0.7777777777777778,\"#fb9f3a\"],[0.8888888888888888,\"#fdca26\"],[1.0,\"#f0f921\"]],\"type\":\"heatmapgl\"}],\"heatmap\":[{\"colorbar\":{\"outlinewidth\":0,\"ticks\":\"\"},\"colorscale\":[[0.0,\"#0d0887\"],[0.1111111111111111,\"#46039f\"],[0.2222222222222222,\"#7201a8\"],[0.3333333333333333,\"#9c179e\"],[0.4444444444444444,\"#bd3786\"],[0.5555555555555556,\"#d8576b\"],[0.6666666666666666,\"#ed7953\"],[0.7777777777777778,\"#fb9f3a\"],[0.8888888888888888,\"#fdca26\"],[1.0,\"#f0f921\"]],\"type\":\"heatmap\"}],\"histogram2dcontour\":[{\"colorbar\":{\"outlinewidth\":0,\"ticks\":\"\"},\"colorscale\":[[0.0,\"#0d0887\"],[0.1111111111111111,\"#46039f\"],[0.2222222222222222,\"#7201a8\"],[0.3333333333333333,\"#9c179e\"],[0.4444444444444444,\"#bd3786\"],[0.5555555555555556,\"#d8576b\"],[0.6666666666666666,\"#ed7953\"],[0.7777777777777778,\"#fb9f3a\"],[0.8888888888888888,\"#fdca26\"],[1.0,\"#f0f921\"]],\"type\":\"histogram2dcontour\"}],\"histogram2d\":[{\"colorbar\":{\"outlinewidth\":0,\"ticks\":\"\"},\"colorscale\":[[0.0,\"#0d0887\"],[0.1111111111111111,\"#46039f\"],[0.2222222222222222,\"#7201a8\"],[0.3333333333333333,\"#9c179e\"],[0.4444444444444444,\"#bd3786\"],[0.5555555555555556,\"#d8576b\"],[0.6666666666666666,\"#ed7953\"],[0.7777777777777778,\"#fb9f3a\"],[0.8888888888888888,\"#fdca26\"],[1.0,\"#f0f921\"]],\"type\":\"histogram2d\"}],\"histogram\":[{\"marker\":{\"pattern\":{\"fillmode\":\"overlay\",\"size\":10,\"solidity\":0.2}},\"type\":\"histogram\"}],\"mesh3d\":[{\"colorbar\":{\"outlinewidth\":0,\"ticks\":\"\"},\"type\":\"mesh3d\"}],\"parcoords\":[{\"line\":{\"colorbar\":{\"outlinewidth\":0,\"ticks\":\"\"}},\"type\":\"parcoords\"}],\"pie\":[{\"automargin\":true,\"type\":\"pie\"}],\"scatter3d\":[{\"line\":{\"colorbar\":{\"outlinewidth\":0,\"ticks\":\"\"}},\"marker\":{\"colorbar\":{\"outlinewidth\":0,\"ticks\":\"\"}},\"type\":\"scatter3d\"}],\"scattercarpet\":[{\"marker\":{\"colorbar\":{\"outlinewidth\":0,\"ticks\":\"\"}},\"type\":\"scattercarpet\"}],\"scattergeo\":[{\"marker\":{\"colorbar\":{\"outlinewidth\":0,\"ticks\":\"\"}},\"type\":\"scattergeo\"}],\"scattergl\":[{\"marker\":{\"colorbar\":{\"outlinewidth\":0,\"ticks\":\"\"}},\"type\":\"scattergl\"}],\"scattermapbox\":[{\"marker\":{\"colorbar\":{\"outlinewidth\":0,\"ticks\":\"\"}},\"type\":\"scattermapbox\"}],\"scatterpolargl\":[{\"marker\":{\"colorbar\":{\"outlinewidth\":0,\"ticks\":\"\"}},\"type\":\"scatterpolargl\"}],\"scatterpolar\":[{\"marker\":{\"colorbar\":{\"outlinewidth\":0,\"ticks\":\"\"}},\"type\":\"scatterpolar\"}],\"scatter\":[{\"marker\":{\"colorbar\":{\"outlinewidth\":0,\"ticks\":\"\"}},\"type\":\"scatter\"}],\"scatterternary\":[{\"marker\":{\"colorbar\":{\"outlinewidth\":0,\"ticks\":\"\"}},\"type\":\"scatterternary\"}],\"surface\":[{\"colorbar\":{\"outlinewidth\":0,\"ticks\":\"\"},\"colorscale\":[[0.0,\"#0d0887\"],[0.1111111111111111,\"#46039f\"],[0.2222222222222222,\"#7201a8\"],[0.3333333333333333,\"#9c179e\"],[0.4444444444444444,\"#bd3786\"],[0.5555555555555556,\"#d8576b\"],[0.6666666666666666,\"#ed7953\"],[0.7777777777777778,\"#fb9f3a\"],[0.8888888888888888,\"#fdca26\"],[1.0,\"#f0f921\"]],\"type\":\"surface\"}],\"table\":[{\"cells\":{\"fill\":{\"color\":\"#EBF0F8\"},\"line\":{\"color\":\"white\"}},\"header\":{\"fill\":{\"color\":\"#C8D4E3\"},\"line\":{\"color\":\"white\"}},\"type\":\"table\"}]},\"layout\":{\"annotationdefaults\":{\"arrowcolor\":\"#2a3f5f\",\"arrowhead\":0,\"arrowwidth\":1},\"autotypenumbers\":\"strict\",\"coloraxis\":{\"colorbar\":{\"outlinewidth\":0,\"ticks\":\"\"}},\"colorscale\":{\"diverging\":[[0,\"#8e0152\"],[0.1,\"#c51b7d\"],[0.2,\"#de77ae\"],[0.3,\"#f1b6da\"],[0.4,\"#fde0ef\"],[0.5,\"#f7f7f7\"],[0.6,\"#e6f5d0\"],[0.7,\"#b8e186\"],[0.8,\"#7fbc41\"],[0.9,\"#4d9221\"],[1,\"#276419\"]],\"sequential\":[[0.0,\"#0d0887\"],[0.1111111111111111,\"#46039f\"],[0.2222222222222222,\"#7201a8\"],[0.3333333333333333,\"#9c179e\"],[0.4444444444444444,\"#bd3786\"],[0.5555555555555556,\"#d8576b\"],[0.6666666666666666,\"#ed7953\"],[0.7777777777777778,\"#fb9f3a\"],[0.8888888888888888,\"#fdca26\"],[1.0,\"#f0f921\"]],\"sequentialminus\":[[0.0,\"#0d0887\"],[0.1111111111111111,\"#46039f\"],[0.2222222222222222,\"#7201a8\"],[0.3333333333333333,\"#9c179e\"],[0.4444444444444444,\"#bd3786\"],[0.5555555555555556,\"#d8576b\"],[0.6666666666666666,\"#ed7953\"],[0.7777777777777778,\"#fb9f3a\"],[0.8888888888888888,\"#fdca26\"],[1.0,\"#f0f921\"]]},\"colorway\":[\"#636efa\",\"#EF553B\",\"#00cc96\",\"#ab63fa\",\"#FFA15A\",\"#19d3f3\",\"#FF6692\",\"#B6E880\",\"#FF97FF\",\"#FECB52\"],\"font\":{\"color\":\"#2a3f5f\"},\"geo\":{\"bgcolor\":\"white\",\"lakecolor\":\"white\",\"landcolor\":\"#E5ECF6\",\"showlakes\":true,\"showland\":true,\"subunitcolor\":\"white\"},\"hoverlabel\":{\"align\":\"left\"},\"hovermode\":\"closest\",\"mapbox\":{\"style\":\"light\"},\"paper_bgcolor\":\"white\",\"plot_bgcolor\":\"#E5ECF6\",\"polar\":{\"angularaxis\":{\"gridcolor\":\"white\",\"linecolor\":\"white\",\"ticks\":\"\"},\"bgcolor\":\"#E5ECF6\",\"radialaxis\":{\"gridcolor\":\"white\",\"linecolor\":\"white\",\"ticks\":\"\"}},\"scene\":{\"xaxis\":{\"backgroundcolor\":\"#E5ECF6\",\"gridcolor\":\"white\",\"gridwidth\":2,\"linecolor\":\"white\",\"showbackground\":true,\"ticks\":\"\",\"zerolinecolor\":\"white\"},\"yaxis\":{\"backgroundcolor\":\"#E5ECF6\",\"gridcolor\":\"white\",\"gridwidth\":2,\"linecolor\":\"white\",\"showbackground\":true,\"ticks\":\"\",\"zerolinecolor\":\"white\"},\"zaxis\":{\"backgroundcolor\":\"#E5ECF6\",\"gridcolor\":\"white\",\"gridwidth\":2,\"linecolor\":\"white\",\"showbackground\":true,\"ticks\":\"\",\"zerolinecolor\":\"white\"}},\"shapedefaults\":{\"line\":{\"color\":\"#2a3f5f\"}},\"ternary\":{\"aaxis\":{\"gridcolor\":\"white\",\"linecolor\":\"white\",\"ticks\":\"\"},\"baxis\":{\"gridcolor\":\"white\",\"linecolor\":\"white\",\"ticks\":\"\"},\"bgcolor\":\"#E5ECF6\",\"caxis\":{\"gridcolor\":\"white\",\"linecolor\":\"white\",\"ticks\":\"\"}},\"title\":{\"x\":0.05},\"xaxis\":{\"automargin\":true,\"gridcolor\":\"white\",\"linecolor\":\"white\",\"ticks\":\"\",\"title\":{\"standoff\":15},\"zerolinecolor\":\"white\",\"zerolinewidth\":2},\"yaxis\":{\"automargin\":true,\"gridcolor\":\"white\",\"linecolor\":\"white\",\"ticks\":\"\",\"title\":{\"standoff\":15},\"zerolinecolor\":\"white\",\"zerolinewidth\":2}}},\"title\":{\"font\":{\"color\":\"#4D5663\"},\"text\":\"Township\"},\"xaxis\":{\"gridcolor\":\"white\",\"linecolor\":\"black\",\"showgrid\":true,\"tickfont\":{\"color\":\"#4D5663\"},\"title\":{\"font\":{\"color\":\"#4D5663\"},\"text\":\"Day of Week\"},\"zerolinecolor\":\"#E1E5ED\"},\"yaxis\":{\"gridcolor\":\"white\",\"linecolor\":\"black\",\"showgrid\":true,\"tickfont\":{\"color\":\"#4D5663\"},\"title\":{\"font\":{\"color\":\"#4D5663\"},\"text\":\"Number of 911 Calss\"},\"zerolinecolor\":\"#E1E5ED\"}},                        {\"showLink\": true, \"linkText\": \"Export to plot.ly\", \"plotlyServerURL\": \"https://plot.ly\", \"responsive\": true}                    ).then(function(){\n",
       "                            \n",
       "var gd = document.getElementById('1bc227ae-7761-4f50-92ab-c0fd03da9ead');\n",
       "var x = new MutationObserver(function (mutations, observer) {{\n",
       "        var display = window.getComputedStyle(gd).display;\n",
       "        if (!display || display === 'none') {{\n",
       "            console.log([gd, 'removed!']);\n",
       "            Plotly.purge(gd);\n",
       "            observer.disconnect();\n",
       "        }}\n",
       "}});\n",
       "\n",
       "// Listen for the removal of the full notebook cells\n",
       "var notebookContainer = gd.closest('#notebook-container');\n",
       "if (notebookContainer) {{\n",
       "    x.observe(notebookContainer, {childList: true});\n",
       "}}\n",
       "\n",
       "// Listen for the clearing of the current output cell\n",
       "var outputEl = gd.closest('.output');\n",
       "if (outputEl) {{\n",
       "    x.observe(outputEl, {childList: true});\n",
       "}}\n",
       "\n",
       "                        })                };                });            </script>        </div>"
      ]
     },
     "metadata": {},
     "output_type": "display_data"
    }
   ],
   "source": [
    "top_10_twp = data['twp'].value_counts().to_frame(name='count').head(10).sort_values(by='count') \n",
    "\n",
    "top_10_twp.iplot(kind='bar', \n",
    "                 color='red',\n",
    "                 gridcolor='white',\n",
    "                 linecolor='black',\n",
    "                 theme='pearl',\n",
    "                 title='Township',\n",
    "                 yTitle='Number of 911 Calss',\n",
    "                 bargap=0.3,\n",
    "                 xTitle='Day of Week'\n",
    "                 )"
   ]
  },
  {
   "cell_type": "code",
   "execution_count": 48,
   "id": "afe3d21f",
   "metadata": {},
   "outputs": [
    {
     "data": {
      "text/html": [
       "<style type=\"text/css\">\n",
       "#T_a0d53_row0_col1 {\n",
       "  background-color: #fdcbb6;\n",
       "  color: #000000;\n",
       "}\n",
       "#T_a0d53_row0_col2 {\n",
       "  background-color: #006729;\n",
       "  color: #f1f1f1;\n",
       "}\n",
       "#T_a0d53_row1_col1 {\n",
       "  background-color: #fca486;\n",
       "  color: #000000;\n",
       "}\n",
       "#T_a0d53_row1_col2 {\n",
       "  background-color: #2d954d;\n",
       "  color: #f1f1f1;\n",
       "}\n",
       "#T_a0d53_row2_col1 {\n",
       "  background-color: #e02c26;\n",
       "  color: #f1f1f1;\n",
       "}\n",
       "#T_a0d53_row2_col2 {\n",
       "  background-color: #f1faee;\n",
       "  color: #000000;\n",
       "}\n",
       "#T_a0d53_row3_col1 {\n",
       "  background-color: #fdd2bf;\n",
       "  color: #000000;\n",
       "}\n",
       "#T_a0d53_row3_col2, #T_a0d53_row10_col2 {\n",
       "  background-color: #79c67a;\n",
       "  color: #000000;\n",
       "}\n",
       "#T_a0d53_row4_col1 {\n",
       "  background-color: #fcb79c;\n",
       "  color: #000000;\n",
       "}\n",
       "#T_a0d53_row4_col2 {\n",
       "  background-color: #00441b;\n",
       "  color: #f1f1f1;\n",
       "}\n",
       "#T_a0d53_row5_col1 {\n",
       "  background-color: #f14432;\n",
       "  color: #f1f1f1;\n",
       "}\n",
       "#T_a0d53_row5_col2 {\n",
       "  background-color: #43ac5e;\n",
       "  color: #f1f1f1;\n",
       "}\n",
       "#T_a0d53_row6_col1 {\n",
       "  background-color: #fee4d8;\n",
       "  color: #000000;\n",
       "}\n",
       "#T_a0d53_row6_col2 {\n",
       "  background-color: #016e2d;\n",
       "  color: #f1f1f1;\n",
       "}\n",
       "#T_a0d53_row7_col1 {\n",
       "  background-color: #fb7252;\n",
       "  color: #f1f1f1;\n",
       "}\n",
       "#T_a0d53_row7_col2 {\n",
       "  background-color: #e3f4de;\n",
       "  color: #000000;\n",
       "}\n",
       "#T_a0d53_row8_col1 {\n",
       "  background-color: #fc8a6a;\n",
       "  color: #f1f1f1;\n",
       "}\n",
       "#T_a0d53_row8_col2 {\n",
       "  background-color: #c0e6b9;\n",
       "  color: #000000;\n",
       "}\n",
       "#T_a0d53_row9_col1 {\n",
       "  background-color: #fee5d8;\n",
       "  color: #000000;\n",
       "}\n",
       "#T_a0d53_row9_col2 {\n",
       "  background-color: #5db96b;\n",
       "  color: #f1f1f1;\n",
       "}\n",
       "#T_a0d53_row10_col1 {\n",
       "  background-color: #fff5f0;\n",
       "  color: #000000;\n",
       "}\n",
       "#T_a0d53_row11_col1 {\n",
       "  background-color: #bf151b;\n",
       "  color: #f1f1f1;\n",
       "}\n",
       "#T_a0d53_row11_col2 {\n",
       "  background-color: #f7fcf5;\n",
       "  color: #000000;\n",
       "}\n",
       "#T_a0d53_row12_col1 {\n",
       "  background-color: #67000d;\n",
       "  color: #f1f1f1;\n",
       "}\n",
       "#T_a0d53_row12_col2 {\n",
       "  background-color: #d6efd0;\n",
       "  color: #000000;\n",
       "}\n",
       "#T_a0d53_row13_col1 {\n",
       "  background-color: #fcb095;\n",
       "  color: #000000;\n",
       "}\n",
       "#T_a0d53_row13_col2 {\n",
       "  background-color: #6dc072;\n",
       "  color: #000000;\n",
       "}\n",
       "#T_a0d53_row14_col1 {\n",
       "  background-color: #d32020;\n",
       "  color: #f1f1f1;\n",
       "}\n",
       "#T_a0d53_row14_col2 {\n",
       "  background-color: #7dc87e;\n",
       "  color: #000000;\n",
       "}\n",
       "</style>\n",
       "<table id=\"T_a0d53\">\n",
       "  <thead>\n",
       "    <tr>\n",
       "      <th class=\"blank level0\" >&nbsp;</th>\n",
       "      <th id=\"T_a0d53_level0_col0\" class=\"col_heading level0 col0\" >twp</th>\n",
       "      <th id=\"T_a0d53_level0_col1\" class=\"col_heading level0 col1\" >lat</th>\n",
       "      <th id=\"T_a0d53_level0_col2\" class=\"col_heading level0 col2\" >lng</th>\n",
       "    </tr>\n",
       "  </thead>\n",
       "  <tbody>\n",
       "    <tr>\n",
       "      <th id=\"T_a0d53_level0_row0\" class=\"row_heading level0 row0\" >0</th>\n",
       "      <td id=\"T_a0d53_row0_col0\" class=\"data row0 col0\" >ABINGTON</td>\n",
       "      <td id=\"T_a0d53_row0_col1\" class=\"data row0 col1\" >40.113117</td>\n",
       "      <td id=\"T_a0d53_row0_col2\" class=\"data row0 col2\" >-75.121183</td>\n",
       "    </tr>\n",
       "    <tr>\n",
       "      <th id=\"T_a0d53_level0_row1\" class=\"row_heading level0 row1\" >1</th>\n",
       "      <td id=\"T_a0d53_row1_col0\" class=\"data row1 col0\" >AMBLER</td>\n",
       "      <td id=\"T_a0d53_row1_col1\" class=\"data row1 col1\" >40.157625</td>\n",
       "      <td id=\"T_a0d53_row1_col2\" class=\"data row1 col2\" >-75.221750</td>\n",
       "    </tr>\n",
       "    <tr>\n",
       "      <th id=\"T_a0d53_level0_row2\" class=\"row_heading level0 row2\" >2</th>\n",
       "      <td id=\"T_a0d53_row2_col0\" class=\"data row2 col0\" >BERKS COUNTY</td>\n",
       "      <td id=\"T_a0d53_row2_col1\" class=\"data row2 col1\" >40.286974</td>\n",
       "      <td id=\"T_a0d53_row2_col2\" class=\"data row2 col2\" >-75.584377</td>\n",
       "    </tr>\n",
       "    <tr>\n",
       "      <th id=\"T_a0d53_level0_row3\" class=\"row_heading level0 row3\" >3</th>\n",
       "      <td id=\"T_a0d53_row3_col0\" class=\"data row3 col0\" >BRIDGEPORT</td>\n",
       "      <td id=\"T_a0d53_row3_col1\" class=\"data row3 col1\" >40.103989</td>\n",
       "      <td id=\"T_a0d53_row3_col2\" class=\"data row3 col2\" >-75.343111</td>\n",
       "    </tr>\n",
       "    <tr>\n",
       "      <th id=\"T_a0d53_level0_row4\" class=\"row_heading level0 row4\" >4</th>\n",
       "      <td id=\"T_a0d53_row4_col0\" class=\"data row4 col0\" >BRYN ATHYN</td>\n",
       "      <td id=\"T_a0d53_row4_col1\" class=\"data row4 col1\" >40.136988</td>\n",
       "      <td id=\"T_a0d53_row4_col2\" class=\"data row4 col2\" >-75.063574</td>\n",
       "    </tr>\n",
       "    <tr>\n",
       "      <th id=\"T_a0d53_level0_row5\" class=\"row_heading level0 row5\" >5</th>\n",
       "      <td id=\"T_a0d53_row5_col0\" class=\"data row5 col0\" >BUCKS COUNTY</td>\n",
       "      <td id=\"T_a0d53_row5_col1\" class=\"data row5 col1\" >40.259311</td>\n",
       "      <td id=\"T_a0d53_row5_col2\" class=\"data row5 col2\" >-75.271204</td>\n",
       "    </tr>\n",
       "    <tr>\n",
       "      <th id=\"T_a0d53_level0_row6\" class=\"row_heading level0 row6\" >6</th>\n",
       "      <td id=\"T_a0d53_row6_col0\" class=\"data row6 col0\" >CHELTENHAM</td>\n",
       "      <td id=\"T_a0d53_row6_col1\" class=\"data row6 col1\" >40.078186</td>\n",
       "      <td id=\"T_a0d53_row6_col2\" class=\"data row6 col2\" >-75.133883</td>\n",
       "    </tr>\n",
       "    <tr>\n",
       "      <th id=\"T_a0d53_level0_row7\" class=\"row_heading level0 row7\" >7</th>\n",
       "      <td id=\"T_a0d53_row7_col0\" class=\"data row7 col0\" >CHESTER COUNTY</td>\n",
       "      <td id=\"T_a0d53_row7_col1\" class=\"data row7 col1\" >40.213753</td>\n",
       "      <td id=\"T_a0d53_row7_col2\" class=\"data row7 col2\" >-75.532586</td>\n",
       "    </tr>\n",
       "    <tr>\n",
       "      <th id=\"T_a0d53_level0_row8\" class=\"row_heading level0 row8\" >8</th>\n",
       "      <td id=\"T_a0d53_row8_col0\" class=\"data row8 col0\" >COLLEGEVILLE</td>\n",
       "      <td id=\"T_a0d53_row8_col1\" class=\"data row8 col1\" >40.186532</td>\n",
       "      <td id=\"T_a0d53_row8_col2\" class=\"data row8 col2\" >-75.456492</td>\n",
       "    </tr>\n",
       "    <tr>\n",
       "      <th id=\"T_a0d53_level0_row9\" class=\"row_heading level0 row9\" >9</th>\n",
       "      <td id=\"T_a0d53_row9_col0\" class=\"data row9 col0\" >CONSHOHOCKEN</td>\n",
       "      <td id=\"T_a0d53_row9_col1\" class=\"data row9 col1\" >40.076381</td>\n",
       "      <td id=\"T_a0d53_row9_col2\" class=\"data row9 col2\" >-75.303204</td>\n",
       "    </tr>\n",
       "    <tr>\n",
       "      <th id=\"T_a0d53_level0_row10\" class=\"row_heading level0 row10\" >10</th>\n",
       "      <td id=\"T_a0d53_row10_col0\" class=\"data row10 col0\" >DELAWARE COUNTY</td>\n",
       "      <td id=\"T_a0d53_row10_col1\" class=\"data row10 col1\" >40.040635</td>\n",
       "      <td id=\"T_a0d53_row10_col2\" class=\"data row10 col2\" >-75.341915</td>\n",
       "    </tr>\n",
       "    <tr>\n",
       "      <th id=\"T_a0d53_level0_row11\" class=\"row_heading level0 row11\" >11</th>\n",
       "      <td id=\"T_a0d53_row11_col0\" class=\"data row11 col0\" >DOUGLASS</td>\n",
       "      <td id=\"T_a0d53_row11_col1\" class=\"data row11 col1\" >40.327315</td>\n",
       "      <td id=\"T_a0d53_row11_col2\" class=\"data row11 col2\" >-75.606414</td>\n",
       "    </tr>\n",
       "    <tr>\n",
       "      <th id=\"T_a0d53_level0_row12\" class=\"row_heading level0 row12\" >12</th>\n",
       "      <td id=\"T_a0d53_row12_col0\" class=\"data row12 col0\" >EAST GREENVILLE</td>\n",
       "      <td id=\"T_a0d53_row12_col1\" class=\"data row12 col1\" >40.404903</td>\n",
       "      <td id=\"T_a0d53_row12_col2\" class=\"data row12 col2\" >-75.504490</td>\n",
       "    </tr>\n",
       "    <tr>\n",
       "      <th id=\"T_a0d53_level0_row13\" class=\"row_heading level0 row13\" >13</th>\n",
       "      <td id=\"T_a0d53_row13_col0\" class=\"data row13 col0\" >EAST NORRITON</td>\n",
       "      <td id=\"T_a0d53_row13_col1\" class=\"data row13 col1\" >40.143979</td>\n",
       "      <td id=\"T_a0d53_row13_col2\" class=\"data row13 col2\" >-75.326317</td>\n",
       "    </tr>\n",
       "    <tr>\n",
       "      <th id=\"T_a0d53_level0_row14\" class=\"row_heading level0 row14\" >14</th>\n",
       "      <td id=\"T_a0d53_row14_col0\" class=\"data row14 col0\" >FRANCONIA</td>\n",
       "      <td id=\"T_a0d53_row14_col1\" class=\"data row14 col1\" >40.303418</td>\n",
       "      <td id=\"T_a0d53_row14_col2\" class=\"data row14 col2\" >-75.349368</td>\n",
       "    </tr>\n",
       "  </tbody>\n",
       "</table>\n"
      ],
      "text/plain": [
       "<pandas.io.formats.style.Styler at 0x29306727ca0>"
      ]
     },
     "execution_count": 48,
     "metadata": {},
     "output_type": "execute_result"
    }
   ],
   "source": [
    "#folium map (location)\n",
    "\n",
    "map_plot_20 = data[['lat', 'lng', 'twp']].groupby('twp').mean().reset_index()\n",
    "map_plot_20.head(15).style.background_gradient(cmap='Reds', subset=['lat'])\\\n",
    "                    .background_gradient(cmap='Greens', subset=['lng'])\n"
   ]
  },
  {
   "cell_type": "code",
   "execution_count": 52,
   "id": "d340459e",
   "metadata": {},
   "outputs": [
    {
     "data": {
      "text/html": [
       "<div style=\"width:100%;\"><div style=\"position:relative;width:100%;height:0;padding-bottom:60%;\"><span style=\"color:#565656\">Make this Notebook Trusted to load map: File -> Trust Notebook</span><iframe srcdoc=\"&lt;!DOCTYPE html&gt;\n",
       "&lt;head&gt;    \n",
       "    &lt;meta http-equiv=&quot;content-type&quot; content=&quot;text/html; charset=UTF-8&quot; /&gt;\n",
       "    \n",
       "        &lt;script&gt;\n",
       "            L_NO_TOUCH = false;\n",
       "            L_DISABLE_3D = false;\n",
       "        &lt;/script&gt;\n",
       "    \n",
       "    &lt;style&gt;html, body {width: 100%;height: 100%;margin: 0;padding: 0;}&lt;/style&gt;\n",
       "    &lt;style&gt;#map {position:absolute;top:0;bottom:0;right:0;left:0;}&lt;/style&gt;\n",
       "    &lt;script src=&quot;https://cdn.jsdelivr.net/npm/leaflet@1.6.0/dist/leaflet.js&quot;&gt;&lt;/script&gt;\n",
       "    &lt;script src=&quot;https://code.jquery.com/jquery-1.12.4.min.js&quot;&gt;&lt;/script&gt;\n",
       "    &lt;script src=&quot;https://maxcdn.bootstrapcdn.com/bootstrap/3.2.0/js/bootstrap.min.js&quot;&gt;&lt;/script&gt;\n",
       "    &lt;script src=&quot;https://cdnjs.cloudflare.com/ajax/libs/Leaflet.awesome-markers/2.0.2/leaflet.awesome-markers.js&quot;&gt;&lt;/script&gt;\n",
       "    &lt;link rel=&quot;stylesheet&quot; href=&quot;https://cdn.jsdelivr.net/npm/leaflet@1.6.0/dist/leaflet.css&quot;/&gt;\n",
       "    &lt;link rel=&quot;stylesheet&quot; href=&quot;https://maxcdn.bootstrapcdn.com/bootstrap/3.2.0/css/bootstrap.min.css&quot;/&gt;\n",
       "    &lt;link rel=&quot;stylesheet&quot; href=&quot;https://maxcdn.bootstrapcdn.com/bootstrap/3.2.0/css/bootstrap-theme.min.css&quot;/&gt;\n",
       "    &lt;link rel=&quot;stylesheet&quot; href=&quot;https://maxcdn.bootstrapcdn.com/font-awesome/4.6.3/css/font-awesome.min.css&quot;/&gt;\n",
       "    &lt;link rel=&quot;stylesheet&quot; href=&quot;https://cdnjs.cloudflare.com/ajax/libs/Leaflet.awesome-markers/2.0.2/leaflet.awesome-markers.css&quot;/&gt;\n",
       "    &lt;link rel=&quot;stylesheet&quot; href=&quot;https://cdn.jsdelivr.net/gh/python-visualization/folium/folium/templates/leaflet.awesome.rotate.min.css&quot;/&gt;\n",
       "    \n",
       "            &lt;meta name=&quot;viewport&quot; content=&quot;width=device-width,\n",
       "                initial-scale=1.0, maximum-scale=1.0, user-scalable=no&quot; /&gt;\n",
       "            &lt;style&gt;\n",
       "                #map_5f84cc04dc03d02da1fe5bcad15b269b {\n",
       "                    position: relative;\n",
       "                    width: 70.0%;\n",
       "                    height: 100.0%;\n",
       "                    left: 0.0%;\n",
       "                    top: 0.0%;\n",
       "                }\n",
       "            &lt;/style&gt;\n",
       "        \n",
       "&lt;/head&gt;\n",
       "&lt;body&gt;    \n",
       "    \n",
       "            &lt;div class=&quot;folium-map&quot; id=&quot;map_5f84cc04dc03d02da1fe5bcad15b269b&quot; &gt;&lt;/div&gt;\n",
       "        \n",
       "&lt;/body&gt;\n",
       "&lt;script&gt;    \n",
       "    \n",
       "            var map_5f84cc04dc03d02da1fe5bcad15b269b = L.map(\n",
       "                &quot;map_5f84cc04dc03d02da1fe5bcad15b269b&quot;,\n",
       "                {\n",
       "                    center: [40.2547, -75.3405],\n",
       "                    crs: L.CRS.EPSG3857,\n",
       "                    zoom: 11,\n",
       "                    zoomControl: true,\n",
       "                    preferCanvas: false,\n",
       "                }\n",
       "            );\n",
       "\n",
       "            \n",
       "\n",
       "        \n",
       "    \n",
       "            var tile_layer_44c4c4a526f6c3e449c443269628b842 = L.tileLayer(\n",
       "                &quot;https://{s}.tile.openstreetmap.org/{z}/{x}/{y}.png&quot;,\n",
       "                {&quot;attribution&quot;: &quot;Data by \\u0026copy; \\u003ca href=\\&quot;http://openstreetmap.org\\&quot;\\u003eOpenStreetMap\\u003c/a\\u003e, under \\u003ca href=\\&quot;http://www.openstreetmap.org/copyright\\&quot;\\u003eODbL\\u003c/a\\u003e.&quot;, &quot;detectRetina&quot;: false, &quot;maxNativeZoom&quot;: 11, &quot;maxZoom&quot;: 11, &quot;minZoom&quot;: 11, &quot;noWrap&quot;: false, &quot;opacity&quot;: 1, &quot;subdomains&quot;: &quot;abc&quot;, &quot;tms&quot;: false}\n",
       "            ).addTo(map_5f84cc04dc03d02da1fe5bcad15b269b);\n",
       "        \n",
       "    \n",
       "            var marker_5661df2cdcbaf8184c0ac82a4bda9b7a = L.marker(\n",
       "                [40.11311725958145, -75.12118302857786],\n",
       "                {&quot;color&quot;: &quot;crimson&quot;, &quot;radius&quot;: 1}\n",
       "            ).addTo(map_5f84cc04dc03d02da1fe5bcad15b269b);\n",
       "        \n",
       "    \n",
       "            var icon_2903fc9082098e92a7129d0f79715a0c = L.AwesomeMarkers.icon(\n",
       "                {&quot;extraClasses&quot;: &quot;fa-rotate-0&quot;, &quot;icon&quot;: &quot;info-sign&quot;, &quot;iconColor&quot;: &quot;white&quot;, &quot;markerColor&quot;: &quot;red&quot;, &quot;prefix&quot;: &quot;glyphicon&quot;}\n",
       "            );\n",
       "            marker_5661df2cdcbaf8184c0ac82a4bda9b7a.setIcon(icon_2903fc9082098e92a7129d0f79715a0c);\n",
       "        \n",
       "    \n",
       "        var popup_0617fe0134d7da4dcb64c3801e95f11c = L.popup({&quot;maxWidth&quot;: &quot;100%&quot;});\n",
       "\n",
       "        \n",
       "            var html_b5f7e03f24a65c806661ec63505d6ddc = $(`&lt;div id=&quot;html_b5f7e03f24a65c806661ec63505d6ddc&quot; style=&quot;width: 100.0%; height: 100.0%;&quot;&gt;ABINGTON&lt;/div&gt;`)[0];\n",
       "            popup_0617fe0134d7da4dcb64c3801e95f11c.setContent(html_b5f7e03f24a65c806661ec63505d6ddc);\n",
       "        \n",
       "\n",
       "        marker_5661df2cdcbaf8184c0ac82a4bda9b7a.bindPopup(popup_0617fe0134d7da4dcb64c3801e95f11c)\n",
       "        ;\n",
       "\n",
       "        \n",
       "    \n",
       "    \n",
       "            var marker_02c45f394059e5758055da53c5efc73a = L.marker(\n",
       "                [40.157625488594526, -75.22174965105523],\n",
       "                {&quot;color&quot;: &quot;crimson&quot;, &quot;radius&quot;: 1}\n",
       "            ).addTo(map_5f84cc04dc03d02da1fe5bcad15b269b);\n",
       "        \n",
       "    \n",
       "            var icon_8cc55f332375b83e25ab67ce4ef420fb = L.AwesomeMarkers.icon(\n",
       "                {&quot;extraClasses&quot;: &quot;fa-rotate-0&quot;, &quot;icon&quot;: &quot;info-sign&quot;, &quot;iconColor&quot;: &quot;white&quot;, &quot;markerColor&quot;: &quot;red&quot;, &quot;prefix&quot;: &quot;glyphicon&quot;}\n",
       "            );\n",
       "            marker_02c45f394059e5758055da53c5efc73a.setIcon(icon_8cc55f332375b83e25ab67ce4ef420fb);\n",
       "        \n",
       "    \n",
       "        var popup_0d988b9acc47762bfe274c54b88631dd = L.popup({&quot;maxWidth&quot;: &quot;100%&quot;});\n",
       "\n",
       "        \n",
       "            var html_fe8b861c57febac3aa25d6bebd073728 = $(`&lt;div id=&quot;html_fe8b861c57febac3aa25d6bebd073728&quot; style=&quot;width: 100.0%; height: 100.0%;&quot;&gt;AMBLER&lt;/div&gt;`)[0];\n",
       "            popup_0d988b9acc47762bfe274c54b88631dd.setContent(html_fe8b861c57febac3aa25d6bebd073728);\n",
       "        \n",
       "\n",
       "        marker_02c45f394059e5758055da53c5efc73a.bindPopup(popup_0d988b9acc47762bfe274c54b88631dd)\n",
       "        ;\n",
       "\n",
       "        \n",
       "    \n",
       "    \n",
       "            var marker_969a0c880f3cfaeeca96b74dcaa9b131 = L.marker(\n",
       "                [40.28697425005181, -75.5843770473575],\n",
       "                {&quot;color&quot;: &quot;crimson&quot;, &quot;radius&quot;: 1}\n",
       "            ).addTo(map_5f84cc04dc03d02da1fe5bcad15b269b);\n",
       "        \n",
       "    \n",
       "            var icon_b47da108cbdb3a97b19cc7f4b7cac062 = L.AwesomeMarkers.icon(\n",
       "                {&quot;extraClasses&quot;: &quot;fa-rotate-0&quot;, &quot;icon&quot;: &quot;info-sign&quot;, &quot;iconColor&quot;: &quot;white&quot;, &quot;markerColor&quot;: &quot;red&quot;, &quot;prefix&quot;: &quot;glyphicon&quot;}\n",
       "            );\n",
       "            marker_969a0c880f3cfaeeca96b74dcaa9b131.setIcon(icon_b47da108cbdb3a97b19cc7f4b7cac062);\n",
       "        \n",
       "    \n",
       "        var popup_a7985777c11cf8a1df7b9bcccdc40869 = L.popup({&quot;maxWidth&quot;: &quot;100%&quot;});\n",
       "\n",
       "        \n",
       "            var html_1715ef9cbc2b82e591765f8b32ec997c = $(`&lt;div id=&quot;html_1715ef9cbc2b82e591765f8b32ec997c&quot; style=&quot;width: 100.0%; height: 100.0%;&quot;&gt;BERKS COUNTY&lt;/div&gt;`)[0];\n",
       "            popup_a7985777c11cf8a1df7b9bcccdc40869.setContent(html_1715ef9cbc2b82e591765f8b32ec997c);\n",
       "        \n",
       "\n",
       "        marker_969a0c880f3cfaeeca96b74dcaa9b131.bindPopup(popup_a7985777c11cf8a1df7b9bcccdc40869)\n",
       "        ;\n",
       "\n",
       "        \n",
       "    \n",
       "    \n",
       "            var marker_c363f49d05f9db2002534505718585d6 = L.marker(\n",
       "                [40.103988593991886, -75.3431107907713],\n",
       "                {&quot;color&quot;: &quot;crimson&quot;, &quot;radius&quot;: 1}\n",
       "            ).addTo(map_5f84cc04dc03d02da1fe5bcad15b269b);\n",
       "        \n",
       "    \n",
       "            var icon_e20d16bcc4c5a634e9d5f14baed4deed = L.AwesomeMarkers.icon(\n",
       "                {&quot;extraClasses&quot;: &quot;fa-rotate-0&quot;, &quot;icon&quot;: &quot;info-sign&quot;, &quot;iconColor&quot;: &quot;white&quot;, &quot;markerColor&quot;: &quot;red&quot;, &quot;prefix&quot;: &quot;glyphicon&quot;}\n",
       "            );\n",
       "            marker_c363f49d05f9db2002534505718585d6.setIcon(icon_e20d16bcc4c5a634e9d5f14baed4deed);\n",
       "        \n",
       "    \n",
       "        var popup_694d325bb334ad74936ce1ffb7b81f02 = L.popup({&quot;maxWidth&quot;: &quot;100%&quot;});\n",
       "\n",
       "        \n",
       "            var html_027a3c06b767a0f4b3cc1433274deabb = $(`&lt;div id=&quot;html_027a3c06b767a0f4b3cc1433274deabb&quot; style=&quot;width: 100.0%; height: 100.0%;&quot;&gt;BRIDGEPORT&lt;/div&gt;`)[0];\n",
       "            popup_694d325bb334ad74936ce1ffb7b81f02.setContent(html_027a3c06b767a0f4b3cc1433274deabb);\n",
       "        \n",
       "\n",
       "        marker_c363f49d05f9db2002534505718585d6.bindPopup(popup_694d325bb334ad74936ce1ffb7b81f02)\n",
       "        ;\n",
       "\n",
       "        \n",
       "    \n",
       "    \n",
       "            var marker_2ae614d4e8e264b8055dcfe21cf23abd = L.marker(\n",
       "                [40.13698848429027, -75.06357432113238],\n",
       "                {&quot;color&quot;: &quot;crimson&quot;, &quot;radius&quot;: 1}\n",
       "            ).addTo(map_5f84cc04dc03d02da1fe5bcad15b269b);\n",
       "        \n",
       "    \n",
       "            var icon_f2ec8db42d2d8f955c2c790ace9488be = L.AwesomeMarkers.icon(\n",
       "                {&quot;extraClasses&quot;: &quot;fa-rotate-0&quot;, &quot;icon&quot;: &quot;info-sign&quot;, &quot;iconColor&quot;: &quot;white&quot;, &quot;markerColor&quot;: &quot;red&quot;, &quot;prefix&quot;: &quot;glyphicon&quot;}\n",
       "            );\n",
       "            marker_2ae614d4e8e264b8055dcfe21cf23abd.setIcon(icon_f2ec8db42d2d8f955c2c790ace9488be);\n",
       "        \n",
       "    \n",
       "        var popup_12c6f70f3250742ac5fcef80f127bde1 = L.popup({&quot;maxWidth&quot;: &quot;100%&quot;});\n",
       "\n",
       "        \n",
       "            var html_6ccfde16bd3f9917666bdeb81700e8b1 = $(`&lt;div id=&quot;html_6ccfde16bd3f9917666bdeb81700e8b1&quot; style=&quot;width: 100.0%; height: 100.0%;&quot;&gt;BRYN ATHYN&lt;/div&gt;`)[0];\n",
       "            popup_12c6f70f3250742ac5fcef80f127bde1.setContent(html_6ccfde16bd3f9917666bdeb81700e8b1);\n",
       "        \n",
       "\n",
       "        marker_2ae614d4e8e264b8055dcfe21cf23abd.bindPopup(popup_12c6f70f3250742ac5fcef80f127bde1)\n",
       "        ;\n",
       "\n",
       "        \n",
       "    \n",
       "    \n",
       "            var marker_c6f8c907783f3f4d5e01e42b4f4627f7 = L.marker(\n",
       "                [40.2593109135217, -75.27120404762866],\n",
       "                {&quot;color&quot;: &quot;crimson&quot;, &quot;radius&quot;: 1}\n",
       "            ).addTo(map_5f84cc04dc03d02da1fe5bcad15b269b);\n",
       "        \n",
       "    \n",
       "            var icon_44d00050771a80dd39caa76b544417cc = L.AwesomeMarkers.icon(\n",
       "                {&quot;extraClasses&quot;: &quot;fa-rotate-0&quot;, &quot;icon&quot;: &quot;info-sign&quot;, &quot;iconColor&quot;: &quot;white&quot;, &quot;markerColor&quot;: &quot;red&quot;, &quot;prefix&quot;: &quot;glyphicon&quot;}\n",
       "            );\n",
       "            marker_c6f8c907783f3f4d5e01e42b4f4627f7.setIcon(icon_44d00050771a80dd39caa76b544417cc);\n",
       "        \n",
       "    \n",
       "        var popup_6d8a790e6dc90a1d4a2cfc717d8ddf8f = L.popup({&quot;maxWidth&quot;: &quot;100%&quot;});\n",
       "\n",
       "        \n",
       "            var html_4c7c0e7d7014cbf4e8355d6a691c9f53 = $(`&lt;div id=&quot;html_4c7c0e7d7014cbf4e8355d6a691c9f53&quot; style=&quot;width: 100.0%; height: 100.0%;&quot;&gt;BUCKS COUNTY&lt;/div&gt;`)[0];\n",
       "            popup_6d8a790e6dc90a1d4a2cfc717d8ddf8f.setContent(html_4c7c0e7d7014cbf4e8355d6a691c9f53);\n",
       "        \n",
       "\n",
       "        marker_c6f8c907783f3f4d5e01e42b4f4627f7.bindPopup(popup_6d8a790e6dc90a1d4a2cfc717d8ddf8f)\n",
       "        ;\n",
       "\n",
       "        \n",
       "    \n",
       "    \n",
       "            var marker_4efb0441aa08c09c2accbcd0da2581ea = L.marker(\n",
       "                [40.0781858948551, -75.13388312168836],\n",
       "                {&quot;color&quot;: &quot;crimson&quot;, &quot;radius&quot;: 1}\n",
       "            ).addTo(map_5f84cc04dc03d02da1fe5bcad15b269b);\n",
       "        \n",
       "    \n",
       "            var icon_7b7c81c916c37b10fad9179d9696f2a7 = L.AwesomeMarkers.icon(\n",
       "                {&quot;extraClasses&quot;: &quot;fa-rotate-0&quot;, &quot;icon&quot;: &quot;info-sign&quot;, &quot;iconColor&quot;: &quot;white&quot;, &quot;markerColor&quot;: &quot;red&quot;, &quot;prefix&quot;: &quot;glyphicon&quot;}\n",
       "            );\n",
       "            marker_4efb0441aa08c09c2accbcd0da2581ea.setIcon(icon_7b7c81c916c37b10fad9179d9696f2a7);\n",
       "        \n",
       "    \n",
       "        var popup_5c216cbbc340507a91386dd7256c7c24 = L.popup({&quot;maxWidth&quot;: &quot;100%&quot;});\n",
       "\n",
       "        \n",
       "            var html_6ebc1676b9b35a26b2cea21ff3a10e48 = $(`&lt;div id=&quot;html_6ebc1676b9b35a26b2cea21ff3a10e48&quot; style=&quot;width: 100.0%; height: 100.0%;&quot;&gt;CHELTENHAM&lt;/div&gt;`)[0];\n",
       "            popup_5c216cbbc340507a91386dd7256c7c24.setContent(html_6ebc1676b9b35a26b2cea21ff3a10e48);\n",
       "        \n",
       "\n",
       "        marker_4efb0441aa08c09c2accbcd0da2581ea.bindPopup(popup_5c216cbbc340507a91386dd7256c7c24)\n",
       "        ;\n",
       "\n",
       "        \n",
       "    \n",
       "    \n",
       "            var marker_c09b7e900ddc6d3ec3783ec2e97968e2 = L.marker(\n",
       "                [40.213752697256176, -75.5325855986145],\n",
       "                {&quot;color&quot;: &quot;crimson&quot;, &quot;radius&quot;: 1}\n",
       "            ).addTo(map_5f84cc04dc03d02da1fe5bcad15b269b);\n",
       "        \n",
       "    \n",
       "            var icon_284d6071ecfb58039f350921348b2396 = L.AwesomeMarkers.icon(\n",
       "                {&quot;extraClasses&quot;: &quot;fa-rotate-0&quot;, &quot;icon&quot;: &quot;info-sign&quot;, &quot;iconColor&quot;: &quot;white&quot;, &quot;markerColor&quot;: &quot;red&quot;, &quot;prefix&quot;: &quot;glyphicon&quot;}\n",
       "            );\n",
       "            marker_c09b7e900ddc6d3ec3783ec2e97968e2.setIcon(icon_284d6071ecfb58039f350921348b2396);\n",
       "        \n",
       "    \n",
       "        var popup_1ecef33a60d79443d0e0ca272d3b26ca = L.popup({&quot;maxWidth&quot;: &quot;100%&quot;});\n",
       "\n",
       "        \n",
       "            var html_3edc6d814d13e9eae5aef9a3ae5cddc5 = $(`&lt;div id=&quot;html_3edc6d814d13e9eae5aef9a3ae5cddc5&quot; style=&quot;width: 100.0%; height: 100.0%;&quot;&gt;CHESTER COUNTY&lt;/div&gt;`)[0];\n",
       "            popup_1ecef33a60d79443d0e0ca272d3b26ca.setContent(html_3edc6d814d13e9eae5aef9a3ae5cddc5);\n",
       "        \n",
       "\n",
       "        marker_c09b7e900ddc6d3ec3783ec2e97968e2.bindPopup(popup_1ecef33a60d79443d0e0ca272d3b26ca)\n",
       "        ;\n",
       "\n",
       "        \n",
       "    \n",
       "    \n",
       "            var marker_18326909ca4a9e2c667f2a3ade44898b = L.marker(\n",
       "                [40.18653211844993, -75.45649217115911],\n",
       "                {&quot;color&quot;: &quot;crimson&quot;, &quot;radius&quot;: 1}\n",
       "            ).addTo(map_5f84cc04dc03d02da1fe5bcad15b269b);\n",
       "        \n",
       "    \n",
       "            var icon_455d9b6f2033dee7fcd617f3e95ba271 = L.AwesomeMarkers.icon(\n",
       "                {&quot;extraClasses&quot;: &quot;fa-rotate-0&quot;, &quot;icon&quot;: &quot;info-sign&quot;, &quot;iconColor&quot;: &quot;white&quot;, &quot;markerColor&quot;: &quot;red&quot;, &quot;prefix&quot;: &quot;glyphicon&quot;}\n",
       "            );\n",
       "            marker_18326909ca4a9e2c667f2a3ade44898b.setIcon(icon_455d9b6f2033dee7fcd617f3e95ba271);\n",
       "        \n",
       "    \n",
       "        var popup_30a0417dc12b0a91ebec3d8da372fa7c = L.popup({&quot;maxWidth&quot;: &quot;100%&quot;});\n",
       "\n",
       "        \n",
       "            var html_62b7263629cf9dafc3d56035c60116ec = $(`&lt;div id=&quot;html_62b7263629cf9dafc3d56035c60116ec&quot; style=&quot;width: 100.0%; height: 100.0%;&quot;&gt;COLLEGEVILLE&lt;/div&gt;`)[0];\n",
       "            popup_30a0417dc12b0a91ebec3d8da372fa7c.setContent(html_62b7263629cf9dafc3d56035c60116ec);\n",
       "        \n",
       "\n",
       "        marker_18326909ca4a9e2c667f2a3ade44898b.bindPopup(popup_30a0417dc12b0a91ebec3d8da372fa7c)\n",
       "        ;\n",
       "\n",
       "        \n",
       "    \n",
       "    \n",
       "            var marker_085427d0adc168e3da5b2b102e1d91d9 = L.marker(\n",
       "                [40.07638105870911, -75.30320367343943],\n",
       "                {&quot;color&quot;: &quot;crimson&quot;, &quot;radius&quot;: 1}\n",
       "            ).addTo(map_5f84cc04dc03d02da1fe5bcad15b269b);\n",
       "        \n",
       "    \n",
       "            var icon_b66d7a66207598c5dd328ae9188ee824 = L.AwesomeMarkers.icon(\n",
       "                {&quot;extraClasses&quot;: &quot;fa-rotate-0&quot;, &quot;icon&quot;: &quot;info-sign&quot;, &quot;iconColor&quot;: &quot;white&quot;, &quot;markerColor&quot;: &quot;red&quot;, &quot;prefix&quot;: &quot;glyphicon&quot;}\n",
       "            );\n",
       "            marker_085427d0adc168e3da5b2b102e1d91d9.setIcon(icon_b66d7a66207598c5dd328ae9188ee824);\n",
       "        \n",
       "    \n",
       "        var popup_436d2c5c6950767f3638ca28d6760d03 = L.popup({&quot;maxWidth&quot;: &quot;100%&quot;});\n",
       "\n",
       "        \n",
       "            var html_7b0cc1a17253403ab19066630480d311 = $(`&lt;div id=&quot;html_7b0cc1a17253403ab19066630480d311&quot; style=&quot;width: 100.0%; height: 100.0%;&quot;&gt;CONSHOHOCKEN&lt;/div&gt;`)[0];\n",
       "            popup_436d2c5c6950767f3638ca28d6760d03.setContent(html_7b0cc1a17253403ab19066630480d311);\n",
       "        \n",
       "\n",
       "        marker_085427d0adc168e3da5b2b102e1d91d9.bindPopup(popup_436d2c5c6950767f3638ca28d6760d03)\n",
       "        ;\n",
       "\n",
       "        \n",
       "    \n",
       "    \n",
       "            var marker_3b2802822d33f879f192fff3bd48e4ba = L.marker(\n",
       "                [40.04063541936737, -75.34191511193119],\n",
       "                {&quot;color&quot;: &quot;crimson&quot;, &quot;radius&quot;: 1}\n",
       "            ).addTo(map_5f84cc04dc03d02da1fe5bcad15b269b);\n",
       "        \n",
       "    \n",
       "            var icon_8fa5d8a15d543412d8ba3fffafe5e4b6 = L.AwesomeMarkers.icon(\n",
       "                {&quot;extraClasses&quot;: &quot;fa-rotate-0&quot;, &quot;icon&quot;: &quot;info-sign&quot;, &quot;iconColor&quot;: &quot;white&quot;, &quot;markerColor&quot;: &quot;red&quot;, &quot;prefix&quot;: &quot;glyphicon&quot;}\n",
       "            );\n",
       "            marker_3b2802822d33f879f192fff3bd48e4ba.setIcon(icon_8fa5d8a15d543412d8ba3fffafe5e4b6);\n",
       "        \n",
       "    \n",
       "        var popup_aba484c044afb4491dcabd43d55222f4 = L.popup({&quot;maxWidth&quot;: &quot;100%&quot;});\n",
       "\n",
       "        \n",
       "            var html_22ec6a908410655d28aedd053ef7c51a = $(`&lt;div id=&quot;html_22ec6a908410655d28aedd053ef7c51a&quot; style=&quot;width: 100.0%; height: 100.0%;&quot;&gt;DELAWARE COUNTY&lt;/div&gt;`)[0];\n",
       "            popup_aba484c044afb4491dcabd43d55222f4.setContent(html_22ec6a908410655d28aedd053ef7c51a);\n",
       "        \n",
       "\n",
       "        marker_3b2802822d33f879f192fff3bd48e4ba.bindPopup(popup_aba484c044afb4491dcabd43d55222f4)\n",
       "        ;\n",
       "\n",
       "        \n",
       "    \n",
       "    \n",
       "            var marker_a243f1cd6d318048da27e5c610089349 = L.marker(\n",
       "                [40.32731461872072, -75.60641438473874],\n",
       "                {&quot;color&quot;: &quot;crimson&quot;, &quot;radius&quot;: 1}\n",
       "            ).addTo(map_5f84cc04dc03d02da1fe5bcad15b269b);\n",
       "        \n",
       "    \n",
       "            var icon_9f724841c7da07bb64324dd491fd634e = L.AwesomeMarkers.icon(\n",
       "                {&quot;extraClasses&quot;: &quot;fa-rotate-0&quot;, &quot;icon&quot;: &quot;info-sign&quot;, &quot;iconColor&quot;: &quot;white&quot;, &quot;markerColor&quot;: &quot;red&quot;, &quot;prefix&quot;: &quot;glyphicon&quot;}\n",
       "            );\n",
       "            marker_a243f1cd6d318048da27e5c610089349.setIcon(icon_9f724841c7da07bb64324dd491fd634e);\n",
       "        \n",
       "    \n",
       "        var popup_1716f8b948b10a48c947ccdf3eb25c7b = L.popup({&quot;maxWidth&quot;: &quot;100%&quot;});\n",
       "\n",
       "        \n",
       "            var html_7aad73f38eb8924d08b6a35fdb0e065e = $(`&lt;div id=&quot;html_7aad73f38eb8924d08b6a35fdb0e065e&quot; style=&quot;width: 100.0%; height: 100.0%;&quot;&gt;DOUGLASS&lt;/div&gt;`)[0];\n",
       "            popup_1716f8b948b10a48c947ccdf3eb25c7b.setContent(html_7aad73f38eb8924d08b6a35fdb0e065e);\n",
       "        \n",
       "\n",
       "        marker_a243f1cd6d318048da27e5c610089349.bindPopup(popup_1716f8b948b10a48c947ccdf3eb25c7b)\n",
       "        ;\n",
       "\n",
       "        \n",
       "    \n",
       "    \n",
       "            var marker_a7bd2c50307bdfff8a5b084c6029e399 = L.marker(\n",
       "                [40.40490337104863, -75.50448973229483],\n",
       "                {&quot;color&quot;: &quot;crimson&quot;, &quot;radius&quot;: 1}\n",
       "            ).addTo(map_5f84cc04dc03d02da1fe5bcad15b269b);\n",
       "        \n",
       "    \n",
       "            var icon_e9f84afc01213e3a00c847b258bcca47 = L.AwesomeMarkers.icon(\n",
       "                {&quot;extraClasses&quot;: &quot;fa-rotate-0&quot;, &quot;icon&quot;: &quot;info-sign&quot;, &quot;iconColor&quot;: &quot;white&quot;, &quot;markerColor&quot;: &quot;red&quot;, &quot;prefix&quot;: &quot;glyphicon&quot;}\n",
       "            );\n",
       "            marker_a7bd2c50307bdfff8a5b084c6029e399.setIcon(icon_e9f84afc01213e3a00c847b258bcca47);\n",
       "        \n",
       "    \n",
       "        var popup_98557e864a775f736ba11b6ee5e6f600 = L.popup({&quot;maxWidth&quot;: &quot;100%&quot;});\n",
       "\n",
       "        \n",
       "            var html_d774e6110789984c92b5f4847336b040 = $(`&lt;div id=&quot;html_d774e6110789984c92b5f4847336b040&quot; style=&quot;width: 100.0%; height: 100.0%;&quot;&gt;EAST GREENVILLE&lt;/div&gt;`)[0];\n",
       "            popup_98557e864a775f736ba11b6ee5e6f600.setContent(html_d774e6110789984c92b5f4847336b040);\n",
       "        \n",
       "\n",
       "        marker_a7bd2c50307bdfff8a5b084c6029e399.bindPopup(popup_98557e864a775f736ba11b6ee5e6f600)\n",
       "        ;\n",
       "\n",
       "        \n",
       "    \n",
       "    \n",
       "            var marker_c643b5e453176865ffa886cf9108d277 = L.marker(\n",
       "                [40.143978815190145, -75.32631725773831],\n",
       "                {&quot;color&quot;: &quot;crimson&quot;, &quot;radius&quot;: 1}\n",
       "            ).addTo(map_5f84cc04dc03d02da1fe5bcad15b269b);\n",
       "        \n",
       "    \n",
       "            var icon_6dd7e4823798c127c9ed97b4927a856b = L.AwesomeMarkers.icon(\n",
       "                {&quot;extraClasses&quot;: &quot;fa-rotate-0&quot;, &quot;icon&quot;: &quot;info-sign&quot;, &quot;iconColor&quot;: &quot;white&quot;, &quot;markerColor&quot;: &quot;red&quot;, &quot;prefix&quot;: &quot;glyphicon&quot;}\n",
       "            );\n",
       "            marker_c643b5e453176865ffa886cf9108d277.setIcon(icon_6dd7e4823798c127c9ed97b4927a856b);\n",
       "        \n",
       "    \n",
       "        var popup_7fa03d440f2f2d3b2c2f3e00d9fa7904 = L.popup({&quot;maxWidth&quot;: &quot;100%&quot;});\n",
       "\n",
       "        \n",
       "            var html_bb1fcf12b7774fdf282bb244579afb8f = $(`&lt;div id=&quot;html_bb1fcf12b7774fdf282bb244579afb8f&quot; style=&quot;width: 100.0%; height: 100.0%;&quot;&gt;EAST NORRITON&lt;/div&gt;`)[0];\n",
       "            popup_7fa03d440f2f2d3b2c2f3e00d9fa7904.setContent(html_bb1fcf12b7774fdf282bb244579afb8f);\n",
       "        \n",
       "\n",
       "        marker_c643b5e453176865ffa886cf9108d277.bindPopup(popup_7fa03d440f2f2d3b2c2f3e00d9fa7904)\n",
       "        ;\n",
       "\n",
       "        \n",
       "    \n",
       "    \n",
       "            var marker_65659c68767d5024fc1101af5690e816 = L.marker(\n",
       "                [40.3034183561579, -75.3493681723244],\n",
       "                {&quot;color&quot;: &quot;crimson&quot;, &quot;radius&quot;: 1}\n",
       "            ).addTo(map_5f84cc04dc03d02da1fe5bcad15b269b);\n",
       "        \n",
       "    \n",
       "            var icon_49845ef36976cae9ccb87d6bfd52424e = L.AwesomeMarkers.icon(\n",
       "                {&quot;extraClasses&quot;: &quot;fa-rotate-0&quot;, &quot;icon&quot;: &quot;info-sign&quot;, &quot;iconColor&quot;: &quot;white&quot;, &quot;markerColor&quot;: &quot;red&quot;, &quot;prefix&quot;: &quot;glyphicon&quot;}\n",
       "            );\n",
       "            marker_65659c68767d5024fc1101af5690e816.setIcon(icon_49845ef36976cae9ccb87d6bfd52424e);\n",
       "        \n",
       "    \n",
       "        var popup_4140cdf5ca59dae25adfddbbcad54a80 = L.popup({&quot;maxWidth&quot;: &quot;100%&quot;});\n",
       "\n",
       "        \n",
       "            var html_b6055abf5b6b43507b3c3b8372f05bc1 = $(`&lt;div id=&quot;html_b6055abf5b6b43507b3c3b8372f05bc1&quot; style=&quot;width: 100.0%; height: 100.0%;&quot;&gt;FRANCONIA&lt;/div&gt;`)[0];\n",
       "            popup_4140cdf5ca59dae25adfddbbcad54a80.setContent(html_b6055abf5b6b43507b3c3b8372f05bc1);\n",
       "        \n",
       "\n",
       "        marker_65659c68767d5024fc1101af5690e816.bindPopup(popup_4140cdf5ca59dae25adfddbbcad54a80)\n",
       "        ;\n",
       "\n",
       "        \n",
       "    \n",
       "    \n",
       "            var marker_5d850116318f37faa970fc5f2026a03b = L.marker(\n",
       "                [40.33843557090909, -75.46787971324675],\n",
       "                {&quot;color&quot;: &quot;crimson&quot;, &quot;radius&quot;: 1}\n",
       "            ).addTo(map_5f84cc04dc03d02da1fe5bcad15b269b);\n",
       "        \n",
       "    \n",
       "            var icon_e57e479740abcd27344b8a06e7c481b6 = L.AwesomeMarkers.icon(\n",
       "                {&quot;extraClasses&quot;: &quot;fa-rotate-0&quot;, &quot;icon&quot;: &quot;info-sign&quot;, &quot;iconColor&quot;: &quot;white&quot;, &quot;markerColor&quot;: &quot;red&quot;, &quot;prefix&quot;: &quot;glyphicon&quot;}\n",
       "            );\n",
       "            marker_5d850116318f37faa970fc5f2026a03b.setIcon(icon_e57e479740abcd27344b8a06e7c481b6);\n",
       "        \n",
       "    \n",
       "        var popup_7ae4bd781a445d4a759d08e299a473d4 = L.popup({&quot;maxWidth&quot;: &quot;100%&quot;});\n",
       "\n",
       "        \n",
       "            var html_e0c59ff040bd3b808f6d20a4a8d84cfb = $(`&lt;div id=&quot;html_e0c59ff040bd3b808f6d20a4a8d84cfb&quot; style=&quot;width: 100.0%; height: 100.0%;&quot;&gt;GREEN LANE&lt;/div&gt;`)[0];\n",
       "            popup_7ae4bd781a445d4a759d08e299a473d4.setContent(html_e0c59ff040bd3b808f6d20a4a8d84cfb);\n",
       "        \n",
       "\n",
       "        marker_5d850116318f37faa970fc5f2026a03b.bindPopup(popup_7ae4bd781a445d4a759d08e299a473d4)\n",
       "        ;\n",
       "\n",
       "        \n",
       "    \n",
       "    \n",
       "            var marker_83d5d3329d42d6d86c2bc71e56d4c7d4 = L.marker(\n",
       "                [40.178541553377386, -75.10412635106461],\n",
       "                {&quot;color&quot;: &quot;crimson&quot;, &quot;radius&quot;: 1}\n",
       "            ).addTo(map_5f84cc04dc03d02da1fe5bcad15b269b);\n",
       "        \n",
       "    \n",
       "            var icon_a810d1a48f5e7b617a0263fc4775c431 = L.AwesomeMarkers.icon(\n",
       "                {&quot;extraClasses&quot;: &quot;fa-rotate-0&quot;, &quot;icon&quot;: &quot;info-sign&quot;, &quot;iconColor&quot;: &quot;white&quot;, &quot;markerColor&quot;: &quot;red&quot;, &quot;prefix&quot;: &quot;glyphicon&quot;}\n",
       "            );\n",
       "            marker_83d5d3329d42d6d86c2bc71e56d4c7d4.setIcon(icon_a810d1a48f5e7b617a0263fc4775c431);\n",
       "        \n",
       "    \n",
       "        var popup_7c46d146e267c52bfb460daff6ee184d = L.popup({&quot;maxWidth&quot;: &quot;100%&quot;});\n",
       "\n",
       "        \n",
       "            var html_8686baf6006d94e245be19a08acd5cd7 = $(`&lt;div id=&quot;html_8686baf6006d94e245be19a08acd5cd7&quot; style=&quot;width: 100.0%; height: 100.0%;&quot;&gt;HATBORO&lt;/div&gt;`)[0];\n",
       "            popup_7c46d146e267c52bfb460daff6ee184d.setContent(html_8686baf6006d94e245be19a08acd5cd7);\n",
       "        \n",
       "\n",
       "        marker_83d5d3329d42d6d86c2bc71e56d4c7d4.bindPopup(popup_7c46d146e267c52bfb460daff6ee184d)\n",
       "        ;\n",
       "\n",
       "        \n",
       "    \n",
       "    \n",
       "            var marker_2cb36a21bd5310d918dd1f2dabf7414e = L.marker(\n",
       "                [40.2365297, -75.37424238715329],\n",
       "                {&quot;color&quot;: &quot;crimson&quot;, &quot;radius&quot;: 1}\n",
       "            ).addTo(map_5f84cc04dc03d02da1fe5bcad15b269b);\n",
       "        \n",
       "    \n",
       "            var icon_614fc306e2f4c62153679596a76c78bc = L.AwesomeMarkers.icon(\n",
       "                {&quot;extraClasses&quot;: &quot;fa-rotate-0&quot;, &quot;icon&quot;: &quot;info-sign&quot;, &quot;iconColor&quot;: &quot;white&quot;, &quot;markerColor&quot;: &quot;red&quot;, &quot;prefix&quot;: &quot;glyphicon&quot;}\n",
       "            );\n",
       "            marker_2cb36a21bd5310d918dd1f2dabf7414e.setIcon(icon_614fc306e2f4c62153679596a76c78bc);\n",
       "        \n",
       "    \n",
       "        var popup_6b427c59813688991eb18b6e1a58666d = L.popup({&quot;maxWidth&quot;: &quot;100%&quot;});\n",
       "\n",
       "        \n",
       "            var html_65c7056d92fd1a756cba631b5fc40540 = $(`&lt;div id=&quot;html_65c7056d92fd1a756cba631b5fc40540&quot; style=&quot;width: 100.0%; height: 100.0%;&quot;&gt;HATFIELD BORO&lt;/div&gt;`)[0];\n",
       "            popup_6b427c59813688991eb18b6e1a58666d.setContent(html_65c7056d92fd1a756cba631b5fc40540);\n",
       "        \n",
       "\n",
       "        marker_2cb36a21bd5310d918dd1f2dabf7414e.bindPopup(popup_6b427c59813688991eb18b6e1a58666d)\n",
       "        ;\n",
       "\n",
       "        \n",
       "    \n",
       "    \n",
       "            var marker_1bc74ab0446eafdfa17f09d3271ddbe6 = L.marker(\n",
       "                [40.27260375278756, -75.28452849303325],\n",
       "                {&quot;color&quot;: &quot;crimson&quot;, &quot;radius&quot;: 1}\n",
       "            ).addTo(map_5f84cc04dc03d02da1fe5bcad15b269b);\n",
       "        \n",
       "    \n",
       "            var icon_c049d222d3d1babe3aeeae843e1fd842 = L.AwesomeMarkers.icon(\n",
       "                {&quot;extraClasses&quot;: &quot;fa-rotate-0&quot;, &quot;icon&quot;: &quot;info-sign&quot;, &quot;iconColor&quot;: &quot;white&quot;, &quot;markerColor&quot;: &quot;red&quot;, &quot;prefix&quot;: &quot;glyphicon&quot;}\n",
       "            );\n",
       "            marker_1bc74ab0446eafdfa17f09d3271ddbe6.setIcon(icon_c049d222d3d1babe3aeeae843e1fd842);\n",
       "        \n",
       "    \n",
       "        var popup_9b6a075498c298ea2319f6c9161c8deb = L.popup({&quot;maxWidth&quot;: &quot;100%&quot;});\n",
       "\n",
       "        \n",
       "            var html_a4658f82f27f815d17ec3e988a2395e1 = $(`&lt;div id=&quot;html_a4658f82f27f815d17ec3e988a2395e1&quot; style=&quot;width: 100.0%; height: 100.0%;&quot;&gt;HATFIELD TOWNSHIP&lt;/div&gt;`)[0];\n",
       "            popup_9b6a075498c298ea2319f6c9161c8deb.setContent(html_a4658f82f27f815d17ec3e988a2395e1);\n",
       "        \n",
       "\n",
       "        marker_1bc74ab0446eafdfa17f09d3271ddbe6.bindPopup(popup_9b6a075498c298ea2319f6c9161c8deb)\n",
       "        ;\n",
       "\n",
       "        \n",
       "    \n",
       "    \n",
       "            var marker_236d5d3d2d00c76c638b2ab5881243d3 = L.marker(\n",
       "                [40.19133841828618, -75.15622320925462],\n",
       "                {&quot;color&quot;: &quot;crimson&quot;, &quot;radius&quot;: 1}\n",
       "            ).addTo(map_5f84cc04dc03d02da1fe5bcad15b269b);\n",
       "        \n",
       "    \n",
       "            var icon_0c08a3fb7a5570b25437e0f0dc3471ae = L.AwesomeMarkers.icon(\n",
       "                {&quot;extraClasses&quot;: &quot;fa-rotate-0&quot;, &quot;icon&quot;: &quot;info-sign&quot;, &quot;iconColor&quot;: &quot;white&quot;, &quot;markerColor&quot;: &quot;red&quot;, &quot;prefix&quot;: &quot;glyphicon&quot;}\n",
       "            );\n",
       "            marker_236d5d3d2d00c76c638b2ab5881243d3.setIcon(icon_0c08a3fb7a5570b25437e0f0dc3471ae);\n",
       "        \n",
       "    \n",
       "        var popup_a072d10f5219d50b7b358234b7eebd75 = L.popup({&quot;maxWidth&quot;: &quot;100%&quot;});\n",
       "\n",
       "        \n",
       "            var html_fc60df0b66a2f181249dc0b2bc2f2bed = $(`&lt;div id=&quot;html_fc60df0b66a2f181249dc0b2bc2f2bed&quot; style=&quot;width: 100.0%; height: 100.0%;&quot;&gt;HORSHAM&lt;/div&gt;`)[0];\n",
       "            popup_a072d10f5219d50b7b358234b7eebd75.setContent(html_fc60df0b66a2f181249dc0b2bc2f2bed);\n",
       "        \n",
       "\n",
       "        marker_236d5d3d2d00c76c638b2ab5881243d3.bindPopup(popup_a072d10f5219d50b7b358234b7eebd75)\n",
       "        ;\n",
       "\n",
       "        \n",
       "    \n",
       "    \n",
       "            var marker_085a24781693cbc3c52fd5cb6b29d00b = L.marker(\n",
       "                [40.09535702578313, -75.1302599660241],\n",
       "                {&quot;color&quot;: &quot;crimson&quot;, &quot;radius&quot;: 1}\n",
       "            ).addTo(map_5f84cc04dc03d02da1fe5bcad15b269b);\n",
       "        \n",
       "    \n",
       "            var icon_2521fffc1f3086663a0e8b9916de817f = L.AwesomeMarkers.icon(\n",
       "                {&quot;extraClasses&quot;: &quot;fa-rotate-0&quot;, &quot;icon&quot;: &quot;info-sign&quot;, &quot;iconColor&quot;: &quot;white&quot;, &quot;markerColor&quot;: &quot;red&quot;, &quot;prefix&quot;: &quot;glyphicon&quot;}\n",
       "            );\n",
       "            marker_085a24781693cbc3c52fd5cb6b29d00b.setIcon(icon_2521fffc1f3086663a0e8b9916de817f);\n",
       "        \n",
       "    \n",
       "        var popup_cfcd73eb41dab27683a780fd4773e31e = L.popup({&quot;maxWidth&quot;: &quot;100%&quot;});\n",
       "\n",
       "        \n",
       "            var html_b73f8a2988f4c74915401a081238c28a = $(`&lt;div id=&quot;html_b73f8a2988f4c74915401a081238c28a&quot; style=&quot;width: 100.0%; height: 100.0%;&quot;&gt;JENKINTOWN&lt;/div&gt;`)[0];\n",
       "            popup_cfcd73eb41dab27683a780fd4773e31e.setContent(html_b73f8a2988f4c74915401a081238c28a);\n",
       "        \n",
       "\n",
       "        marker_085a24781693cbc3c52fd5cb6b29d00b.bindPopup(popup_cfcd73eb41dab27683a780fd4773e31e)\n",
       "        ;\n",
       "\n",
       "        \n",
       "    \n",
       "    \n",
       "            var marker_7dff45541206612b7bc9139c414e22fd = L.marker(\n",
       "                [40.241736561539746, -75.28180503433086],\n",
       "                {&quot;color&quot;: &quot;crimson&quot;, &quot;radius&quot;: 1}\n",
       "            ).addTo(map_5f84cc04dc03d02da1fe5bcad15b269b);\n",
       "        \n",
       "    \n",
       "            var icon_1bffd6a7d8609f293b7c957f60d0e292 = L.AwesomeMarkers.icon(\n",
       "                {&quot;extraClasses&quot;: &quot;fa-rotate-0&quot;, &quot;icon&quot;: &quot;info-sign&quot;, &quot;iconColor&quot;: &quot;white&quot;, &quot;markerColor&quot;: &quot;red&quot;, &quot;prefix&quot;: &quot;glyphicon&quot;}\n",
       "            );\n",
       "            marker_7dff45541206612b7bc9139c414e22fd.setIcon(icon_1bffd6a7d8609f293b7c957f60d0e292);\n",
       "        \n",
       "    \n",
       "        var popup_155d4ba3f7418603d435cc7bb04c8d53 = L.popup({&quot;maxWidth&quot;: &quot;100%&quot;});\n",
       "\n",
       "        \n",
       "            var html_00b7454e09d08b39df5ff50748d462cd = $(`&lt;div id=&quot;html_00b7454e09d08b39df5ff50748d462cd&quot; style=&quot;width: 100.0%; height: 100.0%;&quot;&gt;LANSDALE&lt;/div&gt;`)[0];\n",
       "            popup_155d4ba3f7418603d435cc7bb04c8d53.setContent(html_00b7454e09d08b39df5ff50748d462cd);\n",
       "        \n",
       "\n",
       "        marker_7dff45541206612b7bc9139c414e22fd.bindPopup(popup_155d4ba3f7418603d435cc7bb04c8d53)\n",
       "        ;\n",
       "\n",
       "        \n",
       "    \n",
       "    \n",
       "            var marker_8ddd8aa43df64e5cc27c300dd73e5971 = L.marker(\n",
       "                [40.415066731578946, -75.46808648789474],\n",
       "                {&quot;color&quot;: &quot;crimson&quot;, &quot;radius&quot;: 1}\n",
       "            ).addTo(map_5f84cc04dc03d02da1fe5bcad15b269b);\n",
       "        \n",
       "    \n",
       "            var icon_7b137d536bd444b9bb2db51222c8874c = L.AwesomeMarkers.icon(\n",
       "                {&quot;extraClasses&quot;: &quot;fa-rotate-0&quot;, &quot;icon&quot;: &quot;info-sign&quot;, &quot;iconColor&quot;: &quot;white&quot;, &quot;markerColor&quot;: &quot;red&quot;, &quot;prefix&quot;: &quot;glyphicon&quot;}\n",
       "            );\n",
       "            marker_8ddd8aa43df64e5cc27c300dd73e5971.setIcon(icon_7b137d536bd444b9bb2db51222c8874c);\n",
       "        \n",
       "    \n",
       "        var popup_1f0ed939fc1b53ebd6622ece593b4a37 = L.popup({&quot;maxWidth&quot;: &quot;100%&quot;});\n",
       "\n",
       "        \n",
       "            var html_48e3b5217023ea1b26beda9dc0abfc58 = $(`&lt;div id=&quot;html_48e3b5217023ea1b26beda9dc0abfc58&quot; style=&quot;width: 100.0%; height: 100.0%;&quot;&gt;LEHIGH COUNTY&lt;/div&gt;`)[0];\n",
       "            popup_1f0ed939fc1b53ebd6622ece593b4a37.setContent(html_48e3b5217023ea1b26beda9dc0abfc58);\n",
       "        \n",
       "\n",
       "        marker_8ddd8aa43df64e5cc27c300dd73e5971.bindPopup(popup_1f0ed939fc1b53ebd6622ece593b4a37)\n",
       "        ;\n",
       "\n",
       "        \n",
       "    \n",
       "    \n",
       "            var marker_5456d0934c5a6d38982dd58c1de05da4 = L.marker(\n",
       "                [40.225223241198215, -75.53554000540521],\n",
       "                {&quot;color&quot;: &quot;crimson&quot;, &quot;radius&quot;: 1}\n",
       "            ).addTo(map_5f84cc04dc03d02da1fe5bcad15b269b);\n",
       "        \n",
       "    \n",
       "            var icon_85021f3f454f4d70e1b144493812abcc = L.AwesomeMarkers.icon(\n",
       "                {&quot;extraClasses&quot;: &quot;fa-rotate-0&quot;, &quot;icon&quot;: &quot;info-sign&quot;, &quot;iconColor&quot;: &quot;white&quot;, &quot;markerColor&quot;: &quot;red&quot;, &quot;prefix&quot;: &quot;glyphicon&quot;}\n",
       "            );\n",
       "            marker_5456d0934c5a6d38982dd58c1de05da4.setIcon(icon_85021f3f454f4d70e1b144493812abcc);\n",
       "        \n",
       "    \n",
       "        var popup_36e3afc1556017905e887d14ffef2c16 = L.popup({&quot;maxWidth&quot;: &quot;100%&quot;});\n",
       "\n",
       "        \n",
       "            var html_944f4f3fc13b13b8de70a088829b19c5 = $(`&lt;div id=&quot;html_944f4f3fc13b13b8de70a088829b19c5&quot; style=&quot;width: 100.0%; height: 100.0%;&quot;&gt;LIMERICK&lt;/div&gt;`)[0];\n",
       "            popup_36e3afc1556017905e887d14ffef2c16.setContent(html_944f4f3fc13b13b8de70a088829b19c5);\n",
       "        \n",
       "\n",
       "        marker_5456d0934c5a6d38982dd58c1de05da4.bindPopup(popup_36e3afc1556017905e887d14ffef2c16)\n",
       "        ;\n",
       "\n",
       "        \n",
       "    \n",
       "    \n",
       "            var marker_29c2bef5cbfecb832bb0d2dc7f778cda = L.marker(\n",
       "                [40.276496732148004, -75.47465864762134],\n",
       "                {&quot;color&quot;: &quot;crimson&quot;, &quot;radius&quot;: 1}\n",
       "            ).addTo(map_5f84cc04dc03d02da1fe5bcad15b269b);\n",
       "        \n",
       "    \n",
       "            var icon_0a1e1c5d5f07df1e715d8e0a76d71b86 = L.AwesomeMarkers.icon(\n",
       "                {&quot;extraClasses&quot;: &quot;fa-rotate-0&quot;, &quot;icon&quot;: &quot;info-sign&quot;, &quot;iconColor&quot;: &quot;white&quot;, &quot;markerColor&quot;: &quot;red&quot;, &quot;prefix&quot;: &quot;glyphicon&quot;}\n",
       "            );\n",
       "            marker_29c2bef5cbfecb832bb0d2dc7f778cda.setIcon(icon_0a1e1c5d5f07df1e715d8e0a76d71b86);\n",
       "        \n",
       "    \n",
       "        var popup_a5f95a5f66711e2b3116b454a3ecb655 = L.popup({&quot;maxWidth&quot;: &quot;100%&quot;});\n",
       "\n",
       "        \n",
       "            var html_c430342f57dfcfa2bb1945051f66c421 = $(`&lt;div id=&quot;html_c430342f57dfcfa2bb1945051f66c421&quot; style=&quot;width: 100.0%; height: 100.0%;&quot;&gt;LOWER FREDERICK&lt;/div&gt;`)[0];\n",
       "            popup_a5f95a5f66711e2b3116b454a3ecb655.setContent(html_c430342f57dfcfa2bb1945051f66c421);\n",
       "        \n",
       "\n",
       "        marker_29c2bef5cbfecb832bb0d2dc7f778cda.bindPopup(popup_a5f95a5f66711e2b3116b454a3ecb655)\n",
       "        ;\n",
       "\n",
       "        \n",
       "    \n",
       "    \n",
       "            var marker_6fd256704b84a9a84cacaec77e61cc60 = L.marker(\n",
       "                [40.186234983661016, -75.23563215431368],\n",
       "                {&quot;color&quot;: &quot;crimson&quot;, &quot;radius&quot;: 1}\n",
       "            ).addTo(map_5f84cc04dc03d02da1fe5bcad15b269b);\n",
       "        \n",
       "    \n",
       "            var icon_11b5a732b39810a3ffd32737b21adb4f = L.AwesomeMarkers.icon(\n",
       "                {&quot;extraClasses&quot;: &quot;fa-rotate-0&quot;, &quot;icon&quot;: &quot;info-sign&quot;, &quot;iconColor&quot;: &quot;white&quot;, &quot;markerColor&quot;: &quot;red&quot;, &quot;prefix&quot;: &quot;glyphicon&quot;}\n",
       "            );\n",
       "            marker_6fd256704b84a9a84cacaec77e61cc60.setIcon(icon_11b5a732b39810a3ffd32737b21adb4f);\n",
       "        \n",
       "    \n",
       "        var popup_0d5014788265d6a812d1561b9798422d = L.popup({&quot;maxWidth&quot;: &quot;100%&quot;});\n",
       "\n",
       "        \n",
       "            var html_2ded53ef8f06f13a82dd70ba2dd085b0 = $(`&lt;div id=&quot;html_2ded53ef8f06f13a82dd70ba2dd085b0&quot; style=&quot;width: 100.0%; height: 100.0%;&quot;&gt;LOWER GWYNEDD&lt;/div&gt;`)[0];\n",
       "            popup_0d5014788265d6a812d1561b9798422d.setContent(html_2ded53ef8f06f13a82dd70ba2dd085b0);\n",
       "        \n",
       "\n",
       "        marker_6fd256704b84a9a84cacaec77e61cc60.bindPopup(popup_0d5014788265d6a812d1561b9798422d)\n",
       "        ;\n",
       "\n",
       "        \n",
       "    \n",
       "    \n",
       "            var marker_a3616740a57826f52be0178364d9aeb6 = L.marker(\n",
       "                [40.01499416019463, -75.28067266243647],\n",
       "                {&quot;color&quot;: &quot;crimson&quot;, &quot;radius&quot;: 1}\n",
       "            ).addTo(map_5f84cc04dc03d02da1fe5bcad15b269b);\n",
       "        \n",
       "    \n",
       "            var icon_ce9cff4946587945ef8a0c47696b47ae = L.AwesomeMarkers.icon(\n",
       "                {&quot;extraClasses&quot;: &quot;fa-rotate-0&quot;, &quot;icon&quot;: &quot;info-sign&quot;, &quot;iconColor&quot;: &quot;white&quot;, &quot;markerColor&quot;: &quot;red&quot;, &quot;prefix&quot;: &quot;glyphicon&quot;}\n",
       "            );\n",
       "            marker_a3616740a57826f52be0178364d9aeb6.setIcon(icon_ce9cff4946587945ef8a0c47696b47ae);\n",
       "        \n",
       "    \n",
       "        var popup_5c111b5f41cc9204e431da8b5d56151e = L.popup({&quot;maxWidth&quot;: &quot;100%&quot;});\n",
       "\n",
       "        \n",
       "            var html_69e741b3cb0c2845710efe393f517d71 = $(`&lt;div id=&quot;html_69e741b3cb0c2845710efe393f517d71&quot; style=&quot;width: 100.0%; height: 100.0%;&quot;&gt;LOWER MERION&lt;/div&gt;`)[0];\n",
       "            popup_5c111b5f41cc9204e431da8b5d56151e.setContent(html_69e741b3cb0c2845710efe393f517d71);\n",
       "        \n",
       "\n",
       "        marker_a3616740a57826f52be0178364d9aeb6.bindPopup(popup_5c111b5f41cc9204e431da8b5d56151e)\n",
       "        ;\n",
       "\n",
       "        \n",
       "    \n",
       "    \n",
       "            var marker_a452225ec6daad427d672f5db07488ef = L.marker(\n",
       "                [40.13167017406261, -75.05817685658901],\n",
       "                {&quot;color&quot;: &quot;crimson&quot;, &quot;radius&quot;: 1}\n",
       "            ).addTo(map_5f84cc04dc03d02da1fe5bcad15b269b);\n",
       "        \n",
       "    \n",
       "            var icon_8a15f3a93d80fa3e30464fbc10a73dee = L.AwesomeMarkers.icon(\n",
       "                {&quot;extraClasses&quot;: &quot;fa-rotate-0&quot;, &quot;icon&quot;: &quot;info-sign&quot;, &quot;iconColor&quot;: &quot;white&quot;, &quot;markerColor&quot;: &quot;red&quot;, &quot;prefix&quot;: &quot;glyphicon&quot;}\n",
       "            );\n",
       "            marker_a452225ec6daad427d672f5db07488ef.setIcon(icon_8a15f3a93d80fa3e30464fbc10a73dee);\n",
       "        \n",
       "    \n",
       "        var popup_58c28a46de63bbdbaea26b351907875d = L.popup({&quot;maxWidth&quot;: &quot;100%&quot;});\n",
       "\n",
       "        \n",
       "            var html_15fbb107ecbf5dd66be41d2858da7cb0 = $(`&lt;div id=&quot;html_15fbb107ecbf5dd66be41d2858da7cb0&quot; style=&quot;width: 100.0%; height: 100.0%;&quot;&gt;LOWER MORELAND&lt;/div&gt;`)[0];\n",
       "            popup_58c28a46de63bbdbaea26b351907875d.setContent(html_15fbb107ecbf5dd66be41d2858da7cb0);\n",
       "        \n",
       "\n",
       "        marker_a452225ec6daad427d672f5db07488ef.bindPopup(popup_58c28a46de63bbdbaea26b351907875d)\n",
       "        ;\n",
       "\n",
       "        \n",
       "    \n",
       "    \n",
       "            var marker_73174f2ade854e065957ea0cc180d943 = L.marker(\n",
       "                [40.249815388083526, -75.59810270869605],\n",
       "                {&quot;color&quot;: &quot;crimson&quot;, &quot;radius&quot;: 1}\n",
       "            ).addTo(map_5f84cc04dc03d02da1fe5bcad15b269b);\n",
       "        \n",
       "    \n",
       "            var icon_3fb2174cdc6bb48bba041545e394fe8c = L.AwesomeMarkers.icon(\n",
       "                {&quot;extraClasses&quot;: &quot;fa-rotate-0&quot;, &quot;icon&quot;: &quot;info-sign&quot;, &quot;iconColor&quot;: &quot;white&quot;, &quot;markerColor&quot;: &quot;red&quot;, &quot;prefix&quot;: &quot;glyphicon&quot;}\n",
       "            );\n",
       "            marker_73174f2ade854e065957ea0cc180d943.setIcon(icon_3fb2174cdc6bb48bba041545e394fe8c);\n",
       "        \n",
       "    \n",
       "        var popup_2798e52b2afd93edddafa12ad8d5195c = L.popup({&quot;maxWidth&quot;: &quot;100%&quot;});\n",
       "\n",
       "        \n",
       "            var html_54d4b6b7ff1ce79eecc01c1221109649 = $(`&lt;div id=&quot;html_54d4b6b7ff1ce79eecc01c1221109649&quot; style=&quot;width: 100.0%; height: 100.0%;&quot;&gt;LOWER POTTSGROVE&lt;/div&gt;`)[0];\n",
       "            popup_2798e52b2afd93edddafa12ad8d5195c.setContent(html_54d4b6b7ff1ce79eecc01c1221109649);\n",
       "        \n",
       "\n",
       "        marker_73174f2ade854e065957ea0cc180d943.bindPopup(popup_2798e52b2afd93edddafa12ad8d5195c)\n",
       "        ;\n",
       "\n",
       "        \n",
       "    \n",
       "    \n",
       "            var marker_ca62444993fcd5e1752194877b6f6076 = L.marker(\n",
       "                [40.14313532973839, -75.41417598114879],\n",
       "                {&quot;color&quot;: &quot;crimson&quot;, &quot;radius&quot;: 1}\n",
       "            ).addTo(map_5f84cc04dc03d02da1fe5bcad15b269b);\n",
       "        \n",
       "    \n",
       "            var icon_ef3b6cd14154a5b753f332e4efbbaaf2 = L.AwesomeMarkers.icon(\n",
       "                {&quot;extraClasses&quot;: &quot;fa-rotate-0&quot;, &quot;icon&quot;: &quot;info-sign&quot;, &quot;iconColor&quot;: &quot;white&quot;, &quot;markerColor&quot;: &quot;red&quot;, &quot;prefix&quot;: &quot;glyphicon&quot;}\n",
       "            );\n",
       "            marker_ca62444993fcd5e1752194877b6f6076.setIcon(icon_ef3b6cd14154a5b753f332e4efbbaaf2);\n",
       "        \n",
       "    \n",
       "        var popup_3f7743c4c887e5902726edcfdb323687 = L.popup({&quot;maxWidth&quot;: &quot;100%&quot;});\n",
       "\n",
       "        \n",
       "            var html_e23bcfc4103385305a16f324b5bc5bde = $(`&lt;div id=&quot;html_e23bcfc4103385305a16f324b5bc5bde&quot; style=&quot;width: 100.0%; height: 100.0%;&quot;&gt;LOWER PROVIDENCE&lt;/div&gt;`)[0];\n",
       "            popup_3f7743c4c887e5902726edcfdb323687.setContent(html_e23bcfc4103385305a16f324b5bc5bde);\n",
       "        \n",
       "\n",
       "        marker_ca62444993fcd5e1752194877b6f6076.bindPopup(popup_3f7743c4c887e5902726edcfdb323687)\n",
       "        ;\n",
       "\n",
       "        \n",
       "    \n",
       "    \n",
       "            var marker_12447304bcd9e0bc11ded6dff2a8383a = L.marker(\n",
       "                [40.27396804788458, -75.39034026750922],\n",
       "                {&quot;color&quot;: &quot;crimson&quot;, &quot;radius&quot;: 1}\n",
       "            ).addTo(map_5f84cc04dc03d02da1fe5bcad15b269b);\n",
       "        \n",
       "    \n",
       "            var icon_889df0b895067befdf22715556cd4296 = L.AwesomeMarkers.icon(\n",
       "                {&quot;extraClasses&quot;: &quot;fa-rotate-0&quot;, &quot;icon&quot;: &quot;info-sign&quot;, &quot;iconColor&quot;: &quot;white&quot;, &quot;markerColor&quot;: &quot;red&quot;, &quot;prefix&quot;: &quot;glyphicon&quot;}\n",
       "            );\n",
       "            marker_12447304bcd9e0bc11ded6dff2a8383a.setIcon(icon_889df0b895067befdf22715556cd4296);\n",
       "        \n",
       "    \n",
       "        var popup_9f1bb025e367500a92ec9b06e2ce0940 = L.popup({&quot;maxWidth&quot;: &quot;100%&quot;});\n",
       "\n",
       "        \n",
       "            var html_2f3cec65a2de2c40120eb4347135a206 = $(`&lt;div id=&quot;html_2f3cec65a2de2c40120eb4347135a206&quot; style=&quot;width: 100.0%; height: 100.0%;&quot;&gt;LOWER SALFORD&lt;/div&gt;`)[0];\n",
       "            popup_9f1bb025e367500a92ec9b06e2ce0940.setContent(html_2f3cec65a2de2c40120eb4347135a206);\n",
       "        \n",
       "\n",
       "        marker_12447304bcd9e0bc11ded6dff2a8383a.bindPopup(popup_9f1bb025e367500a92ec9b06e2ce0940)\n",
       "        ;\n",
       "\n",
       "        \n",
       "    \n",
       "    \n",
       "            var marker_12eb4868e30a74a5ced0ba267e425bad = L.marker(\n",
       "                [40.351465295102614, -75.46023463619403],\n",
       "                {&quot;color&quot;: &quot;crimson&quot;, &quot;radius&quot;: 1}\n",
       "            ).addTo(map_5f84cc04dc03d02da1fe5bcad15b269b);\n",
       "        \n",
       "    \n",
       "            var icon_d5ff0183059c29e2f14d3fe82096777b = L.AwesomeMarkers.icon(\n",
       "                {&quot;extraClasses&quot;: &quot;fa-rotate-0&quot;, &quot;icon&quot;: &quot;info-sign&quot;, &quot;iconColor&quot;: &quot;white&quot;, &quot;markerColor&quot;: &quot;red&quot;, &quot;prefix&quot;: &quot;glyphicon&quot;}\n",
       "            );\n",
       "            marker_12eb4868e30a74a5ced0ba267e425bad.setIcon(icon_d5ff0183059c29e2f14d3fe82096777b);\n",
       "        \n",
       "    \n",
       "        var popup_7709d890a8cb812001ce1f1a220257e3 = L.popup({&quot;maxWidth&quot;: &quot;100%&quot;});\n",
       "\n",
       "        \n",
       "            var html_a6feb5aca0b0b3449b9c2aebf7368380 = $(`&lt;div id=&quot;html_a6feb5aca0b0b3449b9c2aebf7368380&quot; style=&quot;width: 100.0%; height: 100.0%;&quot;&gt;MARLBOROUGH&lt;/div&gt;`)[0];\n",
       "            popup_7709d890a8cb812001ce1f1a220257e3.setContent(html_a6feb5aca0b0b3449b9c2aebf7368380);\n",
       "        \n",
       "\n",
       "        marker_12eb4868e30a74a5ced0ba267e425bad.bindPopup(popup_7709d890a8cb812001ce1f1a220257e3)\n",
       "        ;\n",
       "\n",
       "        \n",
       "    \n",
       "    \n",
       "            var marker_2eebdd8864e66f6e43545547a3fd76f1 = L.marker(\n",
       "                [40.23660918136298, -75.23954371411493],\n",
       "                {&quot;color&quot;: &quot;crimson&quot;, &quot;radius&quot;: 1}\n",
       "            ).addTo(map_5f84cc04dc03d02da1fe5bcad15b269b);\n",
       "        \n",
       "    \n",
       "            var icon_9ee3da888e46254fc9d1d08c659af0a3 = L.AwesomeMarkers.icon(\n",
       "                {&quot;extraClasses&quot;: &quot;fa-rotate-0&quot;, &quot;icon&quot;: &quot;info-sign&quot;, &quot;iconColor&quot;: &quot;white&quot;, &quot;markerColor&quot;: &quot;red&quot;, &quot;prefix&quot;: &quot;glyphicon&quot;}\n",
       "            );\n",
       "            marker_2eebdd8864e66f6e43545547a3fd76f1.setIcon(icon_9ee3da888e46254fc9d1d08c659af0a3);\n",
       "        \n",
       "    \n",
       "        var popup_ea886ee77eef4bc88c4d96f4b06d872e = L.popup({&quot;maxWidth&quot;: &quot;100%&quot;});\n",
       "\n",
       "        \n",
       "            var html_db8e7ccaf34477ae5293fc2d4e798fb0 = $(`&lt;div id=&quot;html_db8e7ccaf34477ae5293fc2d4e798fb0&quot; style=&quot;width: 100.0%; height: 100.0%;&quot;&gt;MONTGOMERY&lt;/div&gt;`)[0];\n",
       "            popup_ea886ee77eef4bc88c4d96f4b06d872e.setContent(html_db8e7ccaf34477ae5293fc2d4e798fb0);\n",
       "        \n",
       "\n",
       "        marker_2eebdd8864e66f6e43545547a3fd76f1.bindPopup(popup_ea886ee77eef4bc88c4d96f4b06d872e)\n",
       "        ;\n",
       "\n",
       "        \n",
       "    \n",
       "    \n",
       "            var marker_2b19e26bae2e7a6519c172822e3005b7 = L.marker(\n",
       "                [40.00826154437465, -75.26218356956025],\n",
       "                {&quot;color&quot;: &quot;crimson&quot;, &quot;radius&quot;: 1}\n",
       "            ).addTo(map_5f84cc04dc03d02da1fe5bcad15b269b);\n",
       "        \n",
       "    \n",
       "            var icon_283cf700b093ed967649e37c61cf23ce = L.AwesomeMarkers.icon(\n",
       "                {&quot;extraClasses&quot;: &quot;fa-rotate-0&quot;, &quot;icon&quot;: &quot;info-sign&quot;, &quot;iconColor&quot;: &quot;white&quot;, &quot;markerColor&quot;: &quot;red&quot;, &quot;prefix&quot;: &quot;glyphicon&quot;}\n",
       "            );\n",
       "            marker_2b19e26bae2e7a6519c172822e3005b7.setIcon(icon_283cf700b093ed967649e37c61cf23ce);\n",
       "        \n",
       "    \n",
       "        var popup_087be45e8df79d8cf87ea69d4795ae71 = L.popup({&quot;maxWidth&quot;: &quot;100%&quot;});\n",
       "\n",
       "        \n",
       "            var html_87660460936cd6f855784d5089d90000 = $(`&lt;div id=&quot;html_87660460936cd6f855784d5089d90000&quot; style=&quot;width: 100.0%; height: 100.0%;&quot;&gt;NARBERTH&lt;/div&gt;`)[0];\n",
       "            popup_087be45e8df79d8cf87ea69d4795ae71.setContent(html_87660460936cd6f855784d5089d90000);\n",
       "        \n",
       "\n",
       "        marker_2b19e26bae2e7a6519c172822e3005b7.bindPopup(popup_087be45e8df79d8cf87ea69d4795ae71)\n",
       "        ;\n",
       "\n",
       "        \n",
       "    \n",
       "    \n",
       "            var marker_f264e23a748815010ec40659022bb91b = L.marker(\n",
       "                [40.306833018302285, -75.56955421540233],\n",
       "                {&quot;color&quot;: &quot;crimson&quot;, &quot;radius&quot;: 1}\n",
       "            ).addTo(map_5f84cc04dc03d02da1fe5bcad15b269b);\n",
       "        \n",
       "    \n",
       "            var icon_7c16b5b0b4d02b7ed7d3a4f7462a025f = L.AwesomeMarkers.icon(\n",
       "                {&quot;extraClasses&quot;: &quot;fa-rotate-0&quot;, &quot;icon&quot;: &quot;info-sign&quot;, &quot;iconColor&quot;: &quot;white&quot;, &quot;markerColor&quot;: &quot;red&quot;, &quot;prefix&quot;: &quot;glyphicon&quot;}\n",
       "            );\n",
       "            marker_f264e23a748815010ec40659022bb91b.setIcon(icon_7c16b5b0b4d02b7ed7d3a4f7462a025f);\n",
       "        \n",
       "    \n",
       "        var popup_008193a052f2a520f0271dfd084775f5 = L.popup({&quot;maxWidth&quot;: &quot;100%&quot;});\n",
       "\n",
       "        \n",
       "            var html_07f9056c10f7952c85f93dfac41e4fb7 = $(`&lt;div id=&quot;html_07f9056c10f7952c85f93dfac41e4fb7&quot; style=&quot;width: 100.0%; height: 100.0%;&quot;&gt;NEW HANOVER&lt;/div&gt;`)[0];\n",
       "            popup_008193a052f2a520f0271dfd084775f5.setContent(html_07f9056c10f7952c85f93dfac41e4fb7);\n",
       "        \n",
       "\n",
       "        marker_f264e23a748815010ec40659022bb91b.bindPopup(popup_008193a052f2a520f0271dfd084775f5)\n",
       "        ;\n",
       "\n",
       "        \n",
       "    \n",
       "    \n",
       "            var marker_3c544534bc522e57b192ee2b7b660faa = L.marker(\n",
       "                [40.120328890824545, -75.34245005515372],\n",
       "                {&quot;color&quot;: &quot;crimson&quot;, &quot;radius&quot;: 1}\n",
       "            ).addTo(map_5f84cc04dc03d02da1fe5bcad15b269b);\n",
       "        \n",
       "    \n",
       "            var icon_9b0c7fe2a598bf5e5c37506100fbd7fc = L.AwesomeMarkers.icon(\n",
       "                {&quot;extraClasses&quot;: &quot;fa-rotate-0&quot;, &quot;icon&quot;: &quot;info-sign&quot;, &quot;iconColor&quot;: &quot;white&quot;, &quot;markerColor&quot;: &quot;red&quot;, &quot;prefix&quot;: &quot;glyphicon&quot;}\n",
       "            );\n",
       "            marker_3c544534bc522e57b192ee2b7b660faa.setIcon(icon_9b0c7fe2a598bf5e5c37506100fbd7fc);\n",
       "        \n",
       "    \n",
       "        var popup_4692fd12f6e6318d111d215e2d55e173 = L.popup({&quot;maxWidth&quot;: &quot;100%&quot;});\n",
       "\n",
       "        \n",
       "            var html_34995aaa8a2016321c54e5d7eb152ac2 = $(`&lt;div id=&quot;html_34995aaa8a2016321c54e5d7eb152ac2&quot; style=&quot;width: 100.0%; height: 100.0%;&quot;&gt;NORRISTOWN&lt;/div&gt;`)[0];\n",
       "            popup_4692fd12f6e6318d111d215e2d55e173.setContent(html_34995aaa8a2016321c54e5d7eb152ac2);\n",
       "        \n",
       "\n",
       "        marker_3c544534bc522e57b192ee2b7b660faa.bindPopup(popup_4692fd12f6e6318d111d215e2d55e173)\n",
       "        ;\n",
       "\n",
       "        \n",
       "    \n",
       "    \n",
       "            var marker_9b9aa10da432c473d36bb645c4d724f0 = L.marker(\n",
       "                [40.20899268116407, -75.27948717016498],\n",
       "                {&quot;color&quot;: &quot;crimson&quot;, &quot;radius&quot;: 1}\n",
       "            ).addTo(map_5f84cc04dc03d02da1fe5bcad15b269b);\n",
       "        \n",
       "    \n",
       "            var icon_276121a8db80576fd63f4dc1f7494aad = L.AwesomeMarkers.icon(\n",
       "                {&quot;extraClasses&quot;: &quot;fa-rotate-0&quot;, &quot;icon&quot;: &quot;info-sign&quot;, &quot;iconColor&quot;: &quot;white&quot;, &quot;markerColor&quot;: &quot;red&quot;, &quot;prefix&quot;: &quot;glyphicon&quot;}\n",
       "            );\n",
       "            marker_9b9aa10da432c473d36bb645c4d724f0.setIcon(icon_276121a8db80576fd63f4dc1f7494aad);\n",
       "        \n",
       "    \n",
       "        var popup_10da364dc3b376f87d2c12eecf8a0a4f = L.popup({&quot;maxWidth&quot;: &quot;100%&quot;});\n",
       "\n",
       "        \n",
       "            var html_538d6ffa1f9f7ef45bf7f2e95a7a590f = $(`&lt;div id=&quot;html_538d6ffa1f9f7ef45bf7f2e95a7a590f&quot; style=&quot;width: 100.0%; height: 100.0%;&quot;&gt;NORTH WALES&lt;/div&gt;`)[0];\n",
       "            popup_10da364dc3b376f87d2c12eecf8a0a4f.setContent(html_538d6ffa1f9f7ef45bf7f2e95a7a590f);\n",
       "        \n",
       "\n",
       "        marker_9b9aa10da432c473d36bb645c4d724f0.bindPopup(popup_10da364dc3b376f87d2c12eecf8a0a4f)\n",
       "        ;\n",
       "\n",
       "        \n",
       "    \n",
       "    \n",
       "            var marker_7cb8635fba83391b2912f91fff3ef5e2 = L.marker(\n",
       "                [40.39586708470363, -75.49685154130019],\n",
       "                {&quot;color&quot;: &quot;crimson&quot;, &quot;radius&quot;: 1}\n",
       "            ).addTo(map_5f84cc04dc03d02da1fe5bcad15b269b);\n",
       "        \n",
       "    \n",
       "            var icon_8787119b5e087e02ef402438900740fb = L.AwesomeMarkers.icon(\n",
       "                {&quot;extraClasses&quot;: &quot;fa-rotate-0&quot;, &quot;icon&quot;: &quot;info-sign&quot;, &quot;iconColor&quot;: &quot;white&quot;, &quot;markerColor&quot;: &quot;red&quot;, &quot;prefix&quot;: &quot;glyphicon&quot;}\n",
       "            );\n",
       "            marker_7cb8635fba83391b2912f91fff3ef5e2.setIcon(icon_8787119b5e087e02ef402438900740fb);\n",
       "        \n",
       "    \n",
       "        var popup_cf20df7b2f106cb7239ee3b6645785b4 = L.popup({&quot;maxWidth&quot;: &quot;100%&quot;});\n",
       "\n",
       "        \n",
       "            var html_4a2c05b23dd1867be062b5ced5d9d4a7 = $(`&lt;div id=&quot;html_4a2c05b23dd1867be062b5ced5d9d4a7&quot; style=&quot;width: 100.0%; height: 100.0%;&quot;&gt;PENNSBURG&lt;/div&gt;`)[0];\n",
       "            popup_cf20df7b2f106cb7239ee3b6645785b4.setContent(html_4a2c05b23dd1867be062b5ced5d9d4a7);\n",
       "        \n",
       "\n",
       "        marker_7cb8635fba83391b2912f91fff3ef5e2.bindPopup(popup_cf20df7b2f106cb7239ee3b6645785b4)\n",
       "        ;\n",
       "\n",
       "        \n",
       "    \n",
       "    \n",
       "            var marker_57e8fa5622fadc3f0261f5b90a51c682 = L.marker(\n",
       "                [40.23025983505253, -75.46243480958293],\n",
       "                {&quot;color&quot;: &quot;crimson&quot;, &quot;radius&quot;: 1}\n",
       "            ).addTo(map_5f84cc04dc03d02da1fe5bcad15b269b);\n",
       "        \n",
       "    \n",
       "            var icon_ca05d9f7fce15f6e86f2bd1d38cd8312 = L.AwesomeMarkers.icon(\n",
       "                {&quot;extraClasses&quot;: &quot;fa-rotate-0&quot;, &quot;icon&quot;: &quot;info-sign&quot;, &quot;iconColor&quot;: &quot;white&quot;, &quot;markerColor&quot;: &quot;red&quot;, &quot;prefix&quot;: &quot;glyphicon&quot;}\n",
       "            );\n",
       "            marker_57e8fa5622fadc3f0261f5b90a51c682.setIcon(icon_ca05d9f7fce15f6e86f2bd1d38cd8312);\n",
       "        \n",
       "    \n",
       "        var popup_5c812227d5588ab3fab7f2ca0eb33289 = L.popup({&quot;maxWidth&quot;: &quot;100%&quot;});\n",
       "\n",
       "        \n",
       "            var html_65f7dea0f8c9d7fa9bfd883f1d8d8cfb = $(`&lt;div id=&quot;html_65f7dea0f8c9d7fa9bfd883f1d8d8cfb&quot; style=&quot;width: 100.0%; height: 100.0%;&quot;&gt;PERKIOMEN&lt;/div&gt;`)[0];\n",
       "            popup_5c812227d5588ab3fab7f2ca0eb33289.setContent(html_65f7dea0f8c9d7fa9bfd883f1d8d8cfb);\n",
       "        \n",
       "\n",
       "        marker_57e8fa5622fadc3f0261f5b90a51c682.bindPopup(popup_5c812227d5588ab3fab7f2ca0eb33289)\n",
       "        ;\n",
       "\n",
       "        \n",
       "    \n",
       "    \n",
       "            var marker_59f40d34ec512010a2a800aa93f1926c = L.marker(\n",
       "                [40.06051663483146, -75.19726379925093],\n",
       "                {&quot;color&quot;: &quot;crimson&quot;, &quot;radius&quot;: 1}\n",
       "            ).addTo(map_5f84cc04dc03d02da1fe5bcad15b269b);\n",
       "        \n",
       "    \n",
       "            var icon_6f982c264bca7407a13e773dc3a32b28 = L.AwesomeMarkers.icon(\n",
       "                {&quot;extraClasses&quot;: &quot;fa-rotate-0&quot;, &quot;icon&quot;: &quot;info-sign&quot;, &quot;iconColor&quot;: &quot;white&quot;, &quot;markerColor&quot;: &quot;red&quot;, &quot;prefix&quot;: &quot;glyphicon&quot;}\n",
       "            );\n",
       "            marker_59f40d34ec512010a2a800aa93f1926c.setIcon(icon_6f982c264bca7407a13e773dc3a32b28);\n",
       "        \n",
       "    \n",
       "        var popup_7061c71dc496b1db61fe6c3494bff0c8 = L.popup({&quot;maxWidth&quot;: &quot;100%&quot;});\n",
       "\n",
       "        \n",
       "            var html_d511601db074701665fad9a16f39a8df = $(`&lt;div id=&quot;html_d511601db074701665fad9a16f39a8df&quot; style=&quot;width: 100.0%; height: 100.0%;&quot;&gt;PHILA COUNTY&lt;/div&gt;`)[0];\n",
       "            popup_7061c71dc496b1db61fe6c3494bff0c8.setContent(html_d511601db074701665fad9a16f39a8df);\n",
       "        \n",
       "\n",
       "        marker_59f40d34ec512010a2a800aa93f1926c.bindPopup(popup_7061c71dc496b1db61fe6c3494bff0c8)\n",
       "        ;\n",
       "\n",
       "        \n",
       "    \n",
       "    \n",
       "            var marker_bf84b79e77b3f6f9e51a1a12a37525c3 = L.marker(\n",
       "                [40.11097353315768, -75.29988481705607],\n",
       "                {&quot;color&quot;: &quot;crimson&quot;, &quot;radius&quot;: 1}\n",
       "            ).addTo(map_5f84cc04dc03d02da1fe5bcad15b269b);\n",
       "        \n",
       "    \n",
       "            var icon_8a0e0e1e52801176866690d1753e1a0b = L.AwesomeMarkers.icon(\n",
       "                {&quot;extraClasses&quot;: &quot;fa-rotate-0&quot;, &quot;icon&quot;: &quot;info-sign&quot;, &quot;iconColor&quot;: &quot;white&quot;, &quot;markerColor&quot;: &quot;red&quot;, &quot;prefix&quot;: &quot;glyphicon&quot;}\n",
       "            );\n",
       "            marker_bf84b79e77b3f6f9e51a1a12a37525c3.setIcon(icon_8a0e0e1e52801176866690d1753e1a0b);\n",
       "        \n",
       "    \n",
       "        var popup_6e83814f18d2f06232e5646799bcba68 = L.popup({&quot;maxWidth&quot;: &quot;100%&quot;});\n",
       "\n",
       "        \n",
       "            var html_d766974ed3539b1dd63db2e8e58f684b = $(`&lt;div id=&quot;html_d766974ed3539b1dd63db2e8e58f684b&quot; style=&quot;width: 100.0%; height: 100.0%;&quot;&gt;PLYMOUTH&lt;/div&gt;`)[0];\n",
       "            popup_6e83814f18d2f06232e5646799bcba68.setContent(html_d766974ed3539b1dd63db2e8e58f684b);\n",
       "        \n",
       "\n",
       "        marker_bf84b79e77b3f6f9e51a1a12a37525c3.bindPopup(popup_6e83814f18d2f06232e5646799bcba68)\n",
       "        ;\n",
       "\n",
       "        \n",
       "    \n",
       "    \n",
       "            var marker_21ea2a2d46e5de8f250fb08b2019a083 = L.marker(\n",
       "                [40.249675163095624, -75.64353990159199],\n",
       "                {&quot;color&quot;: &quot;crimson&quot;, &quot;radius&quot;: 1}\n",
       "            ).addTo(map_5f84cc04dc03d02da1fe5bcad15b269b);\n",
       "        \n",
       "    \n",
       "            var icon_d32312e801f77827fb32f7fd5d3d9505 = L.AwesomeMarkers.icon(\n",
       "                {&quot;extraClasses&quot;: &quot;fa-rotate-0&quot;, &quot;icon&quot;: &quot;info-sign&quot;, &quot;iconColor&quot;: &quot;white&quot;, &quot;markerColor&quot;: &quot;red&quot;, &quot;prefix&quot;: &quot;glyphicon&quot;}\n",
       "            );\n",
       "            marker_21ea2a2d46e5de8f250fb08b2019a083.setIcon(icon_d32312e801f77827fb32f7fd5d3d9505);\n",
       "        \n",
       "    \n",
       "        var popup_0caf4c978c8ad193f86f545d92dd5c92 = L.popup({&quot;maxWidth&quot;: &quot;100%&quot;});\n",
       "\n",
       "        \n",
       "            var html_20cd64acb7e3301e300e7559d66df5a2 = $(`&lt;div id=&quot;html_20cd64acb7e3301e300e7559d66df5a2&quot; style=&quot;width: 100.0%; height: 100.0%;&quot;&gt;POTTSTOWN&lt;/div&gt;`)[0];\n",
       "            popup_0caf4c978c8ad193f86f545d92dd5c92.setContent(html_20cd64acb7e3301e300e7559d66df5a2);\n",
       "        \n",
       "\n",
       "        marker_21ea2a2d46e5de8f250fb08b2019a083.bindPopup(popup_0caf4c978c8ad193f86f545d92dd5c92)\n",
       "        ;\n",
       "\n",
       "        \n",
       "    \n",
       "    \n",
       "            var marker_abfab26e8633d941c74b65b5f8d326b5 = L.marker(\n",
       "                [40.37617451288374, -75.48296942682435],\n",
       "                {&quot;color&quot;: &quot;crimson&quot;, &quot;radius&quot;: 1}\n",
       "            ).addTo(map_5f84cc04dc03d02da1fe5bcad15b269b);\n",
       "        \n",
       "    \n",
       "            var icon_739925eb6a6097a56ffb93a1f81ad3d8 = L.AwesomeMarkers.icon(\n",
       "                {&quot;extraClasses&quot;: &quot;fa-rotate-0&quot;, &quot;icon&quot;: &quot;info-sign&quot;, &quot;iconColor&quot;: &quot;white&quot;, &quot;markerColor&quot;: &quot;red&quot;, &quot;prefix&quot;: &quot;glyphicon&quot;}\n",
       "            );\n",
       "            marker_abfab26e8633d941c74b65b5f8d326b5.setIcon(icon_739925eb6a6097a56ffb93a1f81ad3d8);\n",
       "        \n",
       "    \n",
       "        var popup_11340e239718f50fe67c49f60996c789 = L.popup({&quot;maxWidth&quot;: &quot;100%&quot;});\n",
       "\n",
       "        \n",
       "            var html_d79c98b7039597d2dca235e881d20ac0 = $(`&lt;div id=&quot;html_d79c98b7039597d2dca235e881d20ac0&quot; style=&quot;width: 100.0%; height: 100.0%;&quot;&gt;RED HILL&lt;/div&gt;`)[0];\n",
       "            popup_11340e239718f50fe67c49f60996c789.setContent(html_d79c98b7039597d2dca235e881d20ac0);\n",
       "        \n",
       "\n",
       "        marker_abfab26e8633d941c74b65b5f8d326b5.bindPopup(popup_11340e239718f50fe67c49f60996c789)\n",
       "        ;\n",
       "\n",
       "        \n",
       "    \n",
       "    \n",
       "            var marker_a931ee6045916d328a701b181e31056d = L.marker(\n",
       "                [40.08181818291906, -75.08957151344805],\n",
       "                {&quot;color&quot;: &quot;crimson&quot;, &quot;radius&quot;: 1}\n",
       "            ).addTo(map_5f84cc04dc03d02da1fe5bcad15b269b);\n",
       "        \n",
       "    \n",
       "            var icon_19ee95e1ee155fec7c74968de1f4bd03 = L.AwesomeMarkers.icon(\n",
       "                {&quot;extraClasses&quot;: &quot;fa-rotate-0&quot;, &quot;icon&quot;: &quot;info-sign&quot;, &quot;iconColor&quot;: &quot;white&quot;, &quot;markerColor&quot;: &quot;red&quot;, &quot;prefix&quot;: &quot;glyphicon&quot;}\n",
       "            );\n",
       "            marker_a931ee6045916d328a701b181e31056d.setIcon(icon_19ee95e1ee155fec7c74968de1f4bd03);\n",
       "        \n",
       "    \n",
       "        var popup_387b0737fe5b5c152f5562b9454d0e10 = L.popup({&quot;maxWidth&quot;: &quot;100%&quot;});\n",
       "\n",
       "        \n",
       "            var html_2e4b475eda04bc64ea24ef32a76e876c = $(`&lt;div id=&quot;html_2e4b475eda04bc64ea24ef32a76e876c&quot; style=&quot;width: 100.0%; height: 100.0%;&quot;&gt;ROCKLEDGE&lt;/div&gt;`)[0];\n",
       "            popup_387b0737fe5b5c152f5562b9454d0e10.setContent(html_2e4b475eda04bc64ea24ef32a76e876c);\n",
       "        \n",
       "\n",
       "        marker_a931ee6045916d328a701b181e31056d.bindPopup(popup_387b0737fe5b5c152f5562b9454d0e10)\n",
       "        ;\n",
       "\n",
       "        \n",
       "    \n",
       "    \n",
       "            var marker_8fbbb6d10f324979ed430103f84af4d6 = L.marker(\n",
       "                [40.18566360019746, -75.53821584877291],\n",
       "                {&quot;color&quot;: &quot;crimson&quot;, &quot;radius&quot;: 1}\n",
       "            ).addTo(map_5f84cc04dc03d02da1fe5bcad15b269b);\n",
       "        \n",
       "    \n",
       "            var icon_d1a74f0f36ff1c88e20ab2607b304864 = L.AwesomeMarkers.icon(\n",
       "                {&quot;extraClasses&quot;: &quot;fa-rotate-0&quot;, &quot;icon&quot;: &quot;info-sign&quot;, &quot;iconColor&quot;: &quot;white&quot;, &quot;markerColor&quot;: &quot;red&quot;, &quot;prefix&quot;: &quot;glyphicon&quot;}\n",
       "            );\n",
       "            marker_8fbbb6d10f324979ed430103f84af4d6.setIcon(icon_d1a74f0f36ff1c88e20ab2607b304864);\n",
       "        \n",
       "    \n",
       "        var popup_92f2290da5f2c98f184b16e8980998c7 = L.popup({&quot;maxWidth&quot;: &quot;100%&quot;});\n",
       "\n",
       "        \n",
       "            var html_57fb8666618f67c41c9d4c40e22f2bf5 = $(`&lt;div id=&quot;html_57fb8666618f67c41c9d4c40e22f2bf5&quot; style=&quot;width: 100.0%; height: 100.0%;&quot;&gt;ROYERSFORD&lt;/div&gt;`)[0];\n",
       "            popup_92f2290da5f2c98f184b16e8980998c7.setContent(html_57fb8666618f67c41c9d4c40e22f2bf5);\n",
       "        \n",
       "\n",
       "        marker_8fbbb6d10f324979ed430103f84af4d6.bindPopup(popup_92f2290da5f2c98f184b16e8980998c7)\n",
       "        ;\n",
       "\n",
       "        \n",
       "    \n",
       "    \n",
       "            var marker_0566abb428b1862019043d6df72d923a = L.marker(\n",
       "                [40.324412304771506, -75.40990870221775],\n",
       "                {&quot;color&quot;: &quot;crimson&quot;, &quot;radius&quot;: 1}\n",
       "            ).addTo(map_5f84cc04dc03d02da1fe5bcad15b269b);\n",
       "        \n",
       "    \n",
       "            var icon_3b9aacc3da6f3cdd1812d1887e729d20 = L.AwesomeMarkers.icon(\n",
       "                {&quot;extraClasses&quot;: &quot;fa-rotate-0&quot;, &quot;icon&quot;: &quot;info-sign&quot;, &quot;iconColor&quot;: &quot;white&quot;, &quot;markerColor&quot;: &quot;red&quot;, &quot;prefix&quot;: &quot;glyphicon&quot;}\n",
       "            );\n",
       "            marker_0566abb428b1862019043d6df72d923a.setIcon(icon_3b9aacc3da6f3cdd1812d1887e729d20);\n",
       "        \n",
       "    \n",
       "        var popup_27499e1a7a8e57a5ee93affac1bef62b = L.popup({&quot;maxWidth&quot;: &quot;100%&quot;});\n",
       "\n",
       "        \n",
       "            var html_8f75c3dc1874584a0d390b11065613be = $(`&lt;div id=&quot;html_8f75c3dc1874584a0d390b11065613be&quot; style=&quot;width: 100.0%; height: 100.0%;&quot;&gt;SALFORD&lt;/div&gt;`)[0];\n",
       "            popup_27499e1a7a8e57a5ee93affac1bef62b.setContent(html_8f75c3dc1874584a0d390b11065613be);\n",
       "        \n",
       "\n",
       "        marker_0566abb428b1862019043d6df72d923a.bindPopup(popup_27499e1a7a8e57a5ee93affac1bef62b)\n",
       "        ;\n",
       "\n",
       "        \n",
       "    \n",
       "    \n",
       "            var marker_f7aa733f9c603b7b43ab314329da8cca = L.marker(\n",
       "                [40.25421352131638, -75.4648347026926],\n",
       "                {&quot;color&quot;: &quot;crimson&quot;, &quot;radius&quot;: 1}\n",
       "            ).addTo(map_5f84cc04dc03d02da1fe5bcad15b269b);\n",
       "        \n",
       "    \n",
       "            var icon_0cdcf6c33fe76eed036e927374b8a54e = L.AwesomeMarkers.icon(\n",
       "                {&quot;extraClasses&quot;: &quot;fa-rotate-0&quot;, &quot;icon&quot;: &quot;info-sign&quot;, &quot;iconColor&quot;: &quot;white&quot;, &quot;markerColor&quot;: &quot;red&quot;, &quot;prefix&quot;: &quot;glyphicon&quot;}\n",
       "            );\n",
       "            marker_f7aa733f9c603b7b43ab314329da8cca.setIcon(icon_0cdcf6c33fe76eed036e927374b8a54e);\n",
       "        \n",
       "    \n",
       "        var popup_e55a5344e7c015ca7402f1e596e545a8 = L.popup({&quot;maxWidth&quot;: &quot;100%&quot;});\n",
       "\n",
       "        \n",
       "            var html_58604afd79552f0138733bcfb36217fb = $(`&lt;div id=&quot;html_58604afd79552f0138733bcfb36217fb&quot; style=&quot;width: 100.0%; height: 100.0%;&quot;&gt;SCHWENKSVILLE&lt;/div&gt;`)[0];\n",
       "            popup_e55a5344e7c015ca7402f1e596e545a8.setContent(html_58604afd79552f0138733bcfb36217fb);\n",
       "        \n",
       "\n",
       "        marker_f7aa733f9c603b7b43ab314329da8cca.bindPopup(popup_e55a5344e7c015ca7402f1e596e545a8)\n",
       "        ;\n",
       "\n",
       "        \n",
       "    \n",
       "    \n",
       "            var marker_5d157a1747ffa3708716b3e0434f5415 = L.marker(\n",
       "                [40.215215239452206, -75.41371528316706],\n",
       "                {&quot;color&quot;: &quot;crimson&quot;, &quot;radius&quot;: 1}\n",
       "            ).addTo(map_5f84cc04dc03d02da1fe5bcad15b269b);\n",
       "        \n",
       "    \n",
       "            var icon_5992f0b2dbdc888f44c61d35de7b2bb6 = L.AwesomeMarkers.icon(\n",
       "                {&quot;extraClasses&quot;: &quot;fa-rotate-0&quot;, &quot;icon&quot;: &quot;info-sign&quot;, &quot;iconColor&quot;: &quot;white&quot;, &quot;markerColor&quot;: &quot;red&quot;, &quot;prefix&quot;: &quot;glyphicon&quot;}\n",
       "            );\n",
       "            marker_5d157a1747ffa3708716b3e0434f5415.setIcon(icon_5992f0b2dbdc888f44c61d35de7b2bb6);\n",
       "        \n",
       "    \n",
       "        var popup_3e19ae9636532a9b5cb42d744e984198 = L.popup({&quot;maxWidth&quot;: &quot;100%&quot;});\n",
       "\n",
       "        \n",
       "            var html_52b9a456d48382b45bb5c9611246ec42 = $(`&lt;div id=&quot;html_52b9a456d48382b45bb5c9611246ec42&quot; style=&quot;width: 100.0%; height: 100.0%;&quot;&gt;SKIPPACK&lt;/div&gt;`)[0];\n",
       "            popup_3e19ae9636532a9b5cb42d744e984198.setContent(html_52b9a456d48382b45bb5c9611246ec42);\n",
       "        \n",
       "\n",
       "        marker_5d157a1747ffa3708716b3e0434f5415.bindPopup(popup_3e19ae9636532a9b5cb42d744e984198)\n",
       "        ;\n",
       "\n",
       "        \n",
       "    \n",
       "    \n",
       "            var marker_45c241c0134fcf5f212fe6d4f4e75b7f = L.marker(\n",
       "                [40.31165526948871, -75.32077560796813],\n",
       "                {&quot;color&quot;: &quot;crimson&quot;, &quot;radius&quot;: 1}\n",
       "            ).addTo(map_5f84cc04dc03d02da1fe5bcad15b269b);\n",
       "        \n",
       "    \n",
       "            var icon_4930e0c9b06875720e904a4d96cddc8b = L.AwesomeMarkers.icon(\n",
       "                {&quot;extraClasses&quot;: &quot;fa-rotate-0&quot;, &quot;icon&quot;: &quot;info-sign&quot;, &quot;iconColor&quot;: &quot;white&quot;, &quot;markerColor&quot;: &quot;red&quot;, &quot;prefix&quot;: &quot;glyphicon&quot;}\n",
       "            );\n",
       "            marker_45c241c0134fcf5f212fe6d4f4e75b7f.setIcon(icon_4930e0c9b06875720e904a4d96cddc8b);\n",
       "        \n",
       "    \n",
       "        var popup_e3618e443d5445a9bd34627b2d457a04 = L.popup({&quot;maxWidth&quot;: &quot;100%&quot;});\n",
       "\n",
       "        \n",
       "            var html_8fba5b2ffc8c7e7506c3ea864a2dab60 = $(`&lt;div id=&quot;html_8fba5b2ffc8c7e7506c3ea864a2dab60&quot; style=&quot;width: 100.0%; height: 100.0%;&quot;&gt;SOUDERTON&lt;/div&gt;`)[0];\n",
       "            popup_e3618e443d5445a9bd34627b2d457a04.setContent(html_8fba5b2ffc8c7e7506c3ea864a2dab60);\n",
       "        \n",
       "\n",
       "        marker_45c241c0134fcf5f212fe6d4f4e75b7f.bindPopup(popup_e3618e443d5445a9bd34627b2d457a04)\n",
       "        ;\n",
       "\n",
       "        \n",
       "    \n",
       "    \n",
       "            var marker_8e3bdfd863a5a2eb3921958ac166b863 = L.marker(\n",
       "                [40.09593112251677, -75.2041261371001],\n",
       "                {&quot;color&quot;: &quot;crimson&quot;, &quot;radius&quot;: 1}\n",
       "            ).addTo(map_5f84cc04dc03d02da1fe5bcad15b269b);\n",
       "        \n",
       "    \n",
       "            var icon_b68cbd0f5b1c21a63c64d5276d7c5aa9 = L.AwesomeMarkers.icon(\n",
       "                {&quot;extraClasses&quot;: &quot;fa-rotate-0&quot;, &quot;icon&quot;: &quot;info-sign&quot;, &quot;iconColor&quot;: &quot;white&quot;, &quot;markerColor&quot;: &quot;red&quot;, &quot;prefix&quot;: &quot;glyphicon&quot;}\n",
       "            );\n",
       "            marker_8e3bdfd863a5a2eb3921958ac166b863.setIcon(icon_b68cbd0f5b1c21a63c64d5276d7c5aa9);\n",
       "        \n",
       "    \n",
       "        var popup_8ffbb3b67dff5ae1185b3eccbbf6ed11 = L.popup({&quot;maxWidth&quot;: &quot;100%&quot;});\n",
       "\n",
       "        \n",
       "            var html_532653568de2f5055a06de9533a304da = $(`&lt;div id=&quot;html_532653568de2f5055a06de9533a304da&quot; style=&quot;width: 100.0%; height: 100.0%;&quot;&gt;SPRINGFIELD&lt;/div&gt;`)[0];\n",
       "            popup_8ffbb3b67dff5ae1185b3eccbbf6ed11.setContent(html_532653568de2f5055a06de9533a304da);\n",
       "        \n",
       "\n",
       "        marker_8e3bdfd863a5a2eb3921958ac166b863.bindPopup(popup_8ffbb3b67dff5ae1185b3eccbbf6ed11)\n",
       "        ;\n",
       "\n",
       "        \n",
       "    \n",
       "    \n",
       "            var marker_34412a0eefdc9f2ba748613edd3963dd = L.marker(\n",
       "                [40.322231942180096, -75.3266995876481],\n",
       "                {&quot;color&quot;: &quot;crimson&quot;, &quot;radius&quot;: 1}\n",
       "            ).addTo(map_5f84cc04dc03d02da1fe5bcad15b269b);\n",
       "        \n",
       "    \n",
       "            var icon_5179cb32dca879bafe0e56ae5ff9eeb8 = L.AwesomeMarkers.icon(\n",
       "                {&quot;extraClasses&quot;: &quot;fa-rotate-0&quot;, &quot;icon&quot;: &quot;info-sign&quot;, &quot;iconColor&quot;: &quot;white&quot;, &quot;markerColor&quot;: &quot;red&quot;, &quot;prefix&quot;: &quot;glyphicon&quot;}\n",
       "            );\n",
       "            marker_34412a0eefdc9f2ba748613edd3963dd.setIcon(icon_5179cb32dca879bafe0e56ae5ff9eeb8);\n",
       "        \n",
       "    \n",
       "        var popup_b8520c9c83554b80f69836a26165a911 = L.popup({&quot;maxWidth&quot;: &quot;100%&quot;});\n",
       "\n",
       "        \n",
       "            var html_ee51669a41719a9bc1c293d4df70cc68 = $(`&lt;div id=&quot;html_ee51669a41719a9bc1c293d4df70cc68&quot; style=&quot;width: 100.0%; height: 100.0%;&quot;&gt;TELFORD&lt;/div&gt;`)[0];\n",
       "            popup_b8520c9c83554b80f69836a26165a911.setContent(html_ee51669a41719a9bc1c293d4df70cc68);\n",
       "        \n",
       "\n",
       "        marker_34412a0eefdc9f2ba748613edd3963dd.bindPopup(popup_b8520c9c83554b80f69836a26165a911)\n",
       "        ;\n",
       "\n",
       "        \n",
       "    \n",
       "    \n",
       "            var marker_a4252d2e0977306b2d02370475ab496a = L.marker(\n",
       "                [40.24875979243447, -75.32679467771543],\n",
       "                {&quot;color&quot;: &quot;crimson&quot;, &quot;radius&quot;: 1}\n",
       "            ).addTo(map_5f84cc04dc03d02da1fe5bcad15b269b);\n",
       "        \n",
       "    \n",
       "            var icon_daf49823cc5c4fa6decc7bee78c68c18 = L.AwesomeMarkers.icon(\n",
       "                {&quot;extraClasses&quot;: &quot;fa-rotate-0&quot;, &quot;icon&quot;: &quot;info-sign&quot;, &quot;iconColor&quot;: &quot;white&quot;, &quot;markerColor&quot;: &quot;red&quot;, &quot;prefix&quot;: &quot;glyphicon&quot;}\n",
       "            );\n",
       "            marker_a4252d2e0977306b2d02370475ab496a.setIcon(icon_daf49823cc5c4fa6decc7bee78c68c18);\n",
       "        \n",
       "    \n",
       "        var popup_67769500c84d550f1faac4ab1dfd81fc = L.popup({&quot;maxWidth&quot;: &quot;100%&quot;});\n",
       "\n",
       "        \n",
       "            var html_7b3e730f5c1ec0faa00263e6116188d2 = $(`&lt;div id=&quot;html_7b3e730f5c1ec0faa00263e6116188d2&quot; style=&quot;width: 100.0%; height: 100.0%;&quot;&gt;TOWAMENCIN&lt;/div&gt;`)[0];\n",
       "            popup_67769500c84d550f1faac4ab1dfd81fc.setContent(html_7b3e730f5c1ec0faa00263e6116188d2);\n",
       "        \n",
       "\n",
       "        marker_a4252d2e0977306b2d02370475ab496a.bindPopup(popup_67769500c84d550f1faac4ab1dfd81fc)\n",
       "        ;\n",
       "\n",
       "        \n",
       "    \n",
       "    \n",
       "            var marker_712d8f7e5810b2200be530f9d67bc13e = L.marker(\n",
       "                [40.19694652908986, -75.47433500478111],\n",
       "                {&quot;color&quot;: &quot;crimson&quot;, &quot;radius&quot;: 1}\n",
       "            ).addTo(map_5f84cc04dc03d02da1fe5bcad15b269b);\n",
       "        \n",
       "    \n",
       "            var icon_497c83de7eb3d8891620a09f14a21991 = L.AwesomeMarkers.icon(\n",
       "                {&quot;extraClasses&quot;: &quot;fa-rotate-0&quot;, &quot;icon&quot;: &quot;info-sign&quot;, &quot;iconColor&quot;: &quot;white&quot;, &quot;markerColor&quot;: &quot;red&quot;, &quot;prefix&quot;: &quot;glyphicon&quot;}\n",
       "            );\n",
       "            marker_712d8f7e5810b2200be530f9d67bc13e.setIcon(icon_497c83de7eb3d8891620a09f14a21991);\n",
       "        \n",
       "    \n",
       "        var popup_3cc61df23c466af9cdfa2d2a38d2c574 = L.popup({&quot;maxWidth&quot;: &quot;100%&quot;});\n",
       "\n",
       "        \n",
       "            var html_511cc8db5be297e6699d132a7d3cafa7 = $(`&lt;div id=&quot;html_511cc8db5be297e6699d132a7d3cafa7&quot; style=&quot;width: 100.0%; height: 100.0%;&quot;&gt;TRAPPE&lt;/div&gt;`)[0];\n",
       "            popup_3cc61df23c466af9cdfa2d2a38d2c574.setContent(html_511cc8db5be297e6699d132a7d3cafa7);\n",
       "        \n",
       "\n",
       "        marker_712d8f7e5810b2200be530f9d67bc13e.bindPopup(popup_3cc61df23c466af9cdfa2d2a38d2c574)\n",
       "        ;\n",
       "\n",
       "        \n",
       "    \n",
       "    \n",
       "            var marker_01e2acb8b470a24758d9e9312ea25003 = L.marker(\n",
       "                [40.14548036311102, -75.1517971404411],\n",
       "                {&quot;color&quot;: &quot;crimson&quot;, &quot;radius&quot;: 1}\n",
       "            ).addTo(map_5f84cc04dc03d02da1fe5bcad15b269b);\n",
       "        \n",
       "    \n",
       "            var icon_d15b79ccc4404d87534688cf3a2226bb = L.AwesomeMarkers.icon(\n",
       "                {&quot;extraClasses&quot;: &quot;fa-rotate-0&quot;, &quot;icon&quot;: &quot;info-sign&quot;, &quot;iconColor&quot;: &quot;white&quot;, &quot;markerColor&quot;: &quot;red&quot;, &quot;prefix&quot;: &quot;glyphicon&quot;}\n",
       "            );\n",
       "            marker_01e2acb8b470a24758d9e9312ea25003.setIcon(icon_d15b79ccc4404d87534688cf3a2226bb);\n",
       "        \n",
       "    \n",
       "        var popup_5d6121ccd362aa72cc3437f625b7a57f = L.popup({&quot;maxWidth&quot;: &quot;100%&quot;});\n",
       "\n",
       "        \n",
       "            var html_6fc632414bb56afec5139a8465464734 = $(`&lt;div id=&quot;html_6fc632414bb56afec5139a8465464734&quot; style=&quot;width: 100.0%; height: 100.0%;&quot;&gt;UPPER DUBLIN&lt;/div&gt;`)[0];\n",
       "            popup_5d6121ccd362aa72cc3437f625b7a57f.setContent(html_6fc632414bb56afec5139a8465464734);\n",
       "        \n",
       "\n",
       "        marker_01e2acb8b470a24758d9e9312ea25003.bindPopup(popup_5d6121ccd362aa72cc3437f625b7a57f)\n",
       "        ;\n",
       "\n",
       "        \n",
       "    \n",
       "    \n",
       "            var marker_2833a3bfa27de432963178f2775ef1f2 = L.marker(\n",
       "                [40.302698010012726, -75.5163697381417],\n",
       "                {&quot;color&quot;: &quot;crimson&quot;, &quot;radius&quot;: 1}\n",
       "            ).addTo(map_5f84cc04dc03d02da1fe5bcad15b269b);\n",
       "        \n",
       "    \n",
       "            var icon_1e9751fdda4f281d3d5a77523d7ca688 = L.AwesomeMarkers.icon(\n",
       "                {&quot;extraClasses&quot;: &quot;fa-rotate-0&quot;, &quot;icon&quot;: &quot;info-sign&quot;, &quot;iconColor&quot;: &quot;white&quot;, &quot;markerColor&quot;: &quot;red&quot;, &quot;prefix&quot;: &quot;glyphicon&quot;}\n",
       "            );\n",
       "            marker_2833a3bfa27de432963178f2775ef1f2.setIcon(icon_1e9751fdda4f281d3d5a77523d7ca688);\n",
       "        \n",
       "    \n",
       "        var popup_dab056b8fa57a4a4a4736ce1961ddd0e = L.popup({&quot;maxWidth&quot;: &quot;100%&quot;});\n",
       "\n",
       "        \n",
       "            var html_11b36629623dc71582fdad7684d31971 = $(`&lt;div id=&quot;html_11b36629623dc71582fdad7684d31971&quot; style=&quot;width: 100.0%; height: 100.0%;&quot;&gt;UPPER FREDERICK&lt;/div&gt;`)[0];\n",
       "            popup_dab056b8fa57a4a4a4736ce1961ddd0e.setContent(html_11b36629623dc71582fdad7684d31971);\n",
       "        \n",
       "\n",
       "        marker_2833a3bfa27de432963178f2775ef1f2.bindPopup(popup_dab056b8fa57a4a4a4736ce1961ddd0e)\n",
       "        ;\n",
       "\n",
       "        \n",
       "    \n",
       "    \n",
       "            var marker_adac167651fce6625e268af8bc72d44f = L.marker(\n",
       "                [40.21987611081264, -75.2917177773702],\n",
       "                {&quot;color&quot;: &quot;crimson&quot;, &quot;radius&quot;: 1}\n",
       "            ).addTo(map_5f84cc04dc03d02da1fe5bcad15b269b);\n",
       "        \n",
       "    \n",
       "            var icon_a1d7801de4adc815cfa7ec6111578284 = L.AwesomeMarkers.icon(\n",
       "                {&quot;extraClasses&quot;: &quot;fa-rotate-0&quot;, &quot;icon&quot;: &quot;info-sign&quot;, &quot;iconColor&quot;: &quot;white&quot;, &quot;markerColor&quot;: &quot;red&quot;, &quot;prefix&quot;: &quot;glyphicon&quot;}\n",
       "            );\n",
       "            marker_adac167651fce6625e268af8bc72d44f.setIcon(icon_a1d7801de4adc815cfa7ec6111578284);\n",
       "        \n",
       "    \n",
       "        var popup_3e07ebbaf0de3506aa492842f4f9e7c0 = L.popup({&quot;maxWidth&quot;: &quot;100%&quot;});\n",
       "\n",
       "        \n",
       "            var html_f0ed131fa7b1015aa7f8b663274f15b9 = $(`&lt;div id=&quot;html_f0ed131fa7b1015aa7f8b663274f15b9&quot; style=&quot;width: 100.0%; height: 100.0%;&quot;&gt;UPPER GWYNEDD&lt;/div&gt;`)[0];\n",
       "            popup_3e07ebbaf0de3506aa492842f4f9e7c0.setContent(html_f0ed131fa7b1015aa7f8b663274f15b9);\n",
       "        \n",
       "\n",
       "        marker_adac167651fce6625e268af8bc72d44f.bindPopup(popup_3e07ebbaf0de3506aa492842f4f9e7c0)\n",
       "        ;\n",
       "\n",
       "        \n",
       "    \n",
       "    \n",
       "            var marker_2860460b33b0d495719d418799d09c2f = L.marker(\n",
       "                [40.39692058197525, -75.50317125330066],\n",
       "                {&quot;color&quot;: &quot;crimson&quot;, &quot;radius&quot;: 1}\n",
       "            ).addTo(map_5f84cc04dc03d02da1fe5bcad15b269b);\n",
       "        \n",
       "    \n",
       "            var icon_a217bfc24d13e53ef857ec230fc4cfdf = L.AwesomeMarkers.icon(\n",
       "                {&quot;extraClasses&quot;: &quot;fa-rotate-0&quot;, &quot;icon&quot;: &quot;info-sign&quot;, &quot;iconColor&quot;: &quot;white&quot;, &quot;markerColor&quot;: &quot;red&quot;, &quot;prefix&quot;: &quot;glyphicon&quot;}\n",
       "            );\n",
       "            marker_2860460b33b0d495719d418799d09c2f.setIcon(icon_a217bfc24d13e53ef857ec230fc4cfdf);\n",
       "        \n",
       "    \n",
       "        var popup_93e7a9013afd5b178b01bb1192b1e9d7 = L.popup({&quot;maxWidth&quot;: &quot;100%&quot;});\n",
       "\n",
       "        \n",
       "            var html_90304501617e0df84d7ed141fe3bc371 = $(`&lt;div id=&quot;html_90304501617e0df84d7ed141fe3bc371&quot; style=&quot;width: 100.0%; height: 100.0%;&quot;&gt;UPPER HANOVER&lt;/div&gt;`)[0];\n",
       "            popup_93e7a9013afd5b178b01bb1192b1e9d7.setContent(html_90304501617e0df84d7ed141fe3bc371);\n",
       "        \n",
       "\n",
       "        marker_2860460b33b0d495719d418799d09c2f.bindPopup(popup_93e7a9013afd5b178b01bb1192b1e9d7)\n",
       "        ;\n",
       "\n",
       "        \n",
       "    \n",
       "    \n",
       "            var marker_0424cf6c419a309a4e106c268316ec4e = L.marker(\n",
       "                [40.06378406590947, -75.1076655829936],\n",
       "                {&quot;color&quot;: &quot;crimson&quot;, &quot;radius&quot;: 1}\n",
       "            ).addTo(map_5f84cc04dc03d02da1fe5bcad15b269b);\n",
       "        \n",
       "    \n",
       "            var icon_7820666b646e4cf5880a990faa209951 = L.AwesomeMarkers.icon(\n",
       "                {&quot;extraClasses&quot;: &quot;fa-rotate-0&quot;, &quot;icon&quot;: &quot;info-sign&quot;, &quot;iconColor&quot;: &quot;white&quot;, &quot;markerColor&quot;: &quot;red&quot;, &quot;prefix&quot;: &quot;glyphicon&quot;}\n",
       "            );\n",
       "            marker_0424cf6c419a309a4e106c268316ec4e.setIcon(icon_7820666b646e4cf5880a990faa209951);\n",
       "        \n",
       "    \n",
       "        var popup_3afed0e8a5ebd1230e2cacfca5a30a28 = L.popup({&quot;maxWidth&quot;: &quot;100%&quot;});\n",
       "\n",
       "        \n",
       "            var html_581c8ef87fedb9ebc6bf11e5845daead = $(`&lt;div id=&quot;html_581c8ef87fedb9ebc6bf11e5845daead&quot; style=&quot;width: 100.0%; height: 100.0%;&quot;&gt;UPPER MERION&lt;/div&gt;`)[0];\n",
       "            popup_3afed0e8a5ebd1230e2cacfca5a30a28.setContent(html_581c8ef87fedb9ebc6bf11e5845daead);\n",
       "        \n",
       "\n",
       "        marker_0424cf6c419a309a4e106c268316ec4e.bindPopup(popup_3afed0e8a5ebd1230e2cacfca5a30a28)\n",
       "        ;\n",
       "\n",
       "        \n",
       "    \n",
       "    \n",
       "            var marker_3b94f78a076fd6f55c8506126487a869 = L.marker(\n",
       "                [40.15833846279435, -75.11433143460667],\n",
       "                {&quot;color&quot;: &quot;crimson&quot;, &quot;radius&quot;: 1}\n",
       "            ).addTo(map_5f84cc04dc03d02da1fe5bcad15b269b);\n",
       "        \n",
       "    \n",
       "            var icon_3c0ca0fd743349b36d6342120b6db56b = L.AwesomeMarkers.icon(\n",
       "                {&quot;extraClasses&quot;: &quot;fa-rotate-0&quot;, &quot;icon&quot;: &quot;info-sign&quot;, &quot;iconColor&quot;: &quot;white&quot;, &quot;markerColor&quot;: &quot;red&quot;, &quot;prefix&quot;: &quot;glyphicon&quot;}\n",
       "            );\n",
       "            marker_3b94f78a076fd6f55c8506126487a869.setIcon(icon_3c0ca0fd743349b36d6342120b6db56b);\n",
       "        \n",
       "    \n",
       "        var popup_27d231445688985b79eff6d7acd04a1e = L.popup({&quot;maxWidth&quot;: &quot;100%&quot;});\n",
       "\n",
       "        \n",
       "            var html_5d06d139942f80acb5477d95ccc8b079 = $(`&lt;div id=&quot;html_5d06d139942f80acb5477d95ccc8b079&quot; style=&quot;width: 100.0%; height: 100.0%;&quot;&gt;UPPER MORELAND&lt;/div&gt;`)[0];\n",
       "            popup_27d231445688985b79eff6d7acd04a1e.setContent(html_5d06d139942f80acb5477d95ccc8b079);\n",
       "        \n",
       "\n",
       "        marker_3b94f78a076fd6f55c8506126487a869.bindPopup(popup_27d231445688985b79eff6d7acd04a1e)\n",
       "        ;\n",
       "\n",
       "        \n",
       "    \n",
       "    \n",
       "            var marker_a77f614774c906c8369f5edd697744b4 = L.marker(\n",
       "                [40.27864328318808, -75.63767054686534],\n",
       "                {&quot;color&quot;: &quot;crimson&quot;, &quot;radius&quot;: 1}\n",
       "            ).addTo(map_5f84cc04dc03d02da1fe5bcad15b269b);\n",
       "        \n",
       "    \n",
       "            var icon_417d5825811e1280ce0f5f61458d5a40 = L.AwesomeMarkers.icon(\n",
       "                {&quot;extraClasses&quot;: &quot;fa-rotate-0&quot;, &quot;icon&quot;: &quot;info-sign&quot;, &quot;iconColor&quot;: &quot;white&quot;, &quot;markerColor&quot;: &quot;red&quot;, &quot;prefix&quot;: &quot;glyphicon&quot;}\n",
       "            );\n",
       "            marker_a77f614774c906c8369f5edd697744b4.setIcon(icon_417d5825811e1280ce0f5f61458d5a40);\n",
       "        \n",
       "    \n",
       "        var popup_e7db853b861463cee833b6996c2b72e5 = L.popup({&quot;maxWidth&quot;: &quot;100%&quot;});\n",
       "\n",
       "        \n",
       "            var html_3e0e7ea10deb278e9e870c738aebf94f = $(`&lt;div id=&quot;html_3e0e7ea10deb278e9e870c738aebf94f&quot; style=&quot;width: 100.0%; height: 100.0%;&quot;&gt;UPPER POTTSGROVE&lt;/div&gt;`)[0];\n",
       "            popup_e7db853b861463cee833b6996c2b72e5.setContent(html_3e0e7ea10deb278e9e870c738aebf94f);\n",
       "        \n",
       "\n",
       "        marker_a77f614774c906c8369f5edd697744b4.bindPopup(popup_e7db853b861463cee833b6996c2b72e5)\n",
       "        ;\n",
       "\n",
       "        \n",
       "    \n",
       "    \n",
       "            var marker_cd605ec6a578d2839dfb3b94fcb6be2c = L.marker(\n",
       "                [40.15696014622255, -75.45332885953977],\n",
       "                {&quot;color&quot;: &quot;crimson&quot;, &quot;radius&quot;: 1}\n",
       "            ).addTo(map_5f84cc04dc03d02da1fe5bcad15b269b);\n",
       "        \n",
       "    \n",
       "            var icon_4ee7f926091471e895966b1a5c4984b6 = L.AwesomeMarkers.icon(\n",
       "                {&quot;extraClasses&quot;: &quot;fa-rotate-0&quot;, &quot;icon&quot;: &quot;info-sign&quot;, &quot;iconColor&quot;: &quot;white&quot;, &quot;markerColor&quot;: &quot;red&quot;, &quot;prefix&quot;: &quot;glyphicon&quot;}\n",
       "            );\n",
       "            marker_cd605ec6a578d2839dfb3b94fcb6be2c.setIcon(icon_4ee7f926091471e895966b1a5c4984b6);\n",
       "        \n",
       "    \n",
       "        var popup_2158451ff5ba0a99232b695c8858529f = L.popup({&quot;maxWidth&quot;: &quot;100%&quot;});\n",
       "\n",
       "        \n",
       "            var html_860918e7149da0bad0936dc4262cc5b6 = $(`&lt;div id=&quot;html_860918e7149da0bad0936dc4262cc5b6&quot; style=&quot;width: 100.0%; height: 100.0%;&quot;&gt;UPPER PROVIDENCE&lt;/div&gt;`)[0];\n",
       "            popup_2158451ff5ba0a99232b695c8858529f.setContent(html_860918e7149da0bad0936dc4262cc5b6);\n",
       "        \n",
       "\n",
       "        marker_cd605ec6a578d2839dfb3b94fcb6be2c.bindPopup(popup_2158451ff5ba0a99232b695c8858529f)\n",
       "        ;\n",
       "\n",
       "        \n",
       "    \n",
       "    \n",
       "            var marker_4022e58b34e8710497cce697cbcdba8c = L.marker(\n",
       "                [40.296762037323575, -75.43787726424465],\n",
       "                {&quot;color&quot;: &quot;crimson&quot;, &quot;radius&quot;: 1}\n",
       "            ).addTo(map_5f84cc04dc03d02da1fe5bcad15b269b);\n",
       "        \n",
       "    \n",
       "            var icon_7bf602b6eb55d3f74380cc5f55ea1dcc = L.AwesomeMarkers.icon(\n",
       "                {&quot;extraClasses&quot;: &quot;fa-rotate-0&quot;, &quot;icon&quot;: &quot;info-sign&quot;, &quot;iconColor&quot;: &quot;white&quot;, &quot;markerColor&quot;: &quot;red&quot;, &quot;prefix&quot;: &quot;glyphicon&quot;}\n",
       "            );\n",
       "            marker_4022e58b34e8710497cce697cbcdba8c.setIcon(icon_7bf602b6eb55d3f74380cc5f55ea1dcc);\n",
       "        \n",
       "    \n",
       "        var popup_53754e665c01db684714ba0c589f5ce9 = L.popup({&quot;maxWidth&quot;: &quot;100%&quot;});\n",
       "\n",
       "        \n",
       "            var html_e8a2e2039af9d4bdc57d2ba75f71f0e9 = $(`&lt;div id=&quot;html_e8a2e2039af9d4bdc57d2ba75f71f0e9&quot; style=&quot;width: 100.0%; height: 100.0%;&quot;&gt;UPPER SALFORD&lt;/div&gt;`)[0];\n",
       "            popup_53754e665c01db684714ba0c589f5ce9.setContent(html_e8a2e2039af9d4bdc57d2ba75f71f0e9);\n",
       "        \n",
       "\n",
       "        marker_4022e58b34e8710497cce697cbcdba8c.bindPopup(popup_53754e665c01db684714ba0c589f5ce9)\n",
       "        ;\n",
       "\n",
       "        \n",
       "    \n",
       "    \n",
       "            var marker_e84957f6135709a510e8a454e371426b = L.marker(\n",
       "                [40.07074164873466, -75.31431062933282],\n",
       "                {&quot;color&quot;: &quot;crimson&quot;, &quot;radius&quot;: 1}\n",
       "            ).addTo(map_5f84cc04dc03d02da1fe5bcad15b269b);\n",
       "        \n",
       "    \n",
       "            var icon_8bb07dfd93da965d57df8ed8d4326b13 = L.AwesomeMarkers.icon(\n",
       "                {&quot;extraClasses&quot;: &quot;fa-rotate-0&quot;, &quot;icon&quot;: &quot;info-sign&quot;, &quot;iconColor&quot;: &quot;white&quot;, &quot;markerColor&quot;: &quot;red&quot;, &quot;prefix&quot;: &quot;glyphicon&quot;}\n",
       "            );\n",
       "            marker_e84957f6135709a510e8a454e371426b.setIcon(icon_8bb07dfd93da965d57df8ed8d4326b13);\n",
       "        \n",
       "    \n",
       "        var popup_56c672986960235eece6d05ccc9838f8 = L.popup({&quot;maxWidth&quot;: &quot;100%&quot;});\n",
       "\n",
       "        \n",
       "            var html_515b8d1b97786cc125a5d15b2d50f23b = $(`&lt;div id=&quot;html_515b8d1b97786cc125a5d15b2d50f23b&quot; style=&quot;width: 100.0%; height: 100.0%;&quot;&gt;WEST CONSHOHOCKEN&lt;/div&gt;`)[0];\n",
       "            popup_56c672986960235eece6d05ccc9838f8.setContent(html_515b8d1b97786cc125a5d15b2d50f23b);\n",
       "        \n",
       "\n",
       "        marker_e84957f6135709a510e8a454e371426b.bindPopup(popup_56c672986960235eece6d05ccc9838f8)\n",
       "        ;\n",
       "\n",
       "        \n",
       "    \n",
       "    \n",
       "            var marker_1808953a7163b003300f9da8334a106a = L.marker(\n",
       "                [40.13106864539197, -75.37765988426744],\n",
       "                {&quot;color&quot;: &quot;crimson&quot;, &quot;radius&quot;: 1}\n",
       "            ).addTo(map_5f84cc04dc03d02da1fe5bcad15b269b);\n",
       "        \n",
       "    \n",
       "            var icon_e10ccf22c0749928a6f7c8f89ad4d5a3 = L.AwesomeMarkers.icon(\n",
       "                {&quot;extraClasses&quot;: &quot;fa-rotate-0&quot;, &quot;icon&quot;: &quot;info-sign&quot;, &quot;iconColor&quot;: &quot;white&quot;, &quot;markerColor&quot;: &quot;red&quot;, &quot;prefix&quot;: &quot;glyphicon&quot;}\n",
       "            );\n",
       "            marker_1808953a7163b003300f9da8334a106a.setIcon(icon_e10ccf22c0749928a6f7c8f89ad4d5a3);\n",
       "        \n",
       "    \n",
       "        var popup_2c92d9e4c1ff57410f3e45b95ca24275 = L.popup({&quot;maxWidth&quot;: &quot;100%&quot;});\n",
       "\n",
       "        \n",
       "            var html_807931683939022e35a90b10445f719c = $(`&lt;div id=&quot;html_807931683939022e35a90b10445f719c&quot; style=&quot;width: 100.0%; height: 100.0%;&quot;&gt;WEST NORRITON&lt;/div&gt;`)[0];\n",
       "            popup_2c92d9e4c1ff57410f3e45b95ca24275.setContent(html_807931683939022e35a90b10445f719c);\n",
       "        \n",
       "\n",
       "        marker_1808953a7163b003300f9da8334a106a.bindPopup(popup_2c92d9e4c1ff57410f3e45b95ca24275)\n",
       "        ;\n",
       "\n",
       "        \n",
       "    \n",
       "    \n",
       "            var marker_9c4357cd039f6e9860be8f17a07e712c = L.marker(\n",
       "                [40.25581694882372, -75.67663004131487],\n",
       "                {&quot;color&quot;: &quot;crimson&quot;, &quot;radius&quot;: 1}\n",
       "            ).addTo(map_5f84cc04dc03d02da1fe5bcad15b269b);\n",
       "        \n",
       "    \n",
       "            var icon_d12a11660b887912f5e320be5aa13e69 = L.AwesomeMarkers.icon(\n",
       "                {&quot;extraClasses&quot;: &quot;fa-rotate-0&quot;, &quot;icon&quot;: &quot;info-sign&quot;, &quot;iconColor&quot;: &quot;white&quot;, &quot;markerColor&quot;: &quot;red&quot;, &quot;prefix&quot;: &quot;glyphicon&quot;}\n",
       "            );\n",
       "            marker_9c4357cd039f6e9860be8f17a07e712c.setIcon(icon_d12a11660b887912f5e320be5aa13e69);\n",
       "        \n",
       "    \n",
       "        var popup_9af2de6feedb923590625f00faae4b0b = L.popup({&quot;maxWidth&quot;: &quot;100%&quot;});\n",
       "\n",
       "        \n",
       "            var html_46f2f7153b4cc0f9f87ba29f4f59da99 = $(`&lt;div id=&quot;html_46f2f7153b4cc0f9f87ba29f4f59da99&quot; style=&quot;width: 100.0%; height: 100.0%;&quot;&gt;WEST POTTSGROVE&lt;/div&gt;`)[0];\n",
       "            popup_9af2de6feedb923590625f00faae4b0b.setContent(html_46f2f7153b4cc0f9f87ba29f4f59da99);\n",
       "        \n",
       "\n",
       "        marker_9c4357cd039f6e9860be8f17a07e712c.bindPopup(popup_9af2de6feedb923590625f00faae4b0b)\n",
       "        ;\n",
       "\n",
       "        \n",
       "    \n",
       "    \n",
       "            var marker_d36b6fa205f47207445a0cdcb9f486b4 = L.marker(\n",
       "                [40.13118605219668, -75.22688639586009],\n",
       "                {&quot;color&quot;: &quot;crimson&quot;, &quot;radius&quot;: 1}\n",
       "            ).addTo(map_5f84cc04dc03d02da1fe5bcad15b269b);\n",
       "        \n",
       "    \n",
       "            var icon_cd4247bd31c048fb20db4b7fc03cdead = L.AwesomeMarkers.icon(\n",
       "                {&quot;extraClasses&quot;: &quot;fa-rotate-0&quot;, &quot;icon&quot;: &quot;info-sign&quot;, &quot;iconColor&quot;: &quot;white&quot;, &quot;markerColor&quot;: &quot;red&quot;, &quot;prefix&quot;: &quot;glyphicon&quot;}\n",
       "            );\n",
       "            marker_d36b6fa205f47207445a0cdcb9f486b4.setIcon(icon_cd4247bd31c048fb20db4b7fc03cdead);\n",
       "        \n",
       "    \n",
       "        var popup_359860ef2200b4fc85c2c0d194223803 = L.popup({&quot;maxWidth&quot;: &quot;100%&quot;});\n",
       "\n",
       "        \n",
       "            var html_f35493f1a7c6eb4cc5328b7ffc118256 = $(`&lt;div id=&quot;html_f35493f1a7c6eb4cc5328b7ffc118256&quot; style=&quot;width: 100.0%; height: 100.0%;&quot;&gt;WHITEMARSH&lt;/div&gt;`)[0];\n",
       "            popup_359860ef2200b4fc85c2c0d194223803.setContent(html_f35493f1a7c6eb4cc5328b7ffc118256);\n",
       "        \n",
       "\n",
       "        marker_d36b6fa205f47207445a0cdcb9f486b4.bindPopup(popup_359860ef2200b4fc85c2c0d194223803)\n",
       "        ;\n",
       "\n",
       "        \n",
       "    \n",
       "    \n",
       "            var marker_96b1a64f6bbb85cab93366e5806ac512 = L.marker(\n",
       "                [40.16105054946587, -75.28746861435461],\n",
       "                {&quot;color&quot;: &quot;crimson&quot;, &quot;radius&quot;: 1}\n",
       "            ).addTo(map_5f84cc04dc03d02da1fe5bcad15b269b);\n",
       "        \n",
       "    \n",
       "            var icon_f6ca1f9c9b39897cab46d06e1e138da4 = L.AwesomeMarkers.icon(\n",
       "                {&quot;extraClasses&quot;: &quot;fa-rotate-0&quot;, &quot;icon&quot;: &quot;info-sign&quot;, &quot;iconColor&quot;: &quot;white&quot;, &quot;markerColor&quot;: &quot;red&quot;, &quot;prefix&quot;: &quot;glyphicon&quot;}\n",
       "            );\n",
       "            marker_96b1a64f6bbb85cab93366e5806ac512.setIcon(icon_f6ca1f9c9b39897cab46d06e1e138da4);\n",
       "        \n",
       "    \n",
       "        var popup_943b024856c834fffd9c127f9cbe383d = L.popup({&quot;maxWidth&quot;: &quot;100%&quot;});\n",
       "\n",
       "        \n",
       "            var html_23edaa57ee0d49f266c119d23fe4f41d = $(`&lt;div id=&quot;html_23edaa57ee0d49f266c119d23fe4f41d&quot; style=&quot;width: 100.0%; height: 100.0%;&quot;&gt;WHITPAIN&lt;/div&gt;`)[0];\n",
       "            popup_943b024856c834fffd9c127f9cbe383d.setContent(html_23edaa57ee0d49f266c119d23fe4f41d);\n",
       "        \n",
       "\n",
       "        marker_96b1a64f6bbb85cab93366e5806ac512.bindPopup(popup_943b024856c834fffd9c127f9cbe383d)\n",
       "        ;\n",
       "\n",
       "        \n",
       "    \n",
       "    \n",
       "            var marker_d449eb0ccfb7b91287f23851e8350ec4 = L.marker(\n",
       "                [40.19062449461653, -75.35120040457181],\n",
       "                {&quot;color&quot;: &quot;crimson&quot;, &quot;radius&quot;: 1}\n",
       "            ).addTo(map_5f84cc04dc03d02da1fe5bcad15b269b);\n",
       "        \n",
       "    \n",
       "            var icon_daebceb5a1385c7026aceaa6ed7d5fe4 = L.AwesomeMarkers.icon(\n",
       "                {&quot;extraClasses&quot;: &quot;fa-rotate-0&quot;, &quot;icon&quot;: &quot;info-sign&quot;, &quot;iconColor&quot;: &quot;white&quot;, &quot;markerColor&quot;: &quot;red&quot;, &quot;prefix&quot;: &quot;glyphicon&quot;}\n",
       "            );\n",
       "            marker_d449eb0ccfb7b91287f23851e8350ec4.setIcon(icon_daebceb5a1385c7026aceaa6ed7d5fe4);\n",
       "        \n",
       "    \n",
       "        var popup_234ed12594f5c38f225513c992a9b117 = L.popup({&quot;maxWidth&quot;: &quot;100%&quot;});\n",
       "\n",
       "        \n",
       "            var html_ce6803de21683edde0af6afb66b19185 = $(`&lt;div id=&quot;html_ce6803de21683edde0af6afb66b19185&quot; style=&quot;width: 100.0%; height: 100.0%;&quot;&gt;WORCESTER&lt;/div&gt;`)[0];\n",
       "            popup_234ed12594f5c38f225513c992a9b117.setContent(html_ce6803de21683edde0af6afb66b19185);\n",
       "        \n",
       "\n",
       "        marker_d449eb0ccfb7b91287f23851e8350ec4.bindPopup(popup_234ed12594f5c38f225513c992a9b117)\n",
       "        ;\n",
       "\n",
       "        \n",
       "    \n",
       "&lt;/script&gt;\" style=\"position:absolute;width:100%;height:100%;left:0;top:0;border:none !important;\" allowfullscreen webkitallowfullscreen mozallowfullscreen></iframe></div></div>"
      ],
      "text/plain": [
       "<folium.folium.Map at 0x29311b775e0>"
      ]
     },
     "metadata": {},
     "output_type": "display_data"
    }
   ],
   "source": [
    "map_data = folium.Map(location=(40.2547, -75.3405), zoom_start = 11, width='70%', max_zoom=11, min_zoom=11)\n",
    "\n",
    "for lat, lng, twp in zip(map_plot_20.lat, map_plot_20.lng, map_plot_20.twp):\n",
    "    folium.Marker(\n",
    "    radius=1,\n",
    "    location=[lat, lng],\n",
    "    color='crimson',\n",
    "    popup=twp,\n",
    "    icon=folium.Icon(color='red'),\n",
    "    ).add_to(map_data)\n",
    "\n",
    "\n",
    "\n",
    "\n",
    "display(map_data)"
   ]
  },
  {
   "cell_type": "code",
   "execution_count": 54,
   "id": "dd2e4854",
   "metadata": {},
   "outputs": [
    {
     "data": {
      "text/html": [
       "<div>\n",
       "<style scoped>\n",
       "    .dataframe tbody tr th:only-of-type {\n",
       "        vertical-align: middle;\n",
       "    }\n",
       "\n",
       "    .dataframe tbody tr th {\n",
       "        vertical-align: top;\n",
       "    }\n",
       "\n",
       "    .dataframe thead th {\n",
       "        text-align: right;\n",
       "    }\n",
       "</style>\n",
       "<table border=\"1\" class=\"dataframe\">\n",
       "  <thead>\n",
       "    <tr style=\"text-align: right;\">\n",
       "      <th></th>\n",
       "      <th>lat</th>\n",
       "      <th>lng</th>\n",
       "      <th>desc</th>\n",
       "      <th>zip</th>\n",
       "      <th>title</th>\n",
       "      <th>timeStamp</th>\n",
       "      <th>twp</th>\n",
       "      <th>addr</th>\n",
       "      <th>e</th>\n",
       "    </tr>\n",
       "  </thead>\n",
       "  <tbody>\n",
       "    <tr>\n",
       "      <th>0</th>\n",
       "      <td>40.297876</td>\n",
       "      <td>-75.581294</td>\n",
       "      <td>REINDEER CT &amp; DEAD END;  NEW HANOVER; Station ...</td>\n",
       "      <td>19525.0</td>\n",
       "      <td>EMS: BACK PAINS/INJURY</td>\n",
       "      <td>2015-12-10 17:10:52</td>\n",
       "      <td>NEW HANOVER</td>\n",
       "      <td>REINDEER CT &amp; DEAD END</td>\n",
       "      <td>1</td>\n",
       "    </tr>\n",
       "    <tr>\n",
       "      <th>1</th>\n",
       "      <td>40.258061</td>\n",
       "      <td>-75.264680</td>\n",
       "      <td>BRIAR PATH &amp; WHITEMARSH LN;  HATFIELD TOWNSHIP...</td>\n",
       "      <td>19446.0</td>\n",
       "      <td>EMS: DIABETIC EMERGENCY</td>\n",
       "      <td>2015-12-10 17:29:21</td>\n",
       "      <td>HATFIELD TOWNSHIP</td>\n",
       "      <td>BRIAR PATH &amp; WHITEMARSH LN</td>\n",
       "      <td>1</td>\n",
       "    </tr>\n",
       "    <tr>\n",
       "      <th>2</th>\n",
       "      <td>40.121182</td>\n",
       "      <td>-75.351975</td>\n",
       "      <td>HAWS AVE; NORRISTOWN; 2015-12-10 @ 14:39:21-St...</td>\n",
       "      <td>19401.0</td>\n",
       "      <td>Fire: GAS-ODOR/LEAK</td>\n",
       "      <td>2015-12-10 14:39:21</td>\n",
       "      <td>NORRISTOWN</td>\n",
       "      <td>HAWS AVE</td>\n",
       "      <td>1</td>\n",
       "    </tr>\n",
       "    <tr>\n",
       "      <th>3</th>\n",
       "      <td>40.116153</td>\n",
       "      <td>-75.343513</td>\n",
       "      <td>AIRY ST &amp; SWEDE ST;  NORRISTOWN; Station 308A;...</td>\n",
       "      <td>19401.0</td>\n",
       "      <td>EMS: CARDIAC EMERGENCY</td>\n",
       "      <td>2015-12-10 16:47:36</td>\n",
       "      <td>NORRISTOWN</td>\n",
       "      <td>AIRY ST &amp; SWEDE ST</td>\n",
       "      <td>1</td>\n",
       "    </tr>\n",
       "    <tr>\n",
       "      <th>4</th>\n",
       "      <td>40.251492</td>\n",
       "      <td>-75.603350</td>\n",
       "      <td>CHERRYWOOD CT &amp; DEAD END;  LOWER POTTSGROVE; S...</td>\n",
       "      <td>NaN</td>\n",
       "      <td>EMS: DIZZINESS</td>\n",
       "      <td>2015-12-10 16:56:52</td>\n",
       "      <td>LOWER POTTSGROVE</td>\n",
       "      <td>CHERRYWOOD CT &amp; DEAD END</td>\n",
       "      <td>1</td>\n",
       "    </tr>\n",
       "  </tbody>\n",
       "</table>\n",
       "</div>"
      ],
      "text/plain": [
       "         lat        lng                                               desc  \\\n",
       "0  40.297876 -75.581294  REINDEER CT & DEAD END;  NEW HANOVER; Station ...   \n",
       "1  40.258061 -75.264680  BRIAR PATH & WHITEMARSH LN;  HATFIELD TOWNSHIP...   \n",
       "2  40.121182 -75.351975  HAWS AVE; NORRISTOWN; 2015-12-10 @ 14:39:21-St...   \n",
       "3  40.116153 -75.343513  AIRY ST & SWEDE ST;  NORRISTOWN; Station 308A;...   \n",
       "4  40.251492 -75.603350  CHERRYWOOD CT & DEAD END;  LOWER POTTSGROVE; S...   \n",
       "\n",
       "       zip                    title            timeStamp                twp  \\\n",
       "0  19525.0   EMS: BACK PAINS/INJURY  2015-12-10 17:10:52        NEW HANOVER   \n",
       "1  19446.0  EMS: DIABETIC EMERGENCY  2015-12-10 17:29:21  HATFIELD TOWNSHIP   \n",
       "2  19401.0      Fire: GAS-ODOR/LEAK  2015-12-10 14:39:21         NORRISTOWN   \n",
       "3  19401.0   EMS: CARDIAC EMERGENCY  2015-12-10 16:47:36         NORRISTOWN   \n",
       "4      NaN           EMS: DIZZINESS  2015-12-10 16:56:52   LOWER POTTSGROVE   \n",
       "\n",
       "                         addr  e  \n",
       "0      REINDEER CT & DEAD END  1  \n",
       "1  BRIAR PATH & WHITEMARSH LN  1  \n",
       "2                    HAWS AVE  1  \n",
       "3          AIRY ST & SWEDE ST  1  \n",
       "4    CHERRYWOOD CT & DEAD END  1  "
      ]
     },
     "execution_count": 54,
     "metadata": {},
     "output_type": "execute_result"
    }
   ],
   "source": [
    "data.head()"
   ]
  },
  {
   "cell_type": "code",
   "execution_count": 62,
   "id": "29bad0ce",
   "metadata": {},
   "outputs": [
    {
     "data": {
      "text/html": [
       "<div>\n",
       "<style scoped>\n",
       "    .dataframe tbody tr th:only-of-type {\n",
       "        vertical-align: middle;\n",
       "    }\n",
       "\n",
       "    .dataframe tbody tr th {\n",
       "        vertical-align: top;\n",
       "    }\n",
       "\n",
       "    .dataframe thead th {\n",
       "        text-align: right;\n",
       "    }\n",
       "</style>\n",
       "<table border=\"1\" class=\"dataframe\">\n",
       "  <thead>\n",
       "    <tr style=\"text-align: right;\">\n",
       "      <th></th>\n",
       "      <th>lat</th>\n",
       "      <th>lng</th>\n",
       "      <th>desc</th>\n",
       "      <th>zip</th>\n",
       "      <th>title</th>\n",
       "      <th>twp</th>\n",
       "      <th>addr</th>\n",
       "      <th>e</th>\n",
       "      <th>hour</th>\n",
       "      <th>day</th>\n",
       "      <th>month</th>\n",
       "      <th>year</th>\n",
       "      <th>reason</th>\n",
       "    </tr>\n",
       "  </thead>\n",
       "  <tbody>\n",
       "    <tr>\n",
       "      <th>0</th>\n",
       "      <td>40.297876</td>\n",
       "      <td>-75.581294</td>\n",
       "      <td>REINDEER CT &amp; DEAD END;  NEW HANOVER; Station ...</td>\n",
       "      <td>19525.0</td>\n",
       "      <td>EMS: BACK PAINS/INJURY</td>\n",
       "      <td>NEW HANOVER</td>\n",
       "      <td>REINDEER CT &amp; DEAD END</td>\n",
       "      <td>1</td>\n",
       "      <td>17</td>\n",
       "      <td>Thursday</td>\n",
       "      <td>12</td>\n",
       "      <td>2015</td>\n",
       "      <td>EMS</td>\n",
       "    </tr>\n",
       "    <tr>\n",
       "      <th>1</th>\n",
       "      <td>40.258061</td>\n",
       "      <td>-75.264680</td>\n",
       "      <td>BRIAR PATH &amp; WHITEMARSH LN;  HATFIELD TOWNSHIP...</td>\n",
       "      <td>19446.0</td>\n",
       "      <td>EMS: DIABETIC EMERGENCY</td>\n",
       "      <td>HATFIELD TOWNSHIP</td>\n",
       "      <td>BRIAR PATH &amp; WHITEMARSH LN</td>\n",
       "      <td>1</td>\n",
       "      <td>17</td>\n",
       "      <td>Thursday</td>\n",
       "      <td>12</td>\n",
       "      <td>2015</td>\n",
       "      <td>EMS</td>\n",
       "    </tr>\n",
       "    <tr>\n",
       "      <th>2</th>\n",
       "      <td>40.121182</td>\n",
       "      <td>-75.351975</td>\n",
       "      <td>HAWS AVE; NORRISTOWN; 2015-12-10 @ 14:39:21-St...</td>\n",
       "      <td>19401.0</td>\n",
       "      <td>Fire: GAS-ODOR/LEAK</td>\n",
       "      <td>NORRISTOWN</td>\n",
       "      <td>HAWS AVE</td>\n",
       "      <td>1</td>\n",
       "      <td>14</td>\n",
       "      <td>Thursday</td>\n",
       "      <td>12</td>\n",
       "      <td>2015</td>\n",
       "      <td>Fire</td>\n",
       "    </tr>\n",
       "    <tr>\n",
       "      <th>3</th>\n",
       "      <td>40.116153</td>\n",
       "      <td>-75.343513</td>\n",
       "      <td>AIRY ST &amp; SWEDE ST;  NORRISTOWN; Station 308A;...</td>\n",
       "      <td>19401.0</td>\n",
       "      <td>EMS: CARDIAC EMERGENCY</td>\n",
       "      <td>NORRISTOWN</td>\n",
       "      <td>AIRY ST &amp; SWEDE ST</td>\n",
       "      <td>1</td>\n",
       "      <td>16</td>\n",
       "      <td>Thursday</td>\n",
       "      <td>12</td>\n",
       "      <td>2015</td>\n",
       "      <td>EMS</td>\n",
       "    </tr>\n",
       "    <tr>\n",
       "      <th>4</th>\n",
       "      <td>40.251492</td>\n",
       "      <td>-75.603350</td>\n",
       "      <td>CHERRYWOOD CT &amp; DEAD END;  LOWER POTTSGROVE; S...</td>\n",
       "      <td>NaN</td>\n",
       "      <td>EMS: DIZZINESS</td>\n",
       "      <td>LOWER POTTSGROVE</td>\n",
       "      <td>CHERRYWOOD CT &amp; DEAD END</td>\n",
       "      <td>1</td>\n",
       "      <td>16</td>\n",
       "      <td>Thursday</td>\n",
       "      <td>12</td>\n",
       "      <td>2015</td>\n",
       "      <td>EMS</td>\n",
       "    </tr>\n",
       "  </tbody>\n",
       "</table>\n",
       "</div>"
      ],
      "text/plain": [
       "         lat        lng                                               desc  \\\n",
       "0  40.297876 -75.581294  REINDEER CT & DEAD END;  NEW HANOVER; Station ...   \n",
       "1  40.258061 -75.264680  BRIAR PATH & WHITEMARSH LN;  HATFIELD TOWNSHIP...   \n",
       "2  40.121182 -75.351975  HAWS AVE; NORRISTOWN; 2015-12-10 @ 14:39:21-St...   \n",
       "3  40.116153 -75.343513  AIRY ST & SWEDE ST;  NORRISTOWN; Station 308A;...   \n",
       "4  40.251492 -75.603350  CHERRYWOOD CT & DEAD END;  LOWER POTTSGROVE; S...   \n",
       "\n",
       "       zip                    title                twp  \\\n",
       "0  19525.0   EMS: BACK PAINS/INJURY        NEW HANOVER   \n",
       "1  19446.0  EMS: DIABETIC EMERGENCY  HATFIELD TOWNSHIP   \n",
       "2  19401.0      Fire: GAS-ODOR/LEAK         NORRISTOWN   \n",
       "3  19401.0   EMS: CARDIAC EMERGENCY         NORRISTOWN   \n",
       "4      NaN           EMS: DIZZINESS   LOWER POTTSGROVE   \n",
       "\n",
       "                         addr  e  hour       day  month  year reason  \n",
       "0      REINDEER CT & DEAD END  1    17  Thursday     12  2015    EMS  \n",
       "1  BRIAR PATH & WHITEMARSH LN  1    17  Thursday     12  2015    EMS  \n",
       "2                    HAWS AVE  1    14  Thursday     12  2015   Fire  \n",
       "3          AIRY ST & SWEDE ST  1    16  Thursday     12  2015    EMS  \n",
       "4    CHERRYWOOD CT & DEAD END  1    16  Thursday     12  2015    EMS  "
      ]
     },
     "execution_count": 62,
     "metadata": {},
     "output_type": "execute_result"
    }
   ],
   "source": [
    "data=df\n",
    "df.head()"
   ]
  }
 ],
 "metadata": {
  "kernelspec": {
   "display_name": "Python 3 (ipykernel)",
   "language": "python",
   "name": "python3"
  },
  "language_info": {
   "codemirror_mode": {
    "name": "ipython",
    "version": 3
   },
   "file_extension": ".py",
   "mimetype": "text/x-python",
   "name": "python",
   "nbconvert_exporter": "python",
   "pygments_lexer": "ipython3",
   "version": "3.9.12"
  }
 },
 "nbformat": 4,
 "nbformat_minor": 5
}
